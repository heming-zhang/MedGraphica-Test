{
 "cells": [
  {
   "cell_type": "markdown",
   "id": "f82e56ee",
   "metadata": {},
   "source": [
    "## 1.Download the datasets from UCSC website"
   ]
  },
  {
   "cell_type": "markdown",
   "id": "5a6562c1",
   "metadata": {},
   "source": [
    "### 1.1 Download the multi-omics data"
   ]
  },
  {
   "cell_type": "markdown",
   "id": "32751c87",
   "metadata": {},
   "source": [
    "* Parse the data from the UCSC Xena website in PANCAN cohort:\n",
    "https://xenabrowser.net/datapages/?cohort=TCGA%20Pan-Cancer%20(PANCAN)&removeHub=https%3A%2F%2Fxena.treehouse.gi.ucsc.edu%3A443\n",
    "\n",
    "<!-- * Copy number (gene-level) - gene-level copy number (gistic2_thresholded)\n",
    "    * Dataset: https://xenabrowser.net/datapages/?dataset=TCGA.PANCAN.sampleMap%2FGistic2_mutation_Gistic2_all_thresholded.by_genes&host=https%3A%2F%2Ftcga.xenahubs.net&removeHub=https%3A%2F%2Fxena.treehouse.gi.ucsc.edu%3A443 -->\n",
    "* Copy number - somatic mutation (SNP and INDEL) - Gene level non-silent mutation\n",
    "    * Dataset: https://xenabrowser.net/datapages/?dataset=mc3.v0.2.8.PUBLIC.nonsilentGene.xena&host=https%3A%2F%2Fpancanatlas.xenahubs.net&removeHub=https%3A%2F%2Fxena.treehouse.gi.ucsc.edu%3A443\n",
    "\n",
    "* DNA methylation (Methylation450K)\n",
    "    * Dataset: https://xenabrowser.net/datapages/?dataset=jhu-usc.edu_PANCAN_HumanMethylation450.betaValue_whitelisted.tsv.synapse_download_5096262.xena&host=https%3A%2F%2Fpancanatlas.xenahubs.net&removeHub=https%3A%2F%2Fxena.treehouse.gi.ucsc.edu%3A443\n",
    "    * ID Map: https://www.ncbi.nlm.nih.gov/geo/query/acc.cgi?acc=GPL16304\n",
    "\n",
    "* Gene expression RNAseq - TOIL RSEM fpkm\n",
    "    * Dataset: https://xenabrowser.net/datapages/?dataset=tcga_RSEM_gene_fpkm&host=https%3A%2F%2Ftoil.xenahubs.net&removeHub=https%3A%2F%2Fxena.treehouse.gi.ucsc.edu%3A443\n",
    "    \n",
    "* Protein expression - RPPA\n",
    "    * Dataset: https://xenabrowser.net/datapages/?dataset=TCGA-RPPA-pancan-clean.xena&host=https%3A%2F%2Fpancanatlas.xenahubs.net&removeHub=https%3A%2F%2Fxena.treehouse.gi.ucsc.edu%3A443"
   ]
  },
  {
   "cell_type": "markdown",
   "id": "05f98026",
   "metadata": {},
   "source": [
    "### 1.2 Download the clinical data"
   ]
  },
  {
   "cell_type": "markdown",
   "id": "912f1b28",
   "metadata": {},
   "source": [
    "### 1.2 Download the clinical data"
   ]
  },
  {
   "cell_type": "markdown",
   "id": "e1196e4a",
   "metadata": {},
   "source": [
    "* Phenotype - Curated clinical data\n",
    "    * Dataset: https://xenabrowser.net/datapages/?dataset=Survival_SupplementalTable_S1_20171025_xena_sp&host=https%3A%2F%2Fpancanatlas.xenahubs.net&removeHub=https%3A%2F%2Fxena.treehouse.gi.ucsc.edu%3A443\n",
    "\n",
    "* Phenotype - Immune subtype\n",
    "    * Dataset: https://xenabrowser.net/datapages/?dataset=Subtype_Immune_Model_Based.txt&host=https%3A%2F%2Fpancanatlas.xenahubs.net&removeHub=https%3A%2F%2Fxena.treehouse.gi.ucsc.edu%3A443\n",
    "\n",
    "* Phenotype - Molecular subtype\n",
    "    * Dataset: https://xenabrowser.net/datapages/?dataset=TCGASubtype.20170308.tsv&host=https%3A%2F%2Fpancanatlas.xenahubs.net&removeHub=https%3A%2F%2Fxena.treehouse.gi.ucsc.edu%3A443\n",
    "\n",
    "* Phenotype - sample type and primary disease\n",
    "    * Dataset: https://xenabrowser.net/datapages/?dataset=TCGA_phenotype_denseDataOnlyDownload.tsv&host=https%3A%2F%2Fpancanatlas.xenahubs.net&removeHub=https%3A%2F%2Fxena.treehouse.gi.ucsc.edu%3A443\n"
   ]
  },
  {
   "cell_type": "markdown",
   "id": "2c013cb4",
   "metadata": {},
   "source": [
    "## 2.Read the files"
   ]
  },
  {
   "cell_type": "markdown",
   "id": "1e17ed47",
   "metadata": {},
   "source": [
    "### 2.1 Read DNA methylation data"
   ]
  },
  {
   "cell_type": "code",
   "execution_count": null,
   "id": "27b4e2c5",
   "metadata": {},
   "outputs": [],
   "source": [
    "import pandas as pd"
   ]
  },
  {
   "cell_type": "code",
   "execution_count": null,
   "id": "f7b13f2b",
   "metadata": {},
   "outputs": [],
   "source": [
    "methylation_value = pd.read_csv('./UCSC-raw/jhu-usc.edu_PANCAN_HumanMethylation450.betaValue_whitelisted.tsv.synapse_download_5096262.xena', delimiter='\\t')"
   ]
  },
  {
   "cell_type": "code",
   "execution_count": null,
   "id": "1d15bd3a",
   "metadata": {},
   "outputs": [],
   "source": [
    "methylation_value"
   ]
  },
  {
   "cell_type": "markdown",
   "id": "2c2fd3d8",
   "metadata": {},
   "source": [
    "### 2.2 Read Platform annotations for 450k methylation "
   ]
  },
  {
   "cell_type": "code",
   "execution_count": null,
   "id": "a5144755",
   "metadata": {},
   "outputs": [],
   "source": [
    "import pandas as pd\n",
    "# Reading and processing basic data\n",
    "try:\n",
    "    annotation = pd.read_table('./UCSC-raw/GPL16304-47833.txt', delimiter='\\t')\n",
    "    annotation['Distance_closest_TSS'] = annotation['Distance_closest_TSS'].astype(int)\n",
    "    annotation = annotation[~annotation['Closest_TSS'].apply(lambda x: len(str(x).split(';')) > 1)]\n",
    "except ValueError as e:\n",
    "    print(f\"Unable to convert 'Closest_TSS' column to integer: {e}\")\n",
    "    problematic_rows = annotation['Distance_closest_TSS'].apply(lambda x: not str(x).isnumeric())\n",
    "    print(\"Problematic rows:\")\n",
    "    print(annotation.loc[problematic_rows])\n",
    "\n",
    "annotation"
   ]
  },
  {
   "cell_type": "code",
   "execution_count": null,
   "id": "795ee450",
   "metadata": {},
   "outputs": [],
   "source": [
    "map_annotation= annotation[['ID', 'Closest_TSS','Closest_TSS_gene_name', 'Distance_closest_TSS']]\n",
    "map_annotation"
   ]
  },
  {
   "cell_type": "markdown",
   "id": "06fd142d",
   "metadata": {},
   "source": [
    "### 2.3 Read mutation data"
   ]
  },
  {
   "cell_type": "code",
   "execution_count": null,
   "id": "659fb78a",
   "metadata": {},
   "outputs": [],
   "source": [
    "# copynumber = pd.read_csv('./UCSC-raw/Gistic2_CopyNumber_Gistic2_all_thresholded.by_genes',sep='\\t')\n",
    "# copynumber\n",
    "mutation = pd.read_csv('./UCSC-raw/mc3.v0.2.8.PUBLIC.nonsilentGene.xena',sep='\\t')\n",
    "mutation"
   ]
  },
  {
   "cell_type": "code",
   "execution_count": null,
   "id": "c015d049",
   "metadata": {},
   "outputs": [],
   "source": [
    "original_gene_names = mutation['sample'].copy()\n",
    "\n",
    "# Use a regular expression to remove the period and any characters following it\n",
    "mutation['sample'] = mutation['sample'].str.replace(r'\\..*', '', regex=True)\n",
    "\n",
    "# Determine how many rows were changed by comparing the new values to the original ones\n",
    "rows_changed = (original_gene_names != mutation['sample']).sum()\n",
    "\n",
    "# Output the updated DataFrame and the number of rows that were changed\n",
    "mutation, rows_changed"
   ]
  },
  {
   "cell_type": "markdown",
   "id": "1b5ca523",
   "metadata": {},
   "source": [
    "### 2.4 Read gene expression data, mapping information and substitue the the gene name, and import Ensembl Dataset as a standard"
   ]
  },
  {
   "cell_type": "code",
   "execution_count": null,
   "id": "988b58cf",
   "metadata": {},
   "outputs": [],
   "source": [
    "gene_expression = pd.read_csv('./UCSC-raw/tcga_RSEM_gene_fpkm', sep='\\t')\n",
    "gene_expression"
   ]
  },
  {
   "cell_type": "code",
   "execution_count": null,
   "id": "5021d202",
   "metadata": {},
   "outputs": [],
   "source": [
    "gene_expression_map = pd.read_csv('./UCSC-raw/probeMap_gencode.v23.annotation.gene.probemap', sep='\\t')"
   ]
  },
  {
   "cell_type": "code",
   "execution_count": null,
   "id": "79a01371",
   "metadata": {},
   "outputs": [],
   "source": [
    "gene_expression_map"
   ]
  },
  {
   "cell_type": "code",
   "execution_count": null,
   "id": "884042e4",
   "metadata": {},
   "outputs": [],
   "source": [
    "expression_merged = pd.merge(gene_expression, gene_expression_map, left_on='sample', right_on='id', how='left')"
   ]
  },
  {
   "cell_type": "code",
   "execution_count": null,
   "id": "f7b5d069",
   "metadata": {},
   "outputs": [],
   "source": [
    "expression_merged.drop(columns=['sample','chrom', 'chromStart','chromEnd','strand','id'], inplace=True)"
   ]
  },
  {
   "cell_type": "code",
   "execution_count": null,
   "id": "7667c3f5",
   "metadata": {},
   "outputs": [],
   "source": [
    "# set gene to the first column\n",
    "cols = ['gene'] + [col for col in expression_merged if col != 'gene']\n",
    "gene_expression = expression_merged[cols]"
   ]
  },
  {
   "cell_type": "code",
   "execution_count": null,
   "id": "8ba98336",
   "metadata": {},
   "outputs": [],
   "source": [
    "gene_expression "
   ]
  },
  {
   "cell_type": "code",
   "execution_count": null,
   "id": "03075fe4",
   "metadata": {},
   "outputs": [],
   "source": [
    "original_gene_names = gene_expression['gene'].copy()\n",
    "\n",
    "# Use a regular expression to remove the period and any characters following it\n",
    "gene_expression['gene'] = gene_expression['gene'].str.replace(r'\\..*', '', regex=True)\n",
    "\n",
    "# Determine how many rows were changed by comparing the new values to the original ones\n",
    "rows_changed = (original_gene_names != gene_expression['gene']).sum()\n",
    "\n",
    "# Output the updated DataFrame and the number of rows that were changed\n",
    "gene_expression, rows_changed"
   ]
  },
  {
   "cell_type": "code",
   "execution_count": null,
   "id": "4fd62ca5",
   "metadata": {},
   "outputs": [],
   "source": [
    "# this will be used in part4\n",
    "ensembl_data_unique_gene = pd.read_csv(\"./UCSC-raw/Meta-Data/mart_export_unique_gene.txt\")\n",
    "ensembl_data_unique_gene"
   ]
  },
  {
   "cell_type": "markdown",
   "id": "7dcfd8c8",
   "metadata": {},
   "source": [
    "### 2.5 Read clinical data"
   ]
  },
  {
   "cell_type": "code",
   "execution_count": null,
   "id": "fda02764",
   "metadata": {},
   "outputs": [],
   "source": [
    "survival = pd.read_csv('./UCSC-raw/Survival_SupplementalTable_S1_20171025_xena_sp', sep='\\t')"
   ]
  },
  {
   "cell_type": "code",
   "execution_count": null,
   "id": "3f3fb665",
   "metadata": {},
   "outputs": [],
   "source": [
    "survival"
   ]
  },
  {
   "cell_type": "markdown",
   "id": "59ef08bd",
   "metadata": {},
   "source": [
    "### 2.6 Read immune subtype data"
   ]
  },
  {
   "cell_type": "code",
   "execution_count": null,
   "id": "0eb81830",
   "metadata": {},
   "outputs": [],
   "source": [
    "immune_subtype = pd.read_csv('./UCSC-raw/Subtype_Immune_Model_Based.txt',sep='\\t')"
   ]
  },
  {
   "cell_type": "code",
   "execution_count": null,
   "id": "28b83c94",
   "metadata": {},
   "outputs": [],
   "source": [
    "immune_subtype"
   ]
  },
  {
   "cell_type": "markdown",
   "id": "a572ec1e",
   "metadata": {},
   "source": [
    "### 2.7 Read proteomics data"
   ]
  },
  {
   "cell_type": "code",
   "execution_count": null,
   "id": "616e7abc",
   "metadata": {},
   "outputs": [],
   "source": [
    "protein = pd.read_csv('./UCSC-raw/TCGA-RPPA-pancan-clean.xena',sep='\\t')"
   ]
  },
  {
   "cell_type": "code",
   "execution_count": null,
   "id": "9d4385da",
   "metadata": {},
   "outputs": [],
   "source": [
    "protein"
   ]
  },
  {
   "cell_type": "markdown",
   "id": "43152c82",
   "metadata": {},
   "source": [
    "### 2.8 Read molecular subtype"
   ]
  },
  {
   "cell_type": "code",
   "execution_count": null,
   "id": "e4aebe0c",
   "metadata": {},
   "outputs": [],
   "source": [
    "cellsub = pd.read_csv('./UCSC-raw/TCGASubtype.20170308.tsv', sep='\\t')"
   ]
  },
  {
   "cell_type": "code",
   "execution_count": null,
   "id": "434cf0fc",
   "metadata": {},
   "outputs": [],
   "source": [
    "cellsub"
   ]
  },
  {
   "cell_type": "markdown",
   "id": "15538083",
   "metadata": {},
   "source": [
    "### 2.9 Read sample type and primary disease"
   ]
  },
  {
   "cell_type": "code",
   "execution_count": null,
   "id": "ec3af07c",
   "metadata": {},
   "outputs": [],
   "source": [
    "dense = pd.read_csv('./UCSC-raw/TCGA_phenotype_denseDataOnlyDownload.tsv', sep='\\t')"
   ]
  },
  {
   "cell_type": "code",
   "execution_count": null,
   "id": "5e0c927c",
   "metadata": {},
   "outputs": [],
   "source": [
    "dense"
   ]
  },
  {
   "cell_type": "markdown",
   "id": "e73f16ca",
   "metadata": {},
   "source": [
    "### 2.10 Unify patient samples within methylation, copynumer,  gene expression, clinical, proteomics, molecular subtype, and sample type, primary disease datasets"
   ]
  },
  {
   "cell_type": "code",
   "execution_count": null,
   "id": "80d215fb",
   "metadata": {},
   "outputs": [],
   "source": [
    "# molecular subtype\n",
    "cellsub.rename(columns={'sampleID': 'sample'}, inplace=True)\n",
    "cellsub"
   ]
  },
  {
   "cell_type": "code",
   "execution_count": null,
   "id": "73383c5b",
   "metadata": {},
   "outputs": [],
   "source": [
    "# Upstream_df_filtered, Distal_Promoter_df_filtered, Proximal_Promoter_df_filtered, Core_Promoter_df_filtered, Downstream_df_filtered\n",
    "# mutation_filtered, gene_expression_filtered\n",
    "# survival, protein, cellsub, dense\n",
    "\n",
    "# Extract column names starting with 'TCGA' from methylation datasets\n",
    "tcga_columns_methylation = [col for col in methylation_value.columns if col.startswith('TCGA')]\n",
    "\n",
    "# Extract 'TCGA' columns from other datasets\n",
    "tcga_columns_mutation = [col for col in mutation.columns if col.startswith('TCGA')]\n",
    "tcga_columns_gene_expression = [col for col in gene_expression.columns if col.startswith('TCGA')]\n",
    "tcga_columns_survival = [col for col in survival['sample'] if col.startswith('TCGA')]\n",
    "tcga_columns_protein = [col for col in protein.columns if col.startswith('TCGA')]\n",
    "tcga_columns_cellsub = [col for col in cellsub['sample'] if col.startswith('TCGA')]\n",
    "tcga_columns_dense = [col for col in dense['sample'] if col.startswith('TCGA')]\n",
    "tcga_columns_immune_subtype = [col for col in immune_subtype['sample'] if col.startswith('TCGA')]\n",
    "# Find the intersection of TCGA column names across all DataFrames\n",
    "common_tcga_columns = set(tcga_columns_methylation) & set(tcga_columns_mutation) & set(tcga_columns_gene_expression) & set(tcga_columns_survival) & set(tcga_columns_protein) & set(tcga_columns_cellsub) & set(tcga_columns_dense) & set(tcga_columns_immune_subtype)\n",
    "\n",
    "# Convert the intersection back to a list, if needed\n",
    "common_tcga_columns_list = sorted(list(common_tcga_columns))\n",
    "\n",
    "# Print the number and the list of common TCGA columns\n",
    "print(f\"Number of common TCGA columns: {len(common_tcga_columns)}\")"
   ]
  },
  {
   "cell_type": "code",
   "execution_count": null,
   "id": "a25a96b3",
   "metadata": {},
   "outputs": [],
   "source": [
    "# Define columns to keep along with common TCGA columns\n",
    "additional_cols_methylation = ['sample']\n",
    "\n",
    "# Filter each methylation DataFrame\n",
    "methylation_value = methylation_value[additional_cols_methylation + common_tcga_columns_list]\n"
   ]
  },
  {
   "cell_type": "code",
   "execution_count": null,
   "id": "e9cb9248",
   "metadata": {},
   "outputs": [],
   "source": [
    "methylation_value"
   ]
  },
  {
   "cell_type": "code",
   "execution_count": null,
   "id": "8e751a9e",
   "metadata": {},
   "outputs": [],
   "source": [
    "# Define columns to keep along with common TCGA columns\n",
    "additional_cols_mutation = ['sample']\n",
    "\n",
    "# Filter the mutation DataFrame\n",
    "mutation = mutation[additional_cols_mutation + common_tcga_columns_list]\n",
    "mutation"
   ]
  },
  {
   "cell_type": "code",
   "execution_count": null,
   "id": "ff304a6d",
   "metadata": {},
   "outputs": [],
   "source": [
    "# Define columns to keep along with common TCGA columns\n",
    "additional_cols_gene_expression = ['gene']\n",
    "\n",
    "# Filter the gene expression DataFrame\n",
    "gene_expression = gene_expression[additional_cols_gene_expression + common_tcga_columns_list]\n",
    "gene_expression"
   ]
  },
  {
   "cell_type": "code",
   "execution_count": null,
   "id": "e4e4465e",
   "metadata": {},
   "outputs": [],
   "source": [
    "# Define columns to keep along with common TCGA columns\n",
    "additional_cols_protein = ['SampleID']\n",
    "\n",
    "# Filter the protein DataFrame\n",
    "protein = protein[additional_cols_protein + common_tcga_columns_list]\n",
    "protein"
   ]
  },
  {
   "cell_type": "code",
   "execution_count": null,
   "id": "7bb23a02",
   "metadata": {},
   "outputs": [],
   "source": [
    "# Filter rows based on common TCGA identifiers\n",
    "immune_subtype_filtered = immune_subtype[immune_subtype['sample'].isin(common_tcga_columns_list)]\n",
    "immune_subtype_filtered = immune_subtype_filtered.sort_values(by=['sample']).reset_index(drop=True)\n",
    "\n",
    "survival_filtered = survival[survival['sample'].isin(common_tcga_columns_list)]\n",
    "survival_filtered = survival_filtered.sort_values(by=['sample']).reset_index(drop=True)\n",
    "\n",
    "cellsub.rename(columns={'sampleID': 'sample'}, inplace=True)\n",
    "cellsub_filtered = cellsub[cellsub['sample'].isin(common_tcga_columns_list)]\n",
    "cellsub_filtered = cellsub_filtered.sort_values(by=['sample']).reset_index(drop=True)\n",
    "\n",
    "dense_filtered = dense[dense['sample'].isin(common_tcga_columns_list)]\n",
    "dense_filtered = dense_filtered.sort_values(by=['sample']).reset_index(drop=True)"
   ]
  },
  {
   "cell_type": "code",
   "execution_count": null,
   "id": "d29dba44",
   "metadata": {},
   "outputs": [],
   "source": [
    "immune_subtype_filtered"
   ]
  },
  {
   "cell_type": "markdown",
   "id": "1f0c2026",
   "metadata": {},
   "source": [
    "## 3.Methylation data process"
   ]
  },
  {
   "cell_type": "markdown",
   "id": "3e23e6e4",
   "metadata": {},
   "source": [
    "### 3.1 Define methylation region"
   ]
  },
  {
   "cell_type": "code",
   "execution_count": null,
   "id": "d62d283a",
   "metadata": {},
   "outputs": [],
   "source": [
    "import pandas as pd\n",
    "import numpy as np\n",
    "\n",
    "#Define vectorized area determination function for methylation data\n",
    "def vectorized_determine_region(distances):\n",
    "    regions = ['Upstream', 'Distal Promoter', 'Proximal Promoter', 'Core Promoter', 'Downstream']\n",
    "    conditions = [\n",
    "        (-6000 <= distances) & (distances < -3000),\n",
    "        (-3000 <= distances) & (distances < -250),\n",
    "        (-250 <= distances) & (distances < -50),\n",
    "        (-50 <= distances) & (distances <= 0),\n",
    "        (0 < distances) & (distances <= 3000)\n",
    "    ]\n",
    "    return np.select(conditions, regions, default=None)"
   ]
  },
  {
   "cell_type": "markdown",
   "id": "38b53554",
   "metadata": {},
   "source": [
    "### 3.2 Merge the annotation files to the methylation data and apply region function"
   ]
  },
  {
   "cell_type": "code",
   "execution_count": null,
   "id": "9e90a582",
   "metadata": {},
   "outputs": [],
   "source": [
    "# Merging basic data and methylation data\n",
    "methylation_merged_df = pd.merge(map_annotation, methylation_value, left_on='ID', right_on='sample', how='right')\n",
    "\n",
    "# Determining the region for each row outside the loop\n",
    "methylation_merged_df['Region'] = vectorized_determine_region(methylation_merged_df['Distance_closest_TSS'])\n",
    "\n",
    "methylation_merged_df = methylation_merged_df.dropna(subset=['Region'])  # Remove rows without a region\n",
    "\n",
    "# Initializing a dictionary to store data for each region\n",
    "regions_data = {region: pd.DataFrame() for region in [\"Upstream\", \"Distal Promoter\", \"Proximal Promoter\", \"Core Promoter\", \"Downstream\"]}"
   ]
  },
  {
   "cell_type": "code",
   "execution_count": null,
   "id": "d03483e3",
   "metadata": {},
   "outputs": [],
   "source": [
    "methylation_merged_df"
   ]
  },
  {
   "cell_type": "code",
   "execution_count": null,
   "id": "c7ebd64c",
   "metadata": {},
   "outputs": [],
   "source": [
    "# Delete the 'sample' column\n",
    "methylation_merged_df = methylation_merged_df.drop('sample', axis=1)\n",
    "# Delete the 'ID' column\n",
    "methylation_merged_df = methylation_merged_df.drop('ID', axis=1)\n",
    "# Delete the 'Distance_closest_TSS' column\n",
    "methylation_merged_df = methylation_merged_df.drop('Distance_closest_TSS', axis=1)\n"
   ]
  },
  {
   "cell_type": "code",
   "execution_count": null,
   "id": "6b7650c9",
   "metadata": {},
   "outputs": [],
   "source": [
    "methylation_merged_df"
   ]
  },
  {
   "cell_type": "code",
   "execution_count": null,
   "id": "d95ee5b7",
   "metadata": {},
   "outputs": [],
   "source": [
    "original_gene_names = methylation_merged_df['Closest_TSS_gene_name'].copy()\n",
    "\n",
    "# Use a regular expression to remove the period and any characters following it\n",
    "methylation_merged_df['Closest_TSS_gene_name'] = methylation_merged_df['Closest_TSS_gene_name'].str.replace(r'\\..*', '', regex=True)\n",
    "\n",
    "# Determine how many rows were changed by comparing the new values to the original ones\n",
    "rows_changed = (original_gene_names != methylation_merged_df['Closest_TSS_gene_name']).sum()\n",
    "\n",
    "# Output the updated DataFrame and the number of rows that were changed\n",
    "methylation_merged_df, rows_changed"
   ]
  },
  {
   "cell_type": "code",
   "execution_count": null,
   "id": "c2459ff7",
   "metadata": {},
   "outputs": [],
   "source": [
    "methylation_merged_df['Closest_TSS'] = methylation_merged_df['Closest_TSS'].astype(int)\n",
    "methylation_merged_df['Closest_TSS_gene_name'] = methylation_merged_df['Closest_TSS_gene_name'].astype(str)\n",
    "methylation_merged_df['Region'] = methylation_merged_df['Region'].astype(str)"
   ]
  },
  {
   "cell_type": "code",
   "execution_count": null,
   "id": "ac9803f2",
   "metadata": {},
   "outputs": [],
   "source": [
    "print(methylation_merged_df[['Closest_TSS', 'Closest_TSS_gene_name', 'Region']].dtypes)"
   ]
  },
  {
   "cell_type": "markdown",
   "id": "c6df49e8",
   "metadata": {},
   "source": [
    "### 3.3 Calculate the average methylation value of five regions"
   ]
  },
  {
   "cell_type": "code",
   "execution_count": null,
   "id": "17e307b5",
   "metadata": {},
   "outputs": [],
   "source": [
    "# find columns not started with 'TCGA'\n",
    "non_tcga_columns = methylation_merged_df.filter(regex='^(?!TCGA)').columns\n",
    "\n",
    "print(\"Columns not starting with TCGA:\")\n",
    "print(non_tcga_columns)"
   ]
  },
  {
   "cell_type": "code",
   "execution_count": null,
   "id": "abc89f14",
   "metadata": {},
   "outputs": [],
   "source": [
    "# obtain all regions\n",
    "regions = methylation_merged_df['Region'].unique()\n",
    "regions"
   ]
  },
  {
   "cell_type": "code",
   "execution_count": null,
   "id": "c7a92755",
   "metadata": {},
   "outputs": [],
   "source": [
    "import pandas as pd\n",
    "# Initialize empty DataFrames for each region\n",
    "Upstream_df = pd.DataFrame()\n",
    "Distal_Promoter_df = pd.DataFrame()\n",
    "Proximal_Promoter_df = pd.DataFrame()\n",
    "Core_Promoter_df = pd.DataFrame()\n",
    "Downstream_df = pd.DataFrame()\n",
    "\n",
    "# Operate on each region\n",
    "for region in regions:\n",
    "    # Get all data for this region\n",
    "    region_data = methylation_merged_df[methylation_merged_df['Region'] == region]\n",
    "    \n",
    "    # Group and calculate the average for each (TSS, Region) combination\n",
    "    grouped = region_data.groupby(['Closest_TSS_gene_name', 'Region'], as_index=False).mean()\n",
    "    \n",
    "    # Since we split the data into different files based on Region, we can delete this column\n",
    "    grouped = grouped.drop(columns=['Region'])\n",
    "    \n",
    "    # Print the shape of the grouped data\n",
    "    print(f\"Shape of {region}: {grouped.shape}\")\n",
    "    \n",
    "    # Assign the grouped data to the respective DataFrame\n",
    "    if region == 'Upstream':\n",
    "        Upstream_df = grouped\n",
    "    elif region == 'Distal Promoter':\n",
    "        Distal_Promoter_df = grouped\n",
    "    elif region == 'Proximal Promoter':\n",
    "        Proximal_Promoter_df = grouped\n",
    "    elif region == 'Core Promoter':\n",
    "        Core_Promoter_df = grouped\n",
    "    elif region == 'Downstream':\n",
    "        Downstream_df = grouped\n",
    "\n",
    "    # Optionally, save the data for this region to a new csv file\n",
    "    # grouped.to_csv(f\"{region}_averaged_tss_data.csv\", index=False)\n"
   ]
  },
  {
   "cell_type": "markdown",
   "id": "b44016c9",
   "metadata": {},
   "source": [
    "### 3.4 Unify gene and TSS for five methylation value files"
   ]
  },
  {
   "cell_type": "code",
   "execution_count": null,
   "id": "8a23c454",
   "metadata": {},
   "outputs": [],
   "source": [
    "import pandas as pd\n",
    "\n",
    "# from methylation files above DataFrame \n",
    "dfs = [Upstream_df, Distal_Promoter_df, Proximal_Promoter_df, Core_Promoter_df, Downstream_df]\n",
    "\n",
    "# merge those files to find all combos \n",
    "all_genes_tss = pd.concat(dfs)['Closest_TSS_gene_name'].drop_duplicates()"
   ]
  },
  {
   "cell_type": "code",
   "execution_count": null,
   "id": "8116e5da",
   "metadata": {},
   "outputs": [],
   "source": [
    "all_genes_tss"
   ]
  },
  {
   "cell_type": "code",
   "execution_count": null,
   "id": "c15e8a3d",
   "metadata": {},
   "outputs": [],
   "source": [
    "# Merge unique combinations back into each DataFrame and fill NaN values with 0\n",
    "# Upstream\n",
    "Upstream_df = pd.merge(all_genes_tss, Upstream_df, on=['Closest_TSS_gene_name'], how='outer').fillna(0)\n",
    "print(f\"Shape of Upstream_df: {Upstream_df.shape}\")\n",
    "\n",
    "# Distal Promoter\n",
    "Distal_Promoter_df = pd.merge(all_genes_tss, Distal_Promoter_df, on=['Closest_TSS_gene_name'], how='outer').fillna(0)\n",
    "print(f\"Shape of Distal_Promoter_df: {Distal_Promoter_df.shape}\")\n",
    "\n",
    "# Proximal Promoter\n",
    "Proximal_Promoter_df = pd.merge(all_genes_tss, Proximal_Promoter_df, on=['Closest_TSS_gene_name'], how='outer').fillna(0)\n",
    "print(f\"Shape of Proximal_Promoter_df: {Proximal_Promoter_df.shape}\")\n",
    "\n",
    "# Core Promoter\n",
    "Core_Promoter_df = pd.merge(all_genes_tss, Core_Promoter_df, on=['Closest_TSS_gene_name'], how='outer').fillna(0)\n",
    "print(f\"Shape of Core_Promoter_df: {Core_Promoter_df.shape}\")\n",
    "\n",
    "# Downstream\n",
    "Downstream_df = pd.merge(all_genes_tss, Downstream_df, on=['Closest_TSS_gene_name'], how='outer').fillna(0)\n",
    "print(f\"Shape of Downstream_df: {Downstream_df.shape}\")"
   ]
  },
  {
   "cell_type": "markdown",
   "id": "1cec3601",
   "metadata": {},
   "source": [
    "## 4.Unify genes"
   ]
  },
  {
   "cell_type": "markdown",
   "id": "d9ff09f0",
   "metadata": {},
   "source": [
    "### 4.1 Unify gene and TSS for methylation, copynumer, and gene expression data"
   ]
  },
  {
   "cell_type": "code",
   "execution_count": null,
   "id": "65df6203",
   "metadata": {},
   "outputs": [],
   "source": [
    "mutation.rename(columns={'sample': 'gene_name'}, inplace=True)\n",
    "mutation = mutation.dropna(subset=['gene_name'])\n",
    "mutation = mutation.groupby('gene_name', as_index=False).mean()\n",
    "mutation = mutation.sort_values(by=['gene_name']).reset_index(drop=True)\n",
    "mutation"
   ]
  },
  {
   "cell_type": "code",
   "execution_count": null,
   "id": "028d812d",
   "metadata": {},
   "outputs": [],
   "source": [
    "gene_expression.rename(columns={'gene': 'gene_name'}, inplace=True)\n",
    "gene_expression = gene_expression.dropna(subset=['gene_name'])\n",
    "gene_expression = gene_expression.groupby('gene_name', as_index=False).mean()\n",
    "gene_expression = gene_expression.sort_values(by=['gene_name']).reset_index(drop=True)\n",
    "gene_expression"
   ]
  },
  {
   "cell_type": "code",
   "execution_count": null,
   "id": "a589f921",
   "metadata": {},
   "outputs": [],
   "source": [
    "protein.rename(columns={'SampleID': 'gene_name'}, inplace=True)\n",
    "protein = protein.dropna(subset=['gene_name'])\n",
    "protein = protein.groupby('gene_name', as_index=False).mean()\n",
    "protein = protein.sort_values(by=['gene_name']).reset_index(drop=True)\n",
    "protein"
   ]
  },
  {
   "cell_type": "code",
   "execution_count": null,
   "id": "9989681c",
   "metadata": {},
   "outputs": [],
   "source": [
    "# Upstream\n",
    "Upstream_df.rename(columns={'Closest_TSS_gene_name': 'gene_name'}, inplace=True)\n",
    "Upstream_df = Upstream_df.dropna(subset=['gene_name'])\n",
    "Upstream_df = Upstream_df.groupby('gene_name', as_index=False).mean()\n",
    "Upstream_df = Upstream_df.sort_values(by=['gene_name']).reset_index(drop=True)\n",
    "# Find indices where 'row_name' is 'unknown'\n",
    "Upstream_indices_to_drop = Upstream_df[Upstream_df['gene_name'] == 'unknown'].index\n",
    "Upstream_df.drop(Upstream_indices_to_drop, inplace=True)\n",
    "\n",
    "# Distal Promoter\n",
    "Distal_Promoter_df.rename(columns={'Closest_TSS_gene_name': 'gene_name'}, inplace=True)\n",
    "Distal_Promoter_df = Distal_Promoter_df.dropna(subset=['gene_name'])\n",
    "Distal_Promoter_df = Distal_Promoter_df.groupby('gene_name', as_index=False).mean()\n",
    "Distal_Promoter_df = Distal_Promoter_df.sort_values(by=['gene_name']).reset_index(drop=True)\n",
    "# Find indices where 'row_name' is 'unknown'\n",
    "Distal_Promoter_indices_to_drop = Distal_Promoter_df[Distal_Promoter_df['gene_name'] == 'unknown'].index\n",
    "Distal_Promoter_df.drop(Distal_Promoter_indices_to_drop, inplace=True)\n",
    "\n",
    "# Proximal Promoter\n",
    "Proximal_Promoter_df.rename(columns={'Closest_TSS_gene_name': 'gene_name'}, inplace=True)\n",
    "Proximal_Promoter_df = Proximal_Promoter_df.dropna(subset=['gene_name'])\n",
    "Proximal_Promoter_df = Proximal_Promoter_df.groupby('gene_name', as_index=False).mean()\n",
    "Proximal_Promoter_df = Proximal_Promoter_df.sort_values(by=['gene_name']).reset_index(drop=True)\n",
    "# Find indices where 'row_name' is 'unknown'\n",
    "Proximal_Promoter_indices_to_drop = Proximal_Promoter_df[Proximal_Promoter_df['gene_name'] == 'unknown'].index\n",
    "Proximal_Promoter_df.drop(Proximal_Promoter_indices_to_drop, inplace=True)\n",
    "\n",
    "# Core Promoter\n",
    "Core_Promoter_df.rename(columns={'Closest_TSS_gene_name': 'gene_name'}, inplace=True)\n",
    "Core_Promoter_df = Core_Promoter_df.dropna(subset=['gene_name'])\n",
    "Core_Promoter_df = Core_Promoter_df.groupby('gene_name', as_index=False).mean()\n",
    "Core_Promoter_df = Core_Promoter_df.sort_values(by=['gene_name']).reset_index(drop=True)\n",
    "# Find indices where 'row_name' is 'unknown'\n",
    "Core_Promoter_indices_to_drop = Core_Promoter_df[Core_Promoter_df['gene_name'] == 'unknown'].index\n",
    "Core_Promoter_df.drop(Core_Promoter_indices_to_drop, inplace=True)\n",
    "\n",
    "# Downstream\n",
    "Downstream_df.rename(columns={'Closest_TSS_gene_name': 'gene_name'}, inplace=True)\n",
    "Downstream_df = Downstream_df.dropna(subset=['gene_name'])\n",
    "Downstream_df = Downstream_df.groupby('gene_name', as_index=False).mean()\n",
    "Downstream_df = Downstream_df.sort_values(by=['gene_name']).reset_index(drop=True)\n",
    "# Find indices where 'row_name' is 'unknown'\n",
    "Downstream_indices_to_drop = Downstream_df[Downstream_df['gene_name'] == 'unknown'].index\n",
    "Downstream_df.drop(Downstream_indices_to_drop, inplace=True)\n",
    "\n",
    "display(Upstream_df)\n",
    "display(Distal_Promoter_df)\n",
    "display(Proximal_Promoter_df)\n",
    "display(Core_Promoter_df)\n",
    "display(Downstream_df)"
   ]
  },
  {
   "cell_type": "code",
   "execution_count": null,
   "id": "f88095f1",
   "metadata": {},
   "outputs": [],
   "source": [
    "Upstream_df.head()"
   ]
  },
  {
   "cell_type": "code",
   "execution_count": null,
   "id": "f6ebe0ec",
   "metadata": {},
   "outputs": [],
   "source": [
    "mutation = mutation[mutation['gene_name'].isin(ensembl_data_unique_gene['Gene name'])]\n",
    "gene_expression = gene_expression[gene_expression['gene_name'].isin(ensembl_data_unique_gene['Gene name'])]\n",
    "Upstream_df = Upstream_df[Upstream_df['gene_name'].isin(ensembl_data_unique_gene['Gene name'])]\n",
    "protein = protein[protein['gene_name'].isin(ensembl_data_unique_gene['Gene name'])]"
   ]
  },
  {
   "cell_type": "code",
   "execution_count": null,
   "id": "86fb3187",
   "metadata": {},
   "outputs": [],
   "source": [
    "import pandas as pd\n",
    "\n",
    "# Convert the gene name columns from each DataFrame to sets\n",
    "mutation_genes = set(mutation['gene_name'])\n",
    "print(f\"Number of mutation genes: {len(mutation_genes)}\")\n",
    "gene_expression_genes = set(gene_expression['gene_name'])\n",
    "print(f\"Number of gene expression genes: {len(gene_expression_genes)}\")\n",
    "methylation_genes = set(Upstream_df['gene_name'])\n",
    "print(f\"Number of methylation genes: {len(methylation_genes)}\")\n",
    "protein_genes = set(protein['gene_name'])\n",
    "print(f\"Number of protein genes: {len(protein_genes)}\")\n",
    "# Find the intersection of the three sets\n",
    "common_genes = mutation_genes | gene_expression_genes | methylation_genes | protein_genes\n",
    "\n",
    "# Convert the intersection back to a list, if needed\n",
    "common_genes_list = list(common_genes)\n",
    "\n",
    "# Print the number of common genes\n",
    "print(f\"Number of common genes: {len(common_genes)}\")"
   ]
  },
  {
   "cell_type": "code",
   "execution_count": null,
   "id": "1f2512dd",
   "metadata": {},
   "outputs": [],
   "source": [
    "#count the Transcript type\n",
    "ensembl_data_type = pd.read_csv(\"./UCSC-raw/Meta-Data/mart_export.txt\")\n",
    "ensembl_data_type= ensembl_data_type.rename(columns={'Gene name': 'gene_name'})\n",
    "ensembl_data_type = ensembl_data_type.drop_duplicates(subset='gene_name', keep='first')\n",
    "ensembl_data_type\n",
    "# Now, merge the two dataframes on the 'gene_name' column\n",
    "Upstream_df_transcript = pd.merge(Upstream_df, ensembl_data_type, on='gene_name', how='left')\n",
    "protein_coding_count = (Upstream_df_transcript['Transcript type'] == 'protein_coding').sum()\n",
    "print(f'Number of rows with \"protein_coding\": {protein_coding_count}')\n",
    "\n",
    "protein_transcript = pd.merge(protein, ensembl_data_type, on='gene_name', how='left')\n",
    "protein_coding_count = (protein_transcript['Transcript type'] == 'protein_coding').sum()\n",
    "print(f'Number of rows with \"protein_coding\": {protein_coding_count}')\n",
    "\n",
    "mutation_transcript = pd.merge(mutation, ensembl_data_type, on='gene_name', how='left')\n",
    "protein_coding_count = (mutation_transcript['Transcript type'] == 'protein_coding').sum()\n",
    "print(f'Number of rows with \"protein_coding\": {protein_coding_count}')\n",
    "\n",
    "gene_expression_transcript = pd.merge(gene_expression, ensembl_data_type, on='gene_name', how='left')\n",
    "protein_coding_count = (gene_expression_transcript['Transcript type'] == 'protein_coding').sum()\n",
    "print(f'Number of rows with \"protein_coding\": {protein_coding_count}')"
   ]
  },
  {
   "cell_type": "markdown",
   "id": "21e52ac4",
   "metadata": {},
   "source": [
    "#### 4.1.1 Make the gene expression, mutation, copy number and proteomics data inputted"
   ]
  },
  {
   "cell_type": "code",
   "execution_count": null,
   "id": "88bb8464",
   "metadata": {},
   "outputs": [],
   "source": [
    "common_genes_df = pd.DataFrame(common_genes, columns=['gene_name'])\n",
    "common_genes_df = common_genes_df.sort_values(by=['gene_name']).reset_index(drop=True)\n",
    "common_genes_df"
   ]
  },
  {
   "cell_type": "code",
   "execution_count": null,
   "id": "e1fee06f",
   "metadata": {},
   "outputs": [],
   "source": [
    "merged_data_transcript_Upstream_df = pd.merge(common_genes_df, ensembl_data_type, on='gene_name', how='left')\n",
    "protein_coding_count = (merged_data_transcript_Upstream_df['Transcript type'] == 'protein_coding').sum()\n",
    "print(f'Number of rows with \"protein_coding\": {protein_coding_count}')"
   ]
  },
  {
   "cell_type": "code",
   "execution_count": null,
   "id": "53d2e40f",
   "metadata": {},
   "outputs": [],
   "source": [
    "unique_values = merged_data_transcript_Upstream_df['Transcript type'].value_counts()\n",
    "unique_values"
   ]
  },
  {
   "cell_type": "code",
   "execution_count": null,
   "id": "ec1b5645",
   "metadata": {},
   "outputs": [],
   "source": [
    "gene_expression_inputted = pd.merge(common_genes_df ,gene_expression,on='gene_name',how='outer').fillna(0)\n",
    "protein_inputted = pd.merge(common_genes_df, protein, on='gene_name', how='outer').fillna(0)\n",
    "\n",
    "Upstream_df_inputted = pd.merge(common_genes_df, Upstream_df,on='gene_name',how='outer').fillna(0)\n",
    "Distal_Promoter_df_inputted = pd.merge(common_genes_df, Distal_Promoter_df,on='gene_name',how='outer').fillna(0)\n",
    "Proximal_Promoter_df_inputted = pd.merge(common_genes_df, Proximal_Promoter_df,on='gene_name',how='outer').fillna(0)\n",
    "Core_Promoter_df_inputted = pd.merge(common_genes_df, Core_Promoter_df,on='gene_name',how='outer').fillna(0)\n",
    "Downstream_df_inputted = pd.merge(common_genes_df, Downstream_df,on='gene_name',how='outer').fillna(0)\n",
    "\n",
    "mutation_inputted = pd.merge(common_genes_df, mutation, on='gene_name', how='outer').fillna(-1)\n",
    "\n",
    "display(gene_expression_inputted)"
   ]
  },
  {
   "cell_type": "markdown",
   "metadata": {},
   "source": [
    "#### 4.1.2 Intersecting genes with various databases"
   ]
  },
  {
   "cell_type": "code",
   "execution_count": null,
   "metadata": {},
   "outputs": [],
   "source": [
    "import pandas as pd\n",
    "# Add the gene names from databases like [KEGG / BioGRID] to intersect with the common genes\n",
    "# KEGG\n",
    "kegg_pathway_df = pd.read_csv('./Regulatory-network-data/KEGG/full_kegg_pathway_list.csv')\n",
    "kegg_pathway_df = kegg_pathway_df[['source', 'target', 'pathway_name']]\n",
    "kegg_df = kegg_pathway_df[kegg_pathway_df['pathway_name'].str.contains('signaling pathway|signaling pathways', case=False)]\n",
    "print(kegg_df['pathway_name'].value_counts())\n",
    "kegg_df = kegg_df.rename(columns={'source': 'src', 'target': 'dest'})\n",
    "src_list = list(kegg_df['src'])\n",
    "dest_list = list(kegg_df['dest'])\n",
    "path_list = list(kegg_df['pathway_name'])\n",
    "# ADJUST ALL GENES TO UPPERCASE\n",
    "up_src_list = []\n",
    "for src in src_list:\n",
    "    up_src = src.upper()\n",
    "    up_src_list.append(up_src)\n",
    "up_dest_list = []\n",
    "for dest in dest_list:\n",
    "    up_dest = dest.upper()\n",
    "    up_dest_list.append(up_dest)\n",
    "up_kegg_conn_dict = {'src': up_src_list, 'dest': up_dest_list}\n",
    "up_kegg_df = pd.DataFrame(up_kegg_conn_dict)\n",
    "up_kegg_df = up_kegg_df.drop_duplicates()\n",
    "up_kegg_df.to_csv('./Regulatory-network-data/KEGG/up_kegg.csv', index=False, header=True)\n",
    "kegg_gene_list = list(set(list(up_kegg_df['src']) + list(up_kegg_df['dest'])))\n",
    "print('----- NUMBER OF GENES IN KEGG: ' + str(len(kegg_gene_list)) + ' -----')\n",
    "print(up_kegg_df.shape)\n",
    "\n",
    "up_kegg_path_conn_dict = {'src': up_src_list, 'dest': up_dest_list, 'path': path_list}\n",
    "up_kegg_path_df = pd.DataFrame(up_kegg_path_conn_dict)\n",
    "up_kegg_path_df = up_kegg_path_df.drop_duplicates()\n",
    "up_kegg_path_df.to_csv('./Regulatory-network-data/KEGG/up_kegg_path.csv', index=False, header=True)\n",
    "kegg_path_gene_list = list(set(list(up_kegg_path_df['src']) + list(up_kegg_path_df['dest'])))\n",
    "print('----- NUMBER OF GENES IN KEGG PATH: ' + str(len(kegg_path_gene_list)) + ' -----')\n",
    "print(up_kegg_path_df.shape)"
   ]
  },
  {
   "cell_type": "code",
   "execution_count": null,
   "metadata": {},
   "outputs": [],
   "source": [
    "# BioGRID\n",
    "biogrid_df = pd.read_table('./Regulatory-network-data/BioGrid/BIOGRID-ALL-3.5.174.mitab.Symbol.txt', delimiter = '\\t')\n",
    "eh_list = list(biogrid_df['e_h'])\n",
    "et_list = list(biogrid_df['e_t'])\n",
    "# ADJUST ALL GENES TO UPPERCASE\n",
    "up_eh_list = []\n",
    "for eh in eh_list:\n",
    "    up_eh = eh.upper()\n",
    "    up_eh_list.append(up_eh)\n",
    "up_et_list = []\n",
    "for et in et_list:\n",
    "    up_et = et.upper()\n",
    "    up_et_list.append(up_et)\n",
    "up_biogrid_conn_dict = {'src': up_eh_list, 'dest': up_et_list}\n",
    "up_biogrid_df = pd.DataFrame(up_biogrid_conn_dict)\n",
    "print(up_biogrid_df)\n",
    "print(up_biogrid_df.shape)\n",
    "up_biogrid_df.to_csv('./Regulatory-network-data/BioGrid/up_biogrid.csv', index = False, header = True)\n",
    "up_biogrid_gene_list = list(set(list(up_biogrid_df['src']) + list(up_biogrid_df['dest'])))\n",
    "print('----- NUMBER OF GENES IN BioGRID: ' + str(len(up_biogrid_gene_list)) + ' -----')"
   ]
  },
  {
   "cell_type": "code",
   "execution_count": null,
   "metadata": {},
   "outputs": [],
   "source": [
    "# STRING\n",
    "string_df = pd.read_csv('./Regulatory-network-data/STRING/9606.protein.links.detailed.v11.0_sym.csv', low_memory=False)\n",
    "src_list = list(string_df['Source'])\n",
    "tar_list = list(string_df['Target'])\n",
    "# ADJUST ALL GENES TO UPPERCASE\n",
    "up_src_list = []\n",
    "for src in src_list:\n",
    "    up_src = src.upper()\n",
    "    up_src_list.append(up_src)\n",
    "up_tar_list = []\n",
    "for tar in tar_list:\n",
    "    up_tar = tar.upper()\n",
    "    up_tar_list.append(up_tar)\n",
    "up_string_conn_dict = {'src': up_src_list, 'dest': up_tar_list}\n",
    "up_string_df = pd.DataFrame(up_string_conn_dict)\n",
    "print(up_string_df)\n",
    "up_string_df.to_csv('./Regulatory-network-data/STRING/up_string.csv', index = False, header = True)\n",
    "up_string_gene_list = list(set(list(up_string_df['src']) + list(up_string_df['dest'])))\n",
    "print('----- NUMBER OF GENES IN STRING: ' + str(len(up_string_gene_list)) + ' -----')"
   ]
  },
  {
   "cell_type": "code",
   "execution_count": null,
   "metadata": {},
   "outputs": [],
   "source": [
    "# intersect the [common genes] with the genes in the different databases [KEGG / BioGRID / STRING]\n",
    "selected_database = 'KEGG'\n",
    "# selected_database = 'BioGRID'\n",
    "# selected_database = 'STRING'\n",
    "if selected_database == 'KEGG':\n",
    "    edge_common_genes = list(set(common_genes) & set(kegg_gene_list))\n",
    "    print('----- NUMBER OF INTERSECTED GENES IN KEGG: ' + str(len(edge_common_genes)) + ' -----')\n",
    "elif selected_database == 'BioGRID':\n",
    "    edge_common_genes = list(set(common_genes) & set(up_biogrid_gene_list))\n",
    "    print('----- NUMBER OF INTERSECTED GENES IN BioGRID: ' + str(len(edge_common_genes)) + ' -----')\n",
    "elif selected_database == 'STRING':\n",
    "    edge_common_genes = list(set(common_genes) & set(up_string_gene_list))\n",
    "    print('----- NUMBER OF INTERSECTED GENES IN STRING: ' + str(len(edge_common_genes)) + ' -----')\n",
    "\n",
    "# filter the genes in the different databases [KEGG / BioGRID / STRING] with the [common genes]\n",
    "if selected_database == 'KEGG':\n",
    "    filtered_up_kegg_df = up_kegg_df[up_kegg_df['src'].isin(edge_common_genes) & up_kegg_df['dest'].isin(edge_common_genes)]\n",
    "    filtered_up_kegg_df = filtered_up_kegg_df.drop_duplicates()\n",
    "    filtered_up_kegg_df = filtered_up_kegg_df.sort_values(by=['src', 'dest']).reset_index(drop=True)\n",
    "    print('----- NEW KEGG EDGE CONNECTIONS: ' + str(len(filtered_up_kegg_df)) + ' -----')\n",
    "    filtered_up_kegg_path_df = up_kegg_path_df[up_kegg_path_df['src'].isin(edge_common_genes) & up_kegg_path_df['dest'].isin(edge_common_genes)]\n",
    "    filtered_up_kegg_path_df = filtered_up_kegg_path_df.drop_duplicates()\n",
    "    filtered_up_kegg_path_df = filtered_up_kegg_path_df.sort_values(by=['src', 'dest']).reset_index(drop=True)\n",
    "    print('----- NEW KEGG PATHWAY CONNECTIONS: ' + str(len(filtered_up_kegg_path_df)) + ' -----')\n",
    "elif selected_database == 'BioGRID':\n",
    "    filtered_up_biogrid_df = up_biogrid_df[up_biogrid_df['src'].isin(edge_common_genes) & up_biogrid_df['dest'].isin(edge_common_genes)]\n",
    "    filtered_up_biogrid_df = filtered_up_biogrid_df.drop_duplicates()\n",
    "    filtered_up_biogrid_df = filtered_up_biogrid_df.sort_values(by=['src', 'dest']).reset_index(drop=True)\n",
    "    print('----- NEW BioGRID EDGE CONNECTIONS: ' + str(len(filtered_up_biogrid_df)) + ' -----')\n",
    "elif selected_database == 'STRING':\n",
    "    filtered_up_string_df = up_string_df[up_string_df['src'].isin(edge_common_genes) & up_string_df['dest'].isin(edge_common_genes)]\n",
    "    filtered_up_string_df = filtered_up_string_df.drop_duplicates()\n",
    "    filtered_up_string_df = filtered_up_string_df.sort_values(by=['src', 'dest']).reset_index(drop=True)\n",
    "    print('----- NEW STRING EDGE CONNECTIONS: ' + str(len(filtered_up_string_df)) + ' -----')"
   ]
  },
  {
   "cell_type": "code",
   "execution_count": null,
   "metadata": {},
   "outputs": [],
   "source": [
    "if selected_database == 'KEGG':\n",
    "    display(filtered_up_kegg_df)\n",
    "    display(filtered_up_kegg_path_df)\n",
    "elif selected_database == 'BioGRID':\n",
    "    display(filtered_up_biogrid_df)\n",
    "elif selected_database == 'STRING':\n",
    "    display(filtered_up_string_df)"
   ]
  },
  {
   "cell_type": "markdown",
   "id": "a0668d9f",
   "metadata": {},
   "source": [
    "#### 4.1.3 Filtering the gene names across the gene expression, cnv, proteomics and methylation"
   ]
  },
  {
   "cell_type": "code",
   "execution_count": null,
   "id": "42a5920f",
   "metadata": {},
   "outputs": [],
   "source": [
    "# select common genes in mutation data\n",
    "mutation_filtered = mutation_inputted.loc[mutation_inputted['gene_name'].isin(edge_common_genes)]\n",
    "mutation_filtered = mutation_filtered.sort_values(by=['gene_name']).reset_index(drop=True)\n",
    "# select common genes in gene expression data\n",
    "gene_expression_filtered = gene_expression_inputted.loc[gene_expression_inputted['gene_name'].isin(edge_common_genes)]\n",
    "gene_expression_filtered = gene_expression_filtered.sort_values(by=['gene_name']).reset_index(drop=True)\n",
    "# select common genes in protein data\n",
    "protein_filtered = protein_inputted.loc[protein_inputted['gene_name'].isin(edge_common_genes)]\n",
    "protein_filtered = protein_filtered.sort_values(by=['gene_name']).reset_index(drop=True)\n",
    "# select common genes in upstream data\n",
    "Upstream_df_filtered = Upstream_df_inputted.loc[Upstream_df_inputted['gene_name'].isin(edge_common_genes)]\n",
    "Upstream_df_filtered = Upstream_df_filtered.sort_values(by=['gene_name']).reset_index(drop=True)\n",
    "# select common genes in distal promoter data\n",
    "Distal_Promoter_df_filtered = Distal_Promoter_df_inputted.loc[Distal_Promoter_df_inputted['gene_name'].isin(edge_common_genes)]\n",
    "Distal_Promoter_df_filtered = Distal_Promoter_df_filtered.sort_values(by=['gene_name']).reset_index(drop=True)\n",
    "# select common genes in proximal promoter data\n",
    "Proximal_Promoter_df_filtered = Proximal_Promoter_df_inputted.loc[Proximal_Promoter_df_inputted['gene_name'].isin(edge_common_genes)]\n",
    "Proximal_Promoter_df_filtered = Proximal_Promoter_df_filtered.sort_values(by=['gene_name']).reset_index(drop=True)\n",
    "# select common genes in core promoter data\n",
    "Core_Promoter_df_filtered = Core_Promoter_df_inputted.loc[Core_Promoter_df_inputted['gene_name'].isin(edge_common_genes)]\n",
    "Core_Promoter_df_filtered = Core_Promoter_df_filtered.sort_values(by=['gene_name']).reset_index(drop=True)\n",
    "# select common genes in downstream data\n",
    "Downstream_df_filtered = Downstream_df_inputted.loc[Downstream_df_inputted['gene_name'].isin(edge_common_genes)]\n",
    "Downstream_df_filtered = Downstream_df_filtered.sort_values(by=['gene_name']).reset_index(drop=True)"
   ]
  },
  {
   "cell_type": "code",
   "execution_count": null,
   "id": "84979797",
   "metadata": {},
   "outputs": [],
   "source": [
    "mutation_filtered"
   ]
  },
  {
   "cell_type": "code",
   "execution_count": null,
   "id": "2d7f8fa4",
   "metadata": {},
   "outputs": [],
   "source": [
    "#count the Transcript type\n",
    "common_genes_transcript = pd.merge(mutation_filtered, ensembl_data_type, on='gene_name', how='left')\n",
    "protein_coding_count = (common_genes_transcript['Transcript type'] == 'protein_coding').sum()\n",
    "print(f'Number of rows with \"protein_coding\": {protein_coding_count}')"
   ]
  },
  {
   "cell_type": "code",
   "execution_count": null,
   "id": "037d6ea8",
   "metadata": {},
   "outputs": [],
   "source": [
    "unique_values = common_genes_transcript['Transcript type'].value_counts()\n",
    "unique_values"
   ]
  },
  {
   "cell_type": "markdown",
   "id": "1e11fa64",
   "metadata": {},
   "source": [
    "## 5.Gene name/patient samples/ pheotype file lists"
   ]
  },
  {
   "cell_type": "markdown",
   "id": "cbd82019",
   "metadata": {},
   "source": [
    "### 5.1 gene name and patient samples lists"
   ]
  },
  {
   "cell_type": "code",
   "execution_count": null,
   "id": "f2979e93",
   "metadata": {},
   "outputs": [],
   "source": [
    "gene_list = gene_expression_filtered['gene_name']\n",
    "gene_list"
   ]
  },
  {
   "cell_type": "code",
   "execution_count": null,
   "id": "3cfc08fc",
   "metadata": {},
   "outputs": [],
   "source": [
    "protein_list = protein_filtered['gene_name'].tolist()\n",
    "print(len(protein_list))\n",
    "protein_list"
   ]
  },
  {
   "cell_type": "code",
   "execution_count": null,
   "id": "b8ff7208",
   "metadata": {},
   "outputs": [],
   "source": [
    "intersection = list(set(gene_list) & set(protein_list))\n",
    "len(intersection)"
   ]
  },
  {
   "cell_type": "code",
   "execution_count": null,
   "id": "31b4b22d",
   "metadata": {},
   "outputs": [],
   "source": [
    "patient_sample_list = pd.DataFrame(common_tcga_columns_list,columns=['sample'])\n",
    "patient_sample_list"
   ]
  },
  {
   "cell_type": "markdown",
   "id": "a84341da",
   "metadata": {},
   "source": [
    "### 5.2 phenotype lists"
   ]
  },
  {
   "cell_type": "code",
   "execution_count": null,
   "id": "c0e77022",
   "metadata": {},
   "outputs": [],
   "source": [
    "immune_subtype_filtered"
   ]
  },
  {
   "cell_type": "code",
   "execution_count": null,
   "id": "7344f4be",
   "metadata": {},
   "outputs": [],
   "source": [
    "survival_filtered"
   ]
  },
  {
   "cell_type": "code",
   "execution_count": null,
   "id": "b9cf6ccb",
   "metadata": {},
   "outputs": [],
   "source": [
    "survival_nan_column_proportions = survival_filtered.isna().mean()\n",
    "\n",
    "# Display the results\n",
    "print(survival_nan_column_proportions)"
   ]
  },
  {
   "cell_type": "code",
   "execution_count": null,
   "id": "0b0475f6",
   "metadata": {},
   "outputs": [],
   "source": [
    "# Calculate the proportion of NaN values in each column\n",
    "survival_nan_column_proportions = survival_filtered.isna().mean()\n",
    "\n",
    "# Identify columns to be dropped (where proportion of NaN values is greater than 1/3)\n",
    "columns_to_drop = survival_nan_column_proportions[survival_nan_column_proportions > 1/3].index.tolist()\n",
    "\n",
    "# Drop these columns from the DataFrame\n",
    "survival_filtered = survival_filtered.drop(columns=columns_to_drop)\n",
    "\n",
    "# List of columns that were dropped\n",
    "print(\"Columns dropped:\", columns_to_drop)"
   ]
  },
  {
   "cell_type": "code",
   "execution_count": null,
   "id": "0e41b34f",
   "metadata": {},
   "outputs": [],
   "source": [
    "cellsub_nan_column_proportions = cellsub_filtered.isna().mean()\n",
    "\n",
    "# Display the results\n",
    "print(cellsub_nan_column_proportions)"
   ]
  },
  {
   "cell_type": "code",
   "execution_count": null,
   "id": "c7af8f67",
   "metadata": {},
   "outputs": [],
   "source": [
    "# Calculate the proportion of NaN values in each column\n",
    "cellsub_nan_column_proportions = cellsub_filtered.isna().mean()\n",
    "\n",
    "# Identify columns to be dropped (where proportion of NaN values is greater than 1/3)\n",
    "columns_to_drop = cellsub_nan_column_proportions[cellsub_nan_column_proportions > 1/3].index.tolist()\n",
    "\n",
    "# Drop these columns from the DataFrame\n",
    "cellsub_filtered = cellsub_filtered.drop(columns=columns_to_drop)\n",
    "\n",
    "# List of columns that were dropped\n",
    "print(\"Columns dropped:\", columns_to_drop)"
   ]
  },
  {
   "cell_type": "code",
   "execution_count": null,
   "id": "94a8b2d3",
   "metadata": {},
   "outputs": [],
   "source": [
    "cellsub_filtered"
   ]
  },
  {
   "cell_type": "code",
   "execution_count": null,
   "id": "ea31dd3f",
   "metadata": {},
   "outputs": [],
   "source": [
    "import pandas as pd\n",
    "\n",
    "# extract phenotype names\n",
    "immune_phenotypes = immune_subtype_filtered.columns[1:].tolist()\n",
    "survival_phenotypes = survival_filtered.columns[2:].tolist() # _PATIENT infor is not needed (sample id)\n",
    "dense_phenotypes = dense_filtered.columns[2:].tolist() # sample_type_id infor is not needed (all = 1)\n",
    "cellsub_phenotypes = cellsub_filtered.columns[1:].tolist()\n",
    "\n",
    "# creat phenotype name and source\n",
    "phenotype_list = []\n",
    "phenotype_list.extend([(p, 'immunesub') for p in immune_phenotypes])\n",
    "phenotype_list.extend([(p, 'survival') for p in survival_phenotypes])\n",
    "phenotype_list.extend([(p, 'dense') for p in dense_phenotypes])\n",
    "phenotype_list.extend([(p, 'cellsub') for p in cellsub_phenotypes])\n",
    "\n",
    "# list DataFrame\n",
    "phenotype_lists = pd.DataFrame(phenotype_list, columns=['Phenotype_Name', 'Phenotype_Source'])\n",
    "phenotype_lists"
   ]
  },
  {
   "cell_type": "markdown",
   "id": "2bd57fbc",
   "metadata": {},
   "source": [
    "## 6.Save processed datasets"
   ]
  },
  {
   "cell_type": "markdown",
   "metadata": {},
   "source": [
    "### 6.1 Keep the consistency for dataframes on genes and samples"
   ]
  },
  {
   "cell_type": "code",
   "execution_count": null,
   "metadata": {},
   "outputs": [],
   "source": [
    "# [gene_list]\n",
    "# gene-tran\n",
    "sorted_gene_list = gene_list.sort_values()\n",
    "sorted_gene = sorted_gene_list.tolist()\n",
    "sorted_gene_tran = [gene + '-TRAN' for gene in sorted_gene]\n",
    "sorted_gene_tran_df = pd.DataFrame(sorted_gene_tran, columns=['Gene'])\n",
    "display(sorted_gene_tran_df)\n",
    "# gene-meth\n",
    "sorted_gene_methy = [gene + '-METH' for gene in sorted_gene]\n",
    "sorted_gene_methy_df = pd.DataFrame(sorted_gene_methy, columns=['Gene'])\n",
    "display(sorted_gene_methy_df)\n",
    "# gene-protein\n",
    "sorted_gene_protein = [gene + '-PROT' for gene in sorted_gene]\n",
    "sorted_gene_protein_df = pd.DataFrame(sorted_gene_protein, columns=['Gene'])\n",
    "display(sorted_gene_protein_df)\n",
    "# all-gene\n",
    "sorted_gene_all = sorted_gene_tran + sorted_gene_methy + sorted_gene_protein\n",
    "sorted_all_gene_df = pd.DataFrame(sorted_gene_all, columns=['Gene'])\n",
    "display(sorted_all_gene_df)"
   ]
  },
  {
   "cell_type": "code",
   "execution_count": null,
   "metadata": {},
   "outputs": [],
   "source": [
    "# [patient-sample-list]\n",
    "sorted_patient_sample_list = patient_sample_list.sort_values(by='sample')['sample'].tolist()\n",
    "print(sorted_patient_sample_list)\n",
    "sorted_patient_sample_df = patient_sample_list.sort_values(by='sample').reset_index(drop=True)\n",
    "display(sorted_patient_sample_df)"
   ]
  },
  {
   "cell_type": "code",
   "execution_count": null,
   "metadata": {},
   "outputs": [],
   "source": [
    "Upstream_df_filtered = Upstream_df_filtered[['gene_name'] + sorted_patient_sample_list]\n",
    "Distal_Promoter_df_filtered = Distal_Promoter_df_filtered[['gene_name'] + sorted_patient_sample_list]\n",
    "Proximal_Promoter_df_filtered = Proximal_Promoter_df_filtered[['gene_name'] + sorted_patient_sample_list]\n",
    "Core_Promoter_df_filtered = Core_Promoter_df_filtered[['gene_name'] + sorted_patient_sample_list]\n",
    "Downstream_df_filtered = Downstream_df_filtered[['gene_name'] + sorted_patient_sample_list]\n",
    "\n",
    "display(Upstream_df_filtered)"
   ]
  },
  {
   "cell_type": "code",
   "execution_count": null,
   "metadata": {},
   "outputs": [],
   "source": [
    "mutation_filtered = mutation_filtered[['gene_name'] + sorted_patient_sample_list].sort_values(by='gene_name').reset_index(drop=True)\n",
    "mutation_filtered"
   ]
  },
  {
   "cell_type": "code",
   "execution_count": null,
   "metadata": {},
   "outputs": [],
   "source": [
    "gene_expression_filtered = gene_expression_filtered[['gene_name'] + sorted_patient_sample_list].sort_values(by='gene_name').reset_index(drop=True)\n",
    "gene_expression_filtered"
   ]
  },
  {
   "cell_type": "code",
   "execution_count": null,
   "metadata": {},
   "outputs": [],
   "source": [
    "protein_filtered = protein_filtered[['gene_name'] + sorted_patient_sample_list].sort_values(by='gene_name').reset_index(drop=True)\n",
    "protein_filtered"
   ]
  },
  {
   "cell_type": "code",
   "execution_count": null,
   "metadata": {},
   "outputs": [],
   "source": [
    "immune_subtype_filtered = immune_subtype_filtered.sort_values(by='sample').reset_index(drop=True)\n",
    "immune_subtype_filtered"
   ]
  },
  {
   "cell_type": "code",
   "execution_count": null,
   "metadata": {},
   "outputs": [],
   "source": [
    "survival_filtered = survival_filtered.sort_values(by='sample').reset_index(drop=True)\n",
    "survival_filtered"
   ]
  },
  {
   "cell_type": "code",
   "execution_count": null,
   "metadata": {},
   "outputs": [],
   "source": [
    "dense_filtered = dense_filtered.sort_values(by='sample').reset_index(drop=True)\n",
    "dense_filtered"
   ]
  },
  {
   "cell_type": "code",
   "execution_count": null,
   "metadata": {},
   "outputs": [],
   "source": [
    "cellsub_filtered = cellsub_filtered.sort_values(by='sample').reset_index(drop=True)\n",
    "cellsub_filtered"
   ]
  },
  {
   "cell_type": "markdown",
   "id": "5e63acd6",
   "metadata": {},
   "source": [
    "### 6.2 Create output folder and save processed datasets"
   ]
  },
  {
   "cell_type": "code",
   "execution_count": null,
   "id": "f5512cfa",
   "metadata": {},
   "outputs": [],
   "source": [
    "import os\n",
    "\n",
    "# outputfile name\n",
    "output_folder = 'UCSC-process'\n",
    "# create folder if not exist\n",
    "if not os.path.exists(output_folder):\n",
    "    os.makedirs(output_folder)"
   ]
  },
  {
   "cell_type": "code",
   "execution_count": null,
   "id": "fa76b540",
   "metadata": {},
   "outputs": [],
   "source": [
    "# DataFrame needed to be saved\n",
    "dataframes = {\n",
    "    'gene-tran-list.csv': sorted_gene_tran_df,\n",
    "    'gene-methy-list.csv': sorted_gene_methy_df,\n",
    "    'gene-protein-list.csv': sorted_gene_protein_df,\n",
    "    'gene-all-list.csv': sorted_all_gene_df,\n",
    "    'gene-kegg-edge-list.csv': filtered_up_kegg_df,\n",
    "    'gene-kegg-path-edge-list.csv': filtered_up_kegg_path_df,\n",
    "    # 'gene-biogrid-edge-list.csv': filtered_up_biogrid_df,\n",
    "    # 'gene-string-edge-list.csv': filtered_up_string_df,\n",
    "    'patient-sample-list.csv': sorted_patient_sample_df,\n",
    "    'phenotype-lists.csv': phenotype_lists,\n",
    "    'processed-genotype-methy-Upstream.csv': Upstream_df_filtered,\n",
    "    'processed-genotype-methy-Distal-Promoter.csv': Distal_Promoter_df_filtered,\n",
    "    'processed-genotype-methy-Proximal-Promoter.csv': Proximal_Promoter_df_filtered,\n",
    "    'processed-genotype-methy-Core-Promoter.csv': Core_Promoter_df_filtered,\n",
    "    'processed-genotype-methy-Downstream.csv': Downstream_df_filtered,\n",
    "    'processed-genotype-mutation.csv': mutation_filtered,\n",
    "    'processed-genotype-gene-expression.csv': gene_expression_filtered,\n",
    "    'processed-genotype-proteomics.csv': protein_filtered,\n",
    "    'processed-phenotype-immune-subtype-transposed.csv': immune_subtype_filtered,\n",
    "    'processed-phenotype-survival-transposed.csv': survival_filtered,\n",
    "    'processed-phenotype-dense-transposed.csv': dense_filtered,\n",
    "    'processed-phenotype-cellsub-transposed.csv': cellsub_filtered\n",
    "}\n",
    "\n",
    "# save to output folder\n",
    "for file_name, df in dataframes.items():\n",
    "    df.to_csv(os.path.join(output_folder, file_name), index=False)"
   ]
  },
  {
   "cell_type": "markdown",
   "metadata": {},
   "source": [
    "## 7.Convert the processed data into node dictionary"
   ]
  },
  {
   "cell_type": "code",
   "execution_count": 1,
   "metadata": {},
   "outputs": [],
   "source": [
    "# load processed data\n",
    "import pandas as pd\n",
    "import os\n",
    "\n",
    "# read the file names under the folder\n",
    "# Define the path to the output folder where CSV files are stored\n",
    "output_folder = 'UCSC-process'\n",
    "\n",
    "# List of file names you saved earlier\n",
    "file_names = [\n",
    "    'gene-tran-list', 'gene-methy-list', 'gene-protein-list', 'gene-all-list', \n",
    "    'gene-kegg-edge-list', 'gene-kegg-path-edge-list', \n",
    "    # 'gene-biogrid-edge-list',\n",
    "    # 'gene-string-edge-list',\n",
    "    'patient-sample-list', 'phenotype-lists', 'processed-genotype-methy-Upstream', \n",
    "    'processed-genotype-methy-Distal-Promoter', \n",
    "    'processed-genotype-methy-Proximal-Promoter', \n",
    "    'processed-genotype-methy-Core-Promoter', 'processed-genotype-methy-Downstream', \n",
    "    'processed-genotype-mutation', 'processed-genotype-gene-expression', \n",
    "    'processed-genotype-proteomics', 'processed-phenotype-immune-subtype-transposed', \n",
    "    'processed-phenotype-survival-transposed', 'processed-phenotype-dense-transposed', \n",
    "    'processed-phenotype-cellsub-transposed'\n",
    "]\n",
    "\n",
    "# Dictionary to hold the dataframes\n",
    "dataframes = {}\n",
    "\n",
    "# Read each file and assign to a dataframe\n",
    "for file_name in file_names:\n",
    "    full_path = os.path.join(output_folder, file_name + '.csv')\n",
    "    dataframes[file_name] = pd.read_csv(full_path)"
   ]
  },
  {
   "cell_type": "code",
   "execution_count": 2,
   "metadata": {},
   "outputs": [],
   "source": [
    "# Assign each dataframe to a variable\n",
    "sorted_gene_tran_df = dataframes['gene-tran-list']\n",
    "sorted_gene_methy_df = dataframes['gene-methy-list']\n",
    "sorted_gene_protein_df = dataframes['gene-protein-list']\n",
    "sorted_all_gene_df = dataframes['gene-all-list']\n",
    "filtered_up_kegg_df = dataframes['gene-kegg-edge-list']\n",
    "filtered_up_kegg_path_df = dataframes['gene-kegg-path-edge-list']\n",
    "# filtered_up_biogrid_df = dataframes['gene-biogrid-edge-list']\n",
    "# filtered_up_string_df = dataframes['gene-string-edge-list']\n",
    "sorted_patient_sample_df = dataframes['patient-sample-list']\n",
    "phenotype_lists = dataframes['phenotype-lists']\n",
    "Upstream_df_filtered = dataframes['processed-genotype-methy-Upstream']\n",
    "Distal_Promoter_df_filtered = dataframes['processed-genotype-methy-Distal-Promoter']\n",
    "Proximal_Promoter_df_filtered = dataframes['processed-genotype-methy-Proximal-Promoter']\n",
    "Core_Promoter_df_filtered = dataframes['processed-genotype-methy-Core-Promoter']\n",
    "Downstream_df_filtered = dataframes['processed-genotype-methy-Downstream']\n",
    "copynumber_filtered = dataframes['processed-genotype-mutation']\n",
    "gene_expression_filtered = dataframes['processed-genotype-gene-expression']\n",
    "protein_filtered = dataframes['processed-genotype-proteomics']\n",
    "immune_subtype_filtered = dataframes['processed-phenotype-immune-subtype-transposed']\n",
    "survival_filtered = dataframes['processed-phenotype-survival-transposed']\n",
    "dense_filtered = dataframes['processed-phenotype-dense-transposed']\n",
    "cellsub_filtered = dataframes['processed-phenotype-cellsub-transposed']"
   ]
  },
  {
   "cell_type": "code",
   "execution_count": 3,
   "metadata": {},
   "outputs": [],
   "source": [
    "# outputfile name\n",
    "graph_output_folder = 'UCSC-graph-data'\n",
    "# create folder if not exist\n",
    "if not os.path.exists(graph_output_folder):\n",
    "    os.makedirs(graph_output_folder)"
   ]
  },
  {
   "cell_type": "markdown",
   "id": "2906b8c7",
   "metadata": {},
   "source": [
    "### 7.0 Adding Sequence Genes"
   ]
  },
  {
   "cell_type": "code",
   "execution_count": 31,
   "id": "6cfa267b",
   "metadata": {},
   "outputs": [
    {
     "data": {
      "text/html": [
       "<div>\n",
       "<style scoped>\n",
       "    .dataframe tbody tr th:only-of-type {\n",
       "        vertical-align: middle;\n",
       "    }\n",
       "\n",
       "    .dataframe tbody tr th {\n",
       "        vertical-align: top;\n",
       "    }\n",
       "\n",
       "    .dataframe thead th {\n",
       "        text-align: right;\n",
       "    }\n",
       "</style>\n",
       "<table border=\"1\" class=\"dataframe\">\n",
       "  <thead>\n",
       "    <tr style=\"text-align: right;\">\n",
       "      <th></th>\n",
       "      <th>gene_name</th>\n",
       "      <th>TCGA-05-4384-01</th>\n",
       "      <th>TCGA-05-4396-01</th>\n",
       "      <th>TCGA-05-4405-01</th>\n",
       "      <th>TCGA-05-4410-01</th>\n",
       "      <th>TCGA-05-4417-01</th>\n",
       "      <th>TCGA-05-5423-01</th>\n",
       "      <th>TCGA-05-5429-01</th>\n",
       "      <th>TCGA-05-5715-01</th>\n",
       "      <th>TCGA-06-0125-01</th>\n",
       "      <th>...</th>\n",
       "      <th>TCGA-Z6-A8JE-01</th>\n",
       "      <th>TCGA-Z6-A9VB-01</th>\n",
       "      <th>TCGA-Z6-AAPN-01</th>\n",
       "      <th>TCGA-Z7-A8R5-01</th>\n",
       "      <th>TCGA-Z7-A8R6-01</th>\n",
       "      <th>TCGA-ZA-A8F6-01</th>\n",
       "      <th>TCGA-ZG-A8QW-01</th>\n",
       "      <th>TCGA-ZG-A8QX-01</th>\n",
       "      <th>TCGA-ZG-A8QY-01</th>\n",
       "      <th>TCGA-ZG-A8QZ-01</th>\n",
       "    </tr>\n",
       "  </thead>\n",
       "  <tbody>\n",
       "    <tr>\n",
       "      <th>0</th>\n",
       "      <td>ABL1</td>\n",
       "      <td>4.3667</td>\n",
       "      <td>4.6657</td>\n",
       "      <td>4.4764</td>\n",
       "      <td>4.1400</td>\n",
       "      <td>4.3779</td>\n",
       "      <td>2.9544</td>\n",
       "      <td>3.1876</td>\n",
       "      <td>3.4504</td>\n",
       "      <td>5.1264</td>\n",
       "      <td>...</td>\n",
       "      <td>4.0037</td>\n",
       "      <td>4.7361</td>\n",
       "      <td>4.3421</td>\n",
       "      <td>3.6748</td>\n",
       "      <td>4.8934</td>\n",
       "      <td>4.6201</td>\n",
       "      <td>4.3385</td>\n",
       "      <td>4.3992</td>\n",
       "      <td>4.6456</td>\n",
       "      <td>4.2350</td>\n",
       "    </tr>\n",
       "    <tr>\n",
       "      <th>1</th>\n",
       "      <td>ABL2</td>\n",
       "      <td>2.0465</td>\n",
       "      <td>1.1706</td>\n",
       "      <td>2.6325</td>\n",
       "      <td>1.6187</td>\n",
       "      <td>2.2723</td>\n",
       "      <td>0.7748</td>\n",
       "      <td>-0.1993</td>\n",
       "      <td>1.5266</td>\n",
       "      <td>1.8119</td>\n",
       "      <td>...</td>\n",
       "      <td>2.8301</td>\n",
       "      <td>2.2723</td>\n",
       "      <td>2.7572</td>\n",
       "      <td>1.0222</td>\n",
       "      <td>1.1447</td>\n",
       "      <td>1.7660</td>\n",
       "      <td>0.9716</td>\n",
       "      <td>0.8805</td>\n",
       "      <td>0.8246</td>\n",
       "      <td>0.7832</td>\n",
       "    </tr>\n",
       "    <tr>\n",
       "      <th>2</th>\n",
       "      <td>ACAA1</td>\n",
       "      <td>6.4613</td>\n",
       "      <td>6.3759</td>\n",
       "      <td>5.6124</td>\n",
       "      <td>5.0930</td>\n",
       "      <td>4.6259</td>\n",
       "      <td>5.9072</td>\n",
       "      <td>5.7616</td>\n",
       "      <td>4.5330</td>\n",
       "      <td>6.0470</td>\n",
       "      <td>...</td>\n",
       "      <td>4.3695</td>\n",
       "      <td>3.8827</td>\n",
       "      <td>4.6399</td>\n",
       "      <td>6.1488</td>\n",
       "      <td>5.5142</td>\n",
       "      <td>4.7587</td>\n",
       "      <td>6.9933</td>\n",
       "      <td>6.9110</td>\n",
       "      <td>6.4041</td>\n",
       "      <td>6.0798</td>\n",
       "    </tr>\n",
       "    <tr>\n",
       "      <th>3</th>\n",
       "      <td>ACACA</td>\n",
       "      <td>4.7005</td>\n",
       "      <td>3.7678</td>\n",
       "      <td>4.3385</td>\n",
       "      <td>4.9510</td>\n",
       "      <td>4.0926</td>\n",
       "      <td>3.3307</td>\n",
       "      <td>3.3938</td>\n",
       "      <td>4.5910</td>\n",
       "      <td>4.3060</td>\n",
       "      <td>...</td>\n",
       "      <td>4.3924</td>\n",
       "      <td>4.5224</td>\n",
       "      <td>3.8611</td>\n",
       "      <td>3.4411</td>\n",
       "      <td>4.4101</td>\n",
       "      <td>3.1620</td>\n",
       "      <td>5.6038</td>\n",
       "      <td>6.1530</td>\n",
       "      <td>6.7101</td>\n",
       "      <td>5.6062</td>\n",
       "    </tr>\n",
       "    <tr>\n",
       "      <th>4</th>\n",
       "      <td>ACACB</td>\n",
       "      <td>2.0707</td>\n",
       "      <td>0.9493</td>\n",
       "      <td>0.6969</td>\n",
       "      <td>0.4967</td>\n",
       "      <td>0.1257</td>\n",
       "      <td>-0.3566</td>\n",
       "      <td>-0.7588</td>\n",
       "      <td>-0.6193</td>\n",
       "      <td>1.4704</td>\n",
       "      <td>...</td>\n",
       "      <td>0.1776</td>\n",
       "      <td>-0.3566</td>\n",
       "      <td>0.7233</td>\n",
       "      <td>0.7664</td>\n",
       "      <td>0.2029</td>\n",
       "      <td>3.6905</td>\n",
       "      <td>1.6374</td>\n",
       "      <td>1.6187</td>\n",
       "      <td>2.0076</td>\n",
       "      <td>2.2633</td>\n",
       "    </tr>\n",
       "    <tr>\n",
       "      <th>...</th>\n",
       "      <td>...</td>\n",
       "      <td>...</td>\n",
       "      <td>...</td>\n",
       "      <td>...</td>\n",
       "      <td>...</td>\n",
       "      <td>...</td>\n",
       "      <td>...</td>\n",
       "      <td>...</td>\n",
       "      <td>...</td>\n",
       "      <td>...</td>\n",
       "      <td>...</td>\n",
       "      <td>...</td>\n",
       "      <td>...</td>\n",
       "      <td>...</td>\n",
       "      <td>...</td>\n",
       "      <td>...</td>\n",
       "      <td>...</td>\n",
       "      <td>...</td>\n",
       "      <td>...</td>\n",
       "      <td>...</td>\n",
       "      <td>...</td>\n",
       "    </tr>\n",
       "    <tr>\n",
       "      <th>2112</th>\n",
       "      <td>ZFYVE16</td>\n",
       "      <td>3.3321</td>\n",
       "      <td>3.1653</td>\n",
       "      <td>3.1278</td>\n",
       "      <td>2.7594</td>\n",
       "      <td>2.8819</td>\n",
       "      <td>3.1360</td>\n",
       "      <td>2.6278</td>\n",
       "      <td>2.3308</td>\n",
       "      <td>3.1475</td>\n",
       "      <td>...</td>\n",
       "      <td>3.2080</td>\n",
       "      <td>2.0430</td>\n",
       "      <td>2.7336</td>\n",
       "      <td>3.0038</td>\n",
       "      <td>3.1620</td>\n",
       "      <td>2.9875</td>\n",
       "      <td>3.1523</td>\n",
       "      <td>3.4183</td>\n",
       "      <td>3.3321</td>\n",
       "      <td>3.7094</td>\n",
       "    </tr>\n",
       "    <tr>\n",
       "      <th>2113</th>\n",
       "      <td>ZFYVE9</td>\n",
       "      <td>2.0395</td>\n",
       "      <td>3.3856</td>\n",
       "      <td>0.7579</td>\n",
       "      <td>0.0990</td>\n",
       "      <td>1.6234</td>\n",
       "      <td>1.2756</td>\n",
       "      <td>1.5758</td>\n",
       "      <td>1.8078</td>\n",
       "      <td>3.1733</td>\n",
       "      <td>...</td>\n",
       "      <td>2.1988</td>\n",
       "      <td>2.7889</td>\n",
       "      <td>2.3479</td>\n",
       "      <td>1.3109</td>\n",
       "      <td>2.4412</td>\n",
       "      <td>2.1541</td>\n",
       "      <td>2.3048</td>\n",
       "      <td>3.1028</td>\n",
       "      <td>3.6042</td>\n",
       "      <td>2.7465</td>\n",
       "    </tr>\n",
       "    <tr>\n",
       "      <th>2114</th>\n",
       "      <td>ZMAT3</td>\n",
       "      <td>2.4623</td>\n",
       "      <td>1.5013</td>\n",
       "      <td>1.9786</td>\n",
       "      <td>1.9601</td>\n",
       "      <td>1.5013</td>\n",
       "      <td>0.5470</td>\n",
       "      <td>1.9675</td>\n",
       "      <td>1.4174</td>\n",
       "      <td>3.8471</td>\n",
       "      <td>...</td>\n",
       "      <td>1.7273</td>\n",
       "      <td>3.2870</td>\n",
       "      <td>0.8726</td>\n",
       "      <td>1.9111</td>\n",
       "      <td>0.2762</td>\n",
       "      <td>2.8974</td>\n",
       "      <td>1.2333</td>\n",
       "      <td>0.7999</td>\n",
       "      <td>1.6964</td>\n",
       "      <td>1.2023</td>\n",
       "    </tr>\n",
       "    <tr>\n",
       "      <th>2115</th>\n",
       "      <td>ZNF274</td>\n",
       "      <td>3.5742</td>\n",
       "      <td>3.3911</td>\n",
       "      <td>3.4451</td>\n",
       "      <td>3.3675</td>\n",
       "      <td>3.3364</td>\n",
       "      <td>3.3773</td>\n",
       "      <td>3.3278</td>\n",
       "      <td>1.9675</td>\n",
       "      <td>2.6873</td>\n",
       "      <td>...</td>\n",
       "      <td>3.6520</td>\n",
       "      <td>2.5658</td>\n",
       "      <td>2.1047</td>\n",
       "      <td>2.8137</td>\n",
       "      <td>3.4700</td>\n",
       "      <td>2.7292</td>\n",
       "      <td>3.2617</td>\n",
       "      <td>2.9013</td>\n",
       "      <td>3.1844</td>\n",
       "      <td>3.3134</td>\n",
       "    </tr>\n",
       "    <tr>\n",
       "      <th>2116</th>\n",
       "      <td>ZNRF3</td>\n",
       "      <td>2.1766</td>\n",
       "      <td>1.8404</td>\n",
       "      <td>1.9034</td>\n",
       "      <td>2.3366</td>\n",
       "      <td>1.0779</td>\n",
       "      <td>1.1250</td>\n",
       "      <td>0.0990</td>\n",
       "      <td>-0.1504</td>\n",
       "      <td>2.1638</td>\n",
       "      <td>...</td>\n",
       "      <td>2.5511</td>\n",
       "      <td>2.2813</td>\n",
       "      <td>0.3346</td>\n",
       "      <td>-0.2671</td>\n",
       "      <td>1.8801</td>\n",
       "      <td>1.9111</td>\n",
       "      <td>1.4388</td>\n",
       "      <td>2.0979</td>\n",
       "      <td>2.0147</td>\n",
       "      <td>1.8996</td>\n",
       "    </tr>\n",
       "  </tbody>\n",
       "</table>\n",
       "<p>2117 rows × 3593 columns</p>\n",
       "</div>"
      ],
      "text/plain": [
       "     gene_name  TCGA-05-4384-01  TCGA-05-4396-01  TCGA-05-4405-01  \\\n",
       "0         ABL1           4.3667           4.6657           4.4764   \n",
       "1         ABL2           2.0465           1.1706           2.6325   \n",
       "2        ACAA1           6.4613           6.3759           5.6124   \n",
       "3        ACACA           4.7005           3.7678           4.3385   \n",
       "4        ACACB           2.0707           0.9493           0.6969   \n",
       "...        ...              ...              ...              ...   \n",
       "2112   ZFYVE16           3.3321           3.1653           3.1278   \n",
       "2113    ZFYVE9           2.0395           3.3856           0.7579   \n",
       "2114     ZMAT3           2.4623           1.5013           1.9786   \n",
       "2115    ZNF274           3.5742           3.3911           3.4451   \n",
       "2116     ZNRF3           2.1766           1.8404           1.9034   \n",
       "\n",
       "      TCGA-05-4410-01  TCGA-05-4417-01  TCGA-05-5423-01  TCGA-05-5429-01  \\\n",
       "0              4.1400           4.3779           2.9544           3.1876   \n",
       "1              1.6187           2.2723           0.7748          -0.1993   \n",
       "2              5.0930           4.6259           5.9072           5.7616   \n",
       "3              4.9510           4.0926           3.3307           3.3938   \n",
       "4              0.4967           0.1257          -0.3566          -0.7588   \n",
       "...               ...              ...              ...              ...   \n",
       "2112           2.7594           2.8819           3.1360           2.6278   \n",
       "2113           0.0990           1.6234           1.2756           1.5758   \n",
       "2114           1.9601           1.5013           0.5470           1.9675   \n",
       "2115           3.3675           3.3364           3.3773           3.3278   \n",
       "2116           2.3366           1.0779           1.1250           0.0990   \n",
       "\n",
       "      TCGA-05-5715-01  TCGA-06-0125-01  ...  TCGA-Z6-A8JE-01  TCGA-Z6-A9VB-01  \\\n",
       "0              3.4504           5.1264  ...           4.0037           4.7361   \n",
       "1              1.5266           1.8119  ...           2.8301           2.2723   \n",
       "2              4.5330           6.0470  ...           4.3695           3.8827   \n",
       "3              4.5910           4.3060  ...           4.3924           4.5224   \n",
       "4             -0.6193           1.4704  ...           0.1776          -0.3566   \n",
       "...               ...              ...  ...              ...              ...   \n",
       "2112           2.3308           3.1475  ...           3.2080           2.0430   \n",
       "2113           1.8078           3.1733  ...           2.1988           2.7889   \n",
       "2114           1.4174           3.8471  ...           1.7273           3.2870   \n",
       "2115           1.9675           2.6873  ...           3.6520           2.5658   \n",
       "2116          -0.1504           2.1638  ...           2.5511           2.2813   \n",
       "\n",
       "      TCGA-Z6-AAPN-01  TCGA-Z7-A8R5-01  TCGA-Z7-A8R6-01  TCGA-ZA-A8F6-01  \\\n",
       "0              4.3421           3.6748           4.8934           4.6201   \n",
       "1              2.7572           1.0222           1.1447           1.7660   \n",
       "2              4.6399           6.1488           5.5142           4.7587   \n",
       "3              3.8611           3.4411           4.4101           3.1620   \n",
       "4              0.7233           0.7664           0.2029           3.6905   \n",
       "...               ...              ...              ...              ...   \n",
       "2112           2.7336           3.0038           3.1620           2.9875   \n",
       "2113           2.3479           1.3109           2.4412           2.1541   \n",
       "2114           0.8726           1.9111           0.2762           2.8974   \n",
       "2115           2.1047           2.8137           3.4700           2.7292   \n",
       "2116           0.3346          -0.2671           1.8801           1.9111   \n",
       "\n",
       "      TCGA-ZG-A8QW-01  TCGA-ZG-A8QX-01  TCGA-ZG-A8QY-01  TCGA-ZG-A8QZ-01  \n",
       "0              4.3385           4.3992           4.6456           4.2350  \n",
       "1              0.9716           0.8805           0.8246           0.7832  \n",
       "2              6.9933           6.9110           6.4041           6.0798  \n",
       "3              5.6038           6.1530           6.7101           5.6062  \n",
       "4              1.6374           1.6187           2.0076           2.2633  \n",
       "...               ...              ...              ...              ...  \n",
       "2112           3.1523           3.4183           3.3321           3.7094  \n",
       "2113           2.3048           3.1028           3.6042           2.7465  \n",
       "2114           1.2333           0.7999           1.6964           1.2023  \n",
       "2115           3.2617           2.9013           3.1844           3.3134  \n",
       "2116           1.4388           2.0979           2.0147           1.8996  \n",
       "\n",
       "[2117 rows x 3593 columns]"
      ]
     },
     "execution_count": 31,
     "metadata": {},
     "output_type": "execute_result"
    }
   ],
   "source": [
    "gene_expression_filtered"
   ]
  },
  {
   "cell_type": "code",
   "execution_count": 25,
   "id": "d01bcfed",
   "metadata": {},
   "outputs": [
    {
     "data": {
      "text/html": [
       "<div>\n",
       "<style scoped>\n",
       "    .dataframe tbody tr th:only-of-type {\n",
       "        vertical-align: middle;\n",
       "    }\n",
       "\n",
       "    .dataframe tbody tr th {\n",
       "        vertical-align: top;\n",
       "    }\n",
       "\n",
       "    .dataframe thead th {\n",
       "        text-align: right;\n",
       "    }\n",
       "</style>\n",
       "<table border=\"1\" class=\"dataframe\">\n",
       "  <thead>\n",
       "    <tr style=\"text-align: right;\">\n",
       "      <th></th>\n",
       "      <th>gene_id</th>\n",
       "      <th>gene_name</th>\n",
       "      <th>contig</th>\n",
       "      <th>start</th>\n",
       "      <th>end</th>\n",
       "      <th>strand</th>\n",
       "      <th>dna_sequence</th>\n",
       "      <th>transcript_sequence</th>\n",
       "      <th>protein_sequence</th>\n",
       "    </tr>\n",
       "  </thead>\n",
       "  <tbody>\n",
       "    <tr>\n",
       "      <th>0</th>\n",
       "      <td>ENSG00000000003</td>\n",
       "      <td>TSPAN6</td>\n",
       "      <td>X</td>\n",
       "      <td>100627108</td>\n",
       "      <td>100639991</td>\n",
       "      <td>-1</td>\n",
       "      <td>AGCTCTTCAGTAGTTTCTGAACATCTAGACGGTAGGATGTAGAATA...</td>\n",
       "      <td>AGTTGTGGACGCTCGTAAGTTTTCGGCAGTTTCCGGGGAGACTCGG...</td>\n",
       "      <td>MASPSRRLQTKPVITCFKSVLLIYTFIFWITGVILLAVGIWGKVSL...</td>\n",
       "    </tr>\n",
       "    <tr>\n",
       "      <th>1</th>\n",
       "      <td>ENSG00000000005</td>\n",
       "      <td>TNMD</td>\n",
       "      <td>X</td>\n",
       "      <td>100584936</td>\n",
       "      <td>100599885</td>\n",
       "      <td>1</td>\n",
       "      <td>AGCCGACTCACTTGCAACTCCACCTCAGCAGTGGTCTCTCAGTCCT...</td>\n",
       "      <td>AGCCGACTCACTTGCAACTCCACCTCAGCAGTGGTCTCTCAGTCCT...</td>\n",
       "      <td>MAKNPPENCEDCHILNAEAFKSKKICKSLKICGLVFGILALTLIVL...</td>\n",
       "    </tr>\n",
       "    <tr>\n",
       "      <th>2</th>\n",
       "      <td>ENSG00000000419</td>\n",
       "      <td>DPM1</td>\n",
       "      <td>20</td>\n",
       "      <td>50934867</td>\n",
       "      <td>50959140</td>\n",
       "      <td>-1</td>\n",
       "      <td>ACTGCGCTAGTGGACAGCCGAGCCCACCGCAGCCCACGATTAGCAC...</td>\n",
       "      <td>AGTTCCGCCATGGCCTCCTTGGAAGTCAGTCGTAGTCCTCGCAGGT...</td>\n",
       "      <td>MASLEVSRSPRRSRRELEVRSPRQNKYSVLLPTYNERENLPLIVWL...</td>\n",
       "    </tr>\n",
       "    <tr>\n",
       "      <th>3</th>\n",
       "      <td>ENSG00000000457</td>\n",
       "      <td>SCYL3</td>\n",
       "      <td>1</td>\n",
       "      <td>169849631</td>\n",
       "      <td>169894267</td>\n",
       "      <td>-1</td>\n",
       "      <td>GCACCTCTACTGTTTGCTACAAGTGGCCAGCAGCCATTTTGGATTT...</td>\n",
       "      <td>GTAGTGGCCACAGCCTTACAGGCAGGCAGGGGTGGTTGGTGTCAAC...</td>\n",
       "      <td>MGSENSALKSYTLREPPFTLPSGLAVYPAVLQDGKFASVFVYKREN...</td>\n",
       "    </tr>\n",
       "    <tr>\n",
       "      <th>4</th>\n",
       "      <td>ENSG00000000460</td>\n",
       "      <td>FIRRM</td>\n",
       "      <td>1</td>\n",
       "      <td>169662007</td>\n",
       "      <td>169854080</td>\n",
       "      <td>1</td>\n",
       "      <td>AACCCGCTCGGGTCCCCTTCCACACTGTGGAAGCTTTGTTCTTTCG...</td>\n",
       "      <td>ACTGCGAGTTTCCGGTCTGGGCTTTGGCGGGTCTGGTTTGAAGCTC...</td>\n",
       "      <td>MFLPHMNHLTLEQTFFSQVLPKTVKLFDDMMYELTSQARGLSSQNL...</td>\n",
       "    </tr>\n",
       "    <tr>\n",
       "      <th>...</th>\n",
       "      <td>...</td>\n",
       "      <td>...</td>\n",
       "      <td>...</td>\n",
       "      <td>...</td>\n",
       "      <td>...</td>\n",
       "      <td>...</td>\n",
       "      <td>...</td>\n",
       "      <td>...</td>\n",
       "      <td>...</td>\n",
       "    </tr>\n",
       "    <tr>\n",
       "      <th>1569</th>\n",
       "      <td>ENSG00000082497</td>\n",
       "      <td>SERTAD4</td>\n",
       "      <td>1</td>\n",
       "      <td>210232796</td>\n",
       "      <td>210246631</td>\n",
       "      <td>1</td>\n",
       "      <td>ATTACCATAACCGTCTGCAGCGACGGCGGCGCAGCGCCCCAGTCGC...</td>\n",
       "      <td>ATTACCATAACCGTCTGCAGCGACGGCGGCGCAGCGCCCCAGTCGC...</td>\n",
       "      <td>MTLVLSMNRFCEPIVSEGAAEIAGYQTLWEADSYGGPSPPGPAQAP...</td>\n",
       "    </tr>\n",
       "    <tr>\n",
       "      <th>1570</th>\n",
       "      <td>ENSG00000082512</td>\n",
       "      <td>TRAF5</td>\n",
       "      <td>1</td>\n",
       "      <td>211326615</td>\n",
       "      <td>211374946</td>\n",
       "      <td>1</td>\n",
       "      <td>AGACGCACGTGAGGGAAATCAGATGACTGGACTTGTAGATACTAAC...</td>\n",
       "      <td>AGGAGCAGCAGCCGCGCCTGCAGACCGGCCTCGCGGAGCCCGCGCG...</td>\n",
       "      <td>MAYSEEHKGMPCGFIRQNSGNSISLDFEPSIEYQFVERLEERYKCA...</td>\n",
       "    </tr>\n",
       "    <tr>\n",
       "      <th>1571</th>\n",
       "      <td>ENSG00000082515</td>\n",
       "      <td>MRPL22</td>\n",
       "      <td>5</td>\n",
       "      <td>154941073</td>\n",
       "      <td>154969411</td>\n",
       "      <td>1</td>\n",
       "      <td>GCTTGAACTCGGCGGCTTCCGTAGCGGGAGGGCGAAAGATGGCGGC...</td>\n",
       "      <td>GCTTGAACTCGGCGGCTTCCGTAGCGGGAGGGCGAAAGATGGCGGC...</td>\n",
       "      <td>MAAAVLGQLGALWIHNLRSRGKLALGVLPQSYIHTSASLDISRKWE...</td>\n",
       "    </tr>\n",
       "    <tr>\n",
       "      <th>1572</th>\n",
       "      <td>ENSG00000082516</td>\n",
       "      <td>GEMIN5</td>\n",
       "      <td>5</td>\n",
       "      <td>154887411</td>\n",
       "      <td>154938211</td>\n",
       "      <td>-1</td>\n",
       "      <td>GCCCCGCTCCCTACCTAAGGCGTGAGGCTACGAGCGGTCGGCTGTG...</td>\n",
       "      <td>GCCCCGCTCCCTACCTAAGGCGTGAGGCTACGAGCGGTCGGCTGTG...</td>\n",
       "      <td>MGQEPRTLPPSPNWYCARCSDAVPGGLFGFAARTSVFLVRVGPGAG...</td>\n",
       "    </tr>\n",
       "    <tr>\n",
       "      <th>1573</th>\n",
       "      <td>ENSG00000082556</td>\n",
       "      <td>OPRK1</td>\n",
       "      <td>8</td>\n",
       "      <td>53225724</td>\n",
       "      <td>53251637</td>\n",
       "      <td>-1</td>\n",
       "      <td>AGTAGTGGGAGACGTGCGCTGAGAGGCGGGGGCTGCGCTCGGCGGA...</td>\n",
       "      <td>AGTAGTGGGAGACGTGCGCTGAGAGGCGGGGGCTGCGCTCGGCGGA...</td>\n",
       "      <td>MDSPIQIFRGEPGPTCAPSACLPPNSSAWFPGWAEPDSNGSAGSED...</td>\n",
       "    </tr>\n",
       "  </tbody>\n",
       "</table>\n",
       "<p>1574 rows × 9 columns</p>\n",
       "</div>"
      ],
      "text/plain": [
       "              gene_id gene_name contig      start        end  strand  \\\n",
       "0     ENSG00000000003    TSPAN6      X  100627108  100639991      -1   \n",
       "1     ENSG00000000005      TNMD      X  100584936  100599885       1   \n",
       "2     ENSG00000000419      DPM1     20   50934867   50959140      -1   \n",
       "3     ENSG00000000457     SCYL3      1  169849631  169894267      -1   \n",
       "4     ENSG00000000460     FIRRM      1  169662007  169854080       1   \n",
       "...               ...       ...    ...        ...        ...     ...   \n",
       "1569  ENSG00000082497   SERTAD4      1  210232796  210246631       1   \n",
       "1570  ENSG00000082512     TRAF5      1  211326615  211374946       1   \n",
       "1571  ENSG00000082515    MRPL22      5  154941073  154969411       1   \n",
       "1572  ENSG00000082516    GEMIN5      5  154887411  154938211      -1   \n",
       "1573  ENSG00000082556     OPRK1      8   53225724   53251637      -1   \n",
       "\n",
       "                                           dna_sequence  \\\n",
       "0     AGCTCTTCAGTAGTTTCTGAACATCTAGACGGTAGGATGTAGAATA...   \n",
       "1     AGCCGACTCACTTGCAACTCCACCTCAGCAGTGGTCTCTCAGTCCT...   \n",
       "2     ACTGCGCTAGTGGACAGCCGAGCCCACCGCAGCCCACGATTAGCAC...   \n",
       "3     GCACCTCTACTGTTTGCTACAAGTGGCCAGCAGCCATTTTGGATTT...   \n",
       "4     AACCCGCTCGGGTCCCCTTCCACACTGTGGAAGCTTTGTTCTTTCG...   \n",
       "...                                                 ...   \n",
       "1569  ATTACCATAACCGTCTGCAGCGACGGCGGCGCAGCGCCCCAGTCGC...   \n",
       "1570  AGACGCACGTGAGGGAAATCAGATGACTGGACTTGTAGATACTAAC...   \n",
       "1571  GCTTGAACTCGGCGGCTTCCGTAGCGGGAGGGCGAAAGATGGCGGC...   \n",
       "1572  GCCCCGCTCCCTACCTAAGGCGTGAGGCTACGAGCGGTCGGCTGTG...   \n",
       "1573  AGTAGTGGGAGACGTGCGCTGAGAGGCGGGGGCTGCGCTCGGCGGA...   \n",
       "\n",
       "                                    transcript_sequence  \\\n",
       "0     AGTTGTGGACGCTCGTAAGTTTTCGGCAGTTTCCGGGGAGACTCGG...   \n",
       "1     AGCCGACTCACTTGCAACTCCACCTCAGCAGTGGTCTCTCAGTCCT...   \n",
       "2     AGTTCCGCCATGGCCTCCTTGGAAGTCAGTCGTAGTCCTCGCAGGT...   \n",
       "3     GTAGTGGCCACAGCCTTACAGGCAGGCAGGGGTGGTTGGTGTCAAC...   \n",
       "4     ACTGCGAGTTTCCGGTCTGGGCTTTGGCGGGTCTGGTTTGAAGCTC...   \n",
       "...                                                 ...   \n",
       "1569  ATTACCATAACCGTCTGCAGCGACGGCGGCGCAGCGCCCCAGTCGC...   \n",
       "1570  AGGAGCAGCAGCCGCGCCTGCAGACCGGCCTCGCGGAGCCCGCGCG...   \n",
       "1571  GCTTGAACTCGGCGGCTTCCGTAGCGGGAGGGCGAAAGATGGCGGC...   \n",
       "1572  GCCCCGCTCCCTACCTAAGGCGTGAGGCTACGAGCGGTCGGCTGTG...   \n",
       "1573  AGTAGTGGGAGACGTGCGCTGAGAGGCGGGGGCTGCGCTCGGCGGA...   \n",
       "\n",
       "                                       protein_sequence  \n",
       "0     MASPSRRLQTKPVITCFKSVLLIYTFIFWITGVILLAVGIWGKVSL...  \n",
       "1     MAKNPPENCEDCHILNAEAFKSKKICKSLKICGLVFGILALTLIVL...  \n",
       "2     MASLEVSRSPRRSRRELEVRSPRQNKYSVLLPTYNERENLPLIVWL...  \n",
       "3     MGSENSALKSYTLREPPFTLPSGLAVYPAVLQDGKFASVFVYKREN...  \n",
       "4     MFLPHMNHLTLEQTFFSQVLPKTVKLFDDMMYELTSQARGLSSQNL...  \n",
       "...                                                 ...  \n",
       "1569  MTLVLSMNRFCEPIVSEGAAEIAGYQTLWEADSYGGPSPPGPAQAP...  \n",
       "1570  MAYSEEHKGMPCGFIRQNSGNSISLDFEPSIEYQFVERLEERYKCA...  \n",
       "1571  MAAAVLGQLGALWIHNLRSRGKLALGVLPQSYIHTSASLDISRKWE...  \n",
       "1572  MGQEPRTLPPSPNWYCARCSDAVPGGLFGFAARTSVFLVRVGPGAG...  \n",
       "1573  MDSPIQIFRGEPGPTCAPSACLPPNSSAWFPGWAEPDSNGSAGSED...  \n",
       "\n",
       "[1574 rows x 9 columns]"
      ]
     },
     "metadata": {},
     "output_type": "display_data"
    }
   ],
   "source": [
    "seq_df = pd.read_csv('./DNA-sequence/Chunk1_gene_transcript_protein_sequences.csv')\n",
    "display(seq_df)"
   ]
  },
  {
   "cell_type": "code",
   "execution_count": 28,
   "id": "ba7fd7b1",
   "metadata": {},
   "outputs": [
    {
     "name": "stdout",
     "output_type": "stream",
     "text": [
      "['ABL1', 'ABL2', 'ACAA1', 'ACACA', 'ACACB', 'ACADL', 'ACADM', 'ACOX1', 'ACOX2', 'ACOX3', 'ACSBG1', 'ACSBG2', 'ACSL1', 'ACSL3', 'ACSL4', 'ACSL5', 'ACSL6', 'ACTA2', 'ACTB', 'ACTG1', 'ACVR1', 'ACVR1B', 'ACVR1C', 'ACVR2A', 'ACVR2B', 'ADAM17', 'ADCY1', 'ADCY10', 'ADCY2', 'ADCY3', 'ADCY4', 'ADCY5', 'ADCY6', 'ADCY7', 'ADCY8', 'ADCY9', 'ADCYAP1', 'ADCYAP1R1', 'ADGRB1', 'ADIPOQ', 'ADIPOR1', 'ADIPOR2', 'ADORA1', 'ADORA2A', 'ADORA2B', 'ADORA3', 'ADRA1A', 'ADRA1B', 'ADRA1D', 'ADRA2A', 'ADRA2B', 'ADRA2C', 'ADRB1', 'ADRB2', 'ADRB3', 'AFP', 'AGAP2', 'AGER', 'AGRP', 'AGT', 'AGTR1', 'AIFM2', 'AIM2', 'AJUBA', 'AKT1', 'AKT1S1', 'AKT2', 'AKT3', 'ALDOA', 'ALDOB', 'ALDOC', 'AMH', 'AMHR2', 'AMOT', 'ANAPC5', 'ANGPT1', 'ANGPT2', 'ANGPT4', 'ANGPTL4', 'AOX1', 'APAF1', 'APBB1IP', 'APC', 'APC2', 'APH1A', 'APH1B', 'APLN', 'APLNR', 'APOA1', 'APOA2', 'APOA5', 'APOC3', 'AQP7', 'ARAF', 'ARAP3', 'AREG', 'ARF1', 'ARF6', 'ARHGDIA', 'ARHGDIB', 'ARHGDIG', 'ARHGEF12', 'ARNT', 'ARRB1', 'ARRB2', 'ASPH', 'ATF2', 'ATF4', 'ATF6B', 'ATG12', 'ATG16L1', 'ATG5', 'ATM', 'ATP1A1', 'ATP1A2', 'ATP1A3', 'ATP1A4', 'ATP1B1', 'ATP1B2', 'ATP1B3', 'ATP1B4', 'ATP2A1', 'ATP2A2', 'ATP2A3', 'ATP2B1', 'ATP2B2', 'ATP2B3', 'ATP2B4', 'ATP6V1A', 'ATP6V1B1', 'ATP6V1B2', 'ATP6V1C1', 'ATP6V1C2', 'ATP6V1D', 'ATP6V1E1', 'ATP6V1E2', 'ATP6V1F', 'ATP6V1G1', 'ATP6V1G2', 'ATP6V1G3', 'ATP6V1H', 'ATR', 'ATXN1', 'ATXN1L', 'AVP', 'AVPR1A', 'AVPR1B', 'AVPR2', 'AXIN1', 'AXIN2', 'AZI2', 'BAD', 'BAG4', 'BAMBI', 'BAX', 'BBC3', 'BCAR1', 'BCL10', 'BCL2', 'BCL2A1', 'BCL2L1', 'BCL2L11', 'BCL3', 'BCL6', 'BDKRB1', 'BDKRB2', 'BDNF', 'BECN1', 'BECN2', 'BID', 'BIRC2', 'BIRC3', 'BIRC5', 'BLNK', 'BMP2', 'BMP4', 'BMP5', 'BMP6', 'BMP7', 'BMP8A', 'BMP8B', 'BMPR1A', 'BMPR1B', 'BMPR2', 'BNIP3', 'BOC', 'BRAF', 'BRAP', 'BRCA1', 'BRCC3', 'BTC', 'BTK', 'BTRC', 'CAB39', 'CAB39L', 'CACNA1A', 'CACNA1B', 'CACNA1C', 'CACNA1D', 'CACNA1E', 'CACNA1F', 'CACNA1G', 'CACNA1H', 'CACNA1I', 'CACNA1S', 'CACNA2D1', 'CACNA2D2', 'CACNA2D3', 'CACNA2D4', 'CACNB1', 'CACNB2', 'CACNB3', 'CACNB4', 'CACNG1', 'CACNG2', 'CACNG3', 'CACNG4', 'CACNG5', 'CACNG6', 'CACNG7', 'CACNG8', 'CACYBP', 'CALM1', 'CALM2', 'CALM3', 'CALML3', 'CALML4', 'CALML5', 'CALML6', 'CAMK1', 'CAMK1D', 'CAMK1G', 'CAMK2A', 'CAMK2B', 'CAMK2D', 'CAMK2G', 'CAMK4', 'CAMKK2', 'CAMP', 'CARD10', 'CARD11', 'CARD14', 'CARD16', 'CARD18', 'CARD6', 'CARD8', 'CARD9', 'CASP1', 'CASP10', 'CASP12', 'CASP3', 'CASP4', 'CASP5', 'CASP7', 'CASP8', 'CASP9', 'CASQ1', 'CASQ2', 'CASR', 'CAT', 'CBL', 'CBLB', 'CCKAR', 'CCKBR', 'CCL1', 'CCL11', 'CCL13', 'CCL14', 'CCL15', 'CCL16', 'CCL17', 'CCL18', 'CCL19', 'CCL2', 'CCL20', 'CCL21', 'CCL22', 'CCL23', 'CCL24', 'CCL25', 'CCL26', 'CCL27', 'CCL28', 'CCL3', 'CCL3L3', 'CCL4', 'CCL4L2', 'CCL5', 'CCL7', 'CCL8', 'CCNA1', 'CCNA2', 'CCNB1', 'CCNB2', 'CCNB3', 'CCND1', 'CCND2', 'CCND3', 'CCNE1', 'CCNE2', 'CCNG1', 'CCNG2', 'CCR1', 'CCR10', 'CCR2', 'CCR3', 'CCR4', 'CCR5', 'CCR6', 'CCR7', 'CCR8', 'CCR9', 'CD14', 'CD19', 'CD209', 'CD22', 'CD247', 'CD28', 'CD36', 'CD38', 'CD3E', 'CD4', 'CD40', 'CD40LG', 'CD72', 'CD79A', 'CD79B', 'CD80', 'CD82', 'CD86', 'CD8A', 'CD8B', 'CDC25B', 'CDC37', 'CDC42', 'CDH1', 'CDK1', 'CDK2', 'CDK4', 'CDK6', 'CDKN1A', 'CDKN1B', 'CDKN2A', 'CDKN2B', 'CDKN2D', 'CDON', 'CEBPB', 'CER1', 'CFLAR', 'CFTR', 'CGA', 'CHAD', 'CHD8', 'CHEK1', 'CHEK2', 'CHRD', 'CHRM1', 'CHRM2', 'CHRM3', 'CHRM5', 'CHRNA7', 'CHUK', 'CIR1', 'CISH', 'CLEC1B', 'CLEC4D', 'CLEC4E', 'CLEC4M', 'CLEC6A', 'CLEC7A', 'CLIP1', 'CNGA1', 'CNGA2', 'CNGA3', 'CNGA4', 'CNGB1', 'CNGB3', 'CNR1', 'CNTF', 'CNTFR', 'COL1A1', 'COL1A2', 'COL2A1', 'COL3A1', 'COL4A1', 'COL4A2', 'COL4A3', 'COL4A4', 'COL4A5', 'COL4A6', 'COL6A1', 'COL6A2', 'COL6A3', 'COL6A5', 'COL6A6', 'COL9A1', 'COL9A2', 'COL9A3', 'COMP', 'CPT1A', 'CPT1B', 'CPT1C', 'CPT2', 'CREB1', 'CREB3', 'CREB3L1', 'CREB3L2', 'CREB3L3', 'CREB3L4', 'CREB5', 'CREBBP', 'CRK', 'CRKL', 'CRLF2', 'CRTC2', 'CSF1', 'CSF1R', 'CSF2', 'CSF2RA', 'CSF2RB', 'CSF3', 'CSF3R', 'CSH1', 'CSH2', 'CSN2', 'CSNK1A1', 'CSNK1A1L', 'CSNK1D', 'CSNK1E', 'CSNK1G1', 'CSNK1G2', 'CSNK1G3', 'CSNK2A1', 'CSNK2A2', 'CSNK2A3', 'CSNK2B', 'CTBP1', 'CTBP2', 'CTF1', 'CTLA4', 'CTNNA1', 'CTNNA2', 'CTNNA3', 'CTNNB1', 'CTNNBIP1', 'CTNND1', 'CTNND2', 'CTSB', 'CTSD', 'CUL1', 'CUL3', 'CX3CL1', 'CX3CR1', 'CXCL1', 'CXCL10', 'CXCL11', 'CXCL12', 'CXCL13', 'CXCL14', 'CXCL16', 'CXCL2', 'CXCL3', 'CXCL5', 'CXCL6', 'CXCL8', 'CXCL9', 'CXCR1', 'CXCR2', 'CXCR3', 'CXCR4', 'CXCR5', 'CXCR6', 'CXXC4', 'CYBA', 'CYBB', 'CYCS', 'CYLD', 'CYP17A1', 'CYP27A1', 'CYP7A1', 'CYP8B1', 'CYSLTR1', 'CYSLTR2', 'CYTH1', 'CYTH2', 'CYTH3', 'CYTH4', 'DAAM1', 'DAAM2', 'DAB2IP', 'DAPP1', 'DAXX', 'DBI', 'DCHS1', 'DCHS2', 'DCN', 'DDB2', 'DDIT3', 'DDIT4', 'DDX3X', 'DEFB4A', 'DEFB4B', 'DEPDC5', 'DEPTOR', 'DHH', 'DHX33', 'DHX58', 'DIAPH1', 'DISP1', 'DKK1', 'DKK2', 'DKK4', 'DLG1', 'DLG2', 'DLG3', 'DLG4', 'DLG5', 'DLL1', 'DLL3', 'DLL4', 'DNM1L', 'DOCK2', 'DOCK4', 'DRD1', 'DRD2', 'DRD5', 'DTX1', 'DTX2', 'DTX3', 'DTX3L', 'DTX4', 'DUSP1', 'DUSP10', 'DUSP16', 'DUSP2', 'DUSP3', 'DUSP4', 'DUSP5', 'DUSP6', 'DUSP7', 'DUSP8', 'DUSP9', 'DVL1', 'DVL2', 'DVL3', 'E2F4', 'E2F5', 'EBAG9', 'ECSIT', 'EDA', 'EDA2R', 'EDAR', 'EDARADD', 'EDN1', 'EDN2', 'EDN3', 'EDNRA', 'EDNRB', 'EEF2', 'EEF2K', 'EFCAB7', 'EFNA1', 'EFNA2', 'EFNA3', 'EFNA4', 'EFNA5', 'EGF', 'EGFR', 'EGLN1', 'EGLN2', 'EGLN3', 'EGR1', 'EGR2', 'EGR3', 'EHHADH', 'EI24', 'EIF4B', 'EIF4E', 'EIF4E1B', 'EIF4E2', 'EIF4EBP1', 'ELAVL1', 'ELF5', 'ELK1', 'ELK4', 'ELMO1', 'ENAH', 'ENO1', 'ENO2', 'ENO3', 'ENO4', 'EP300', 'EPHA2', 'EPO', 'EPOR', 'ERBB2', 'ERBB3', 'ERBB4', 'EREG', 'ESR1', 'ESR2', 'ESRRB', 'ETS1', 'ETS2', 'EVC', 'EVC2', 'EVL', 'EXOC2', 'EXOC7', 'F2', 'F2R', 'F2RL3', 'F3', 'FABP1', 'FABP3', 'FABP4', 'FADD', 'FADS2', 'FARP2', 'FAS', 'FASLG', 'FASN', 'FAT4', 'FBP1', 'FBP2', 'FBXO25', 'FBXO32', 'FBXW11', 'FCER1A', 'FCER1G', 'FCGR2B', 'FFAR2', 'FGF1', 'FGF10', 'FGF16', 'FGF17', 'FGF18', 'FGF19', 'FGF2', 'FGF20', 'FGF21', 'FGF22', 'FGF23', 'FGF3', 'FGF4', 'FGF5', 'FGF6', 'FGF7', 'FGF8', 'FGF9', 'FGFR1', 'FGFR2', 'FGFR3', 'FGFR4', 'FGR', 'FHL1', 'FLCN', 'FLNA', 'FLNB', 'FLNC', 'FLOT1', 'FLOT2', 'FLT1', 'FLT3', 'FLT3LG', 'FLT4', 'FMOD', 'FN1', 'FNIP1', 'FNIP2', 'FOS', 'FOSB', 'FOSL1', 'FOXO1', 'FOXO3', 'FOXO4', 'FOXO6', 'FPR1', 'FRAT1', 'FRAT2', 'FRMD1', 'FRMD6', 'FRS2', 'FSHB', 'FSHR', 'FST', 'FXYD1', 'FXYD2', 'FYN', 'FZD1', 'FZD10', 'FZD2', 'FZD3', 'FZD4', 'FZD5', 'FZD6', 'FZD7', 'FZD8', 'FZD9', 'G6PC2', 'G6PC3', 'GAB1', 'GAB2', 'GABARAP', 'GABARAPL1', 'GABARAPL2', 'GABBR1', 'GABBR2', 'GADD45A', 'GADD45B', 'GADD45G', 'GALT', 'GAPDH', 'GAS1', 'GATA4', 'GCG', 'GCGR', 'GCK', 'GDF5', 'GDF6', 'GDF7', 'GDNF', 'GFAP', 'GH1', 'GH2', 'GHR', 'GHRL', 'GHSR', 'GIP', 'GIPR', 'GK', 'GK2', 'GLI1', 'GLI2', 'GLI3', 'GLP1R', 'GNA11', 'GNA12', 'GNA13', 'GNA14', 'GNA15', 'GNAI1', 'GNAI2', 'GNAI3', 'GNAL', 'GNAO1', 'GNAQ', 'GNAS', 'GNB1', 'GNB2', 'GNB3', 'GNB4', 'GNB5', 'GNG10', 'GNG11', 'GNG12', 'GNG13', 'GNG2', 'GNG3', 'GNG4', 'GNG5', 'GNG7', 'GNG8', 'GNGT1', 'GNGT2', 'GNRH1', 'GNRH2', 'GNRHR', 'GPC4', 'GPER1', 'GPR119', 'GPR161', 'GPRC6A', 'GRAP2', 'GRB10', 'GRB2', 'GREM1', 'GREM2', 'GRIA1', 'GRIA2', 'GRIA3', 'GRIA4', 'GRIN1', 'GRIN2A', 'GRIN2B', 'GRIN2C', 'GRIN2D', 'GRIN3A', 'GRIN3B', 'GRK1', 'GRK4', 'GRK5', 'GRK6', 'GRK7', 'GRM1', 'GRM2', 'GRM3', 'GRM4', 'GRM5', 'GRM6', 'GRM7', 'GRM8', 'GRPR', 'GSDMD', 'GSK3A', 'GSK3B', 'GTF2I', 'GTF2IRD1', 'GTSE1', 'GUCY1A2', 'GYS1', 'GYS2', 'HAMP', 'HBEGF', 'HCAR1', 'HCAR2', 'HCAR3', 'HCK', 'HCN2', 'HCN4', 'HDAC1', 'HDAC2', 'HDAC3', 'HDAC4', 'HDAC5', 'HES1', 'HES5', 'HEY1', 'HEY2', 'HEYL', 'HGF', 'HHAT', 'HHATL', 'HHIP', 'HIF1A', 'HK1', 'HK2', 'HK3', 'HKDC1', 'HMGCR', 'HMGCS1', 'HMGCS2', 'HMOX1', 'HNF4A', 'HOMER1', 'HOMER2', 'HOMER3', 'HRAS', 'HRC', 'HRH1', 'HRH2', 'HSP90AA1', 'HSP90AB1', 'HSP90B1', 'HSPA1A', 'HSPA1B', 'HSPA1L', 'HSPA2', 'HSPA6', 'HSPA8', 'HSPB1', 'HTR1A', 'HTR1B', 'HTR1D', 'HTR1E', 'HTR1F', 'HTR2A', 'HTR2B', 'HTR2C', 'HTR4', 'HTR5A', 'HTR6', 'HTR7', 'IBSP', 'ICAM1', 'ICOS', 'ID1', 'ID2', 'ID3', 'ID4', 'IFI16', 'IFIH1', 'IFNA1', 'IFNA10', 'IFNA13', 'IFNA14', 'IFNA16', 'IFNA17', 'IFNA2', 'IFNA21', 'IFNA4', 'IFNA5', 'IFNA6', 'IFNA7', 'IFNA8', 'IFNAR1', 'IFNAR2', 'IFNB1', 'IFNE', 'IFNG', 'IFNGR1', 'IFNGR2', 'IFNK', 'IFNL1', 'IFNL2', 'IFNL3', 'IFNLR1', 'IFNW1', 'IGF1', 'IGF1R', 'IGF2', 'IGFBP3', 'IHH', 'IKBKB', 'IKBKE', 'IKBKG', 'IL10', 'IL10RA', 'IL10RB', 'IL11', 'IL11RA', 'IL12A', 'IL12B', 'IL12RB1', 'IL12RB2', 'IL13', 'IL13RA1', 'IL13RA2', 'IL15', 'IL15RA', 'IL17A', 'IL17B', 'IL17C', 'IL17D', 'IL17F', 'IL17RA', 'IL17RB', 'IL17RC', 'IL17RE', 'IL18', 'IL19', 'IL1A', 'IL1B', 'IL1R1', 'IL1RAP', 'IL2', 'IL20', 'IL20RA', 'IL20RB', 'IL21', 'IL21R', 'IL22', 'IL22RA1', 'IL22RA2', 'IL23A', 'IL23R', 'IL24', 'IL25', 'IL27RA', 'IL2RA', 'IL2RB', 'IL2RG', 'IL3', 'IL3RA', 'IL4', 'IL4R', 'IL5', 'IL5RA', 'IL6', 'IL6R', 'IL6ST', 'IL7', 'IL7R', 'IL9', 'IL9R', 'ILK', 'INHBA', 'INHBB', 'INHBC', 'INHBE', 'INPP5A', 'INPP5D', 'INPPL1', 'INS', 'INSL3', 'INSL5', 'INSR', 'INVS', 'IQCE', 'IRAK1', 'IRAK2', 'IRAK3', 'IRAK4', 'IRF1', 'IRF3', 'IRF5', 'IRF7', 'IRF9', 'IRS1', 'IRS2', 'IRS4', 'ISG15', 'ITCH', 'ITGA1', 'ITGA10', 'ITGA11', 'ITGA2', 'ITGA2B', 'ITGA3', 'ITGA4', 'ITGA5', 'ITGA6', 'ITGA7', 'ITGA8', 'ITGA9', 'ITGAL', 'ITGAM', 'ITGAV', 'ITGB1', 'ITGB2', 'ITGB3', 'ITGB4', 'ITGB5', 'ITGB6', 'ITGB7', 'ITGB8', 'ITK', 'ITPKA', 'ITPKB', 'ITPKC', 'ITPR1', 'ITPR2', 'ITPR3', 'JAG1', 'JAG2', 'JAK1', 'JAK2', 'JAK3', 'JMJD7-PLA2G4B', 'JUN', 'JUND', 'KAT2A', 'KAT2B', 'KCNJ12', 'KCNJ14', 'KCNJ18', 'KCNJ2', 'KCNJ3', 'KCNJ4', 'KCNJ5', 'KCNJ6', 'KCNJ8', 'KCNJ9', 'KCNMA1', 'KCNMB1', 'KCNMB2', 'KCNMB3', 'KCNMB4', 'KCNU1', 'KDR', 'KIDINS220', 'KIF3A', 'KIF7', 'KIT', 'KITLG', 'KLF2', 'KLF4', 'KNG1', 'KRAS', 'KRIT1', 'KRT10', 'KRT12', 'KRT13', 'KRT14', 'KRT15', 'KRT16', 'KRT17', 'KRT18', 'KRT19', 'KRT20', 'KRT23', 'KRT24', 'KRT25', 'KRT26', 'KRT27', 'KRT28', 'KRT31', 'KRT32', 'KRT33A', 'KRT33B', 'KRT34', 'KRT35', 'KRT36', 'KRT37', 'KRT38', 'KRT39', 'KRT40', 'KRT9', 'KSR1', 'KSR2', 'LAMA1', 'LAMA2', 'LAMA3', 'LAMA4', 'LAMA5', 'LAMB1', 'LAMB2', 'LAMB3', 'LAMB4', 'LAMC1', 'LAMC2', 'LAMC3', 'LAMTOR1', 'LAMTOR2', 'LAMTOR3', 'LAMTOR4', 'LAMTOR5', 'LAT', 'LATS1', 'LATS2', 'LCK', 'LCN2', 'LCP2', 'LDHA', 'LDHAL6A', 'LDHAL6B', 'LDHB', 'LDHC', 'LEF1', 'LEFTY1', 'LEFTY2', 'LEP', 'LEPR', 'LFNG', 'LGR4', 'LGR5', 'LGR6', 'LHB', 'LHCGR', 'LIF', 'LIFR', 'LILRA1', 'LILRA2', 'LILRA3', 'LILRA4', 'LILRA5', 'LILRA6', 'LILRB1', 'LILRB2', 'LILRB3', 'LILRB4', 'LILRB5', 'LIMD1', 'LIPE', 'LLGL1', 'LLGL2', 'LPAR1', 'LPAR2', 'LPAR3', 'LPAR4', 'LPAR5', 'LPAR6', 'LPIN1', 'LPIN2', 'LPIN3', 'LPL', 'LRP2', 'LRP5', 'LRP6', 'LSP1', 'LTA', 'LTB', 'LTB4R2', 'LTBP1', 'LTBR', 'LY96', 'LYN', 'MAGED1', 'MAGI1', 'MAGI2', 'MAGI3', 'MALT1', 'MAML1', 'MAML2', 'MAML3', 'MAP2K1', 'MAP2K2', 'MAP2K3', 'MAP2K4', 'MAP2K5', 'MAP2K6', 'MAP2K7', 'MAP3K1', 'MAP3K11', 'MAP3K12', 'MAP3K13', 'MAP3K14', 'MAP3K2', 'MAP3K3', 'MAP3K4', 'MAP3K5', 'MAP3K6', 'MAP3K7', 'MAP3K8', 'MAP4K1', 'MAP4K2', 'MAP4K3', 'MAP4K4', 'MAPK1', 'MAPK10', 'MAPK11', 'MAPK12', 'MAPK13', 'MAPK14', 'MAPK15', 'MAPK3', 'MAPK4', 'MAPK6', 'MAPK7', 'MAPK8', 'MAPK8IP1', 'MAPK8IP2', 'MAPK8IP3', 'MAPK9', 'MAPKAP1', 'MAPKAPK2', 'MAPKAPK3', 'MAPKAPK5', 'MAPT', 'MATK', 'MAVS', 'MAX', 'MC2R', 'MCL1', 'MCOLN1', 'MCOLN2', 'MCOLN3', 'MDM2', 'MDM4', 'ME1', 'ME3', 'MECOM', 'MED1', 'MED12', 'MED12L', 'MED13', 'MED13L', 'MED14', 'MED16', 'MED17', 'MED24', 'MED27', 'MED30', 'MED4', 'MEF2A', 'MEF2B', 'MEF2C', 'MEF2D', 'MEFV', 'MEGF8', 'MET', 'MFN1', 'MFN2', 'MFNG', 'MGRN1', 'MIOS', 'MKNK1', 'MKNK2', 'MLKL', 'MLST8', 'MLYCD', 'MMP1', 'MMP13', 'MMP14', 'MMP2', 'MMP3', 'MMP7', 'MMP9', 'MOB1A', 'MOB1B', 'MPL', 'MRAS', 'MS4A2', 'MST1', 'MST1R', 'MTCP1', 'MTOR', 'MUC5AC', 'MUC5B', 'MYB', 'MYC', 'MYD88', 'MYH6', 'MYH7', 'MYL2', 'MYL3', 'MYL4', 'MYL6', 'MYL6B', 'MYL9', 'MYLK', 'MYLK2', 'MYLK3', 'MYLK4', 'NAIP', 'NAMPT', 'NANOG', 'NANOGP8', 'NBL1', 'NCF1', 'NCK1', 'NCK2', 'NCOA1', 'NCOA2', 'NCOA3', 'NCOR1', 'NCOR2', 'NCSTN', 'NEK7', 'NEO1', 'NF1', 'NF2', 'NFATC1', 'NFATC2', 'NFATC3', 'NFATC4', 'NFKB1', 'NFKB2', 'NFKBIA', 'NFKBIB', 'NFKBIE', 'NGF', 'NGFR', 'NKD1', 'NKD2', 'NLK', 'NLRC4', 'NLRP1', 'NLRP12', 'NLRP3', 'NLRP6', 'NLRP7', 'NLRX1', 'NOD1', 'NOD2', 'NODAL', 'NOG', 'NOS1', 'NOS2', 'NOS3', 'NOTCH1', 'NOTCH2', 'NOTCH3', 'NOTCH4', 'NOTUM', 'NOX1', 'NOX4', 'NPPA', 'NPPB', 'NPPC', 'NPR1', 'NPR2', 'NPRL2', 'NPRL3', 'NPY', 'NPY1R', 'NR1H3', 'NR4A1', 'NRAS', 'NRF1', 'NRG1', 'NRG2', 'NRG3', 'NRG4', 'NSMAF', 'NTF3', 'NTF4', 'NTRK1', 'NTRK2', 'NTRK3', 'NTSR1', 'NUMB', 'NUMBL', 'OLR1', 'OPRD1', 'OPRM1', 'ORAI1', 'ORAI2', 'ORAI3', 'OSM', 'OSMR', 'OTUD5', 'OXT', 'OXTR', 'P2RX1', 'P2RX2', 'P2RX3', 'P2RX4', 'P2RX5', 'P2RX6', 'P2RX7', 'P2RY1', 'PAK1', 'PAK2', 'PAK3', 'PAK4', 'PAK6', 'PARD3', 'PARD6A', 'PARD6B', 'PARD6G', 'PCK1', 'PCK2', 'PDCD1', 'PDE10A', 'PDE1A', 'PDE1B', 'PDE1C', 'PDE2A', 'PDE3A', 'PDE3B', 'PDE4A', 'PDE4B', 'PDE4C', 'PDE4D', 'PDGFA', 'PDGFB', 'PDGFC', 'PDGFD', 'PDGFRA', 'PDGFRB', 'PDHA1', 'PDHA2', 'PDHB', 'PDK1', 'PDPK1', 'PERP', 'PF4', 'PF4V1', 'PFKFB1', 'PFKFB2', 'PFKFB3', 'PFKFB4', 'PFKL', 'PFKM', 'PFKP', 'PFN1', 'PFN2', 'PFN3', 'PFN4', 'PGAM5', 'PGF', 'PGK1', 'PGK2', 'PGR', 'PHKA1', 'PHKA2', 'PHKB', 'PHKG1', 'PHKG2', 'PHLPP1', 'PHLPP2', 'PIAS1', 'PIAS2', 'PIAS3', 'PIAS4', 'PIDD1', 'PIK3AP1', 'PIK3C3', 'PIK3CA', 'PIK3CB', 'PIK3CD', 'PIK3CG', 'PIK3R1', 'PIK3R2', 'PIK3R3', 'PIK3R4', 'PIK3R5', 'PIK3R6', 'PIM1', 'PIN1', 'PIP5K1A', 'PIP5K1B', 'PIP5K1C', 'PITX2', 'PKLR', 'PKM', 'PKN1', 'PKN2', 'PKN3', 'PLA1A', 'PLA2G10', 'PLA2G12A', 'PLA2G12B', 'PLA2G1B', 'PLA2G2A', 'PLA2G2C', 'PLA2G2D', 'PLA2G2E', 'PLA2G2F', 'PLA2G3', 'PLA2G4A', 'PLA2G4B', 'PLA2G4C', 'PLA2G4D', 'PLA2G4E', 'PLA2G4F', 'PLA2G5', 'PLA2G6', 'PLAT', 'PLAU', 'PLCB1', 'PLCB2', 'PLCB3', 'PLCB4', 'PLCD1', 'PLCD3', 'PLCD4', 'PLCE1', 'PLCG1', 'PLCG2', 'PLCZ1', 'PLD1', 'PLD2', 'PLIN1', 'PLIN2', 'PLIN4', 'PLIN5', 'PLK1', 'PLK2', 'PLK3', 'PLK4', 'PLN', 'PLTP', 'PMAIP1', 'POMC', 'PORCN', 'POU5F1', 'POU5F1B', 'PPARA', 'PPARD', 'PPARG', 'PPARGC1A', 'PPBP', 'PPIF', 'PPM1A', 'PPM1B', 'PPM1D', 'PPP1CA', 'PPP1CB', 'PPP1CC', 'PPP1R12A', 'PPP1R12B', 'PPP1R12C', 'PPP1R1B', 'PPP1R3A', 'PPP1R3B', 'PPP1R3C', 'PPP1R3D', 'PPP1R3E', 'PPP1R3F', 'PPP2CA', 'PPP2CB', 'PPP2R1A', 'PPP2R1B', 'PPP2R2A', 'PPP2R2B', 'PPP2R2C', 'PPP2R2D', 'PPP2R3A', 'PPP2R3B', 'PPP2R3C', 'PPP2R5A', 'PPP2R5B', 'PPP2R5C', 'PPP2R5D', 'PPP2R5E', 'PPP3CA', 'PPP3CB', 'PPP3CC', 'PPP3R1', 'PPP3R2', 'PPP4C', 'PPP5C', 'PRDM4', 'PREX1', 'PRICKLE1', 'PRICKLE2', 'PRICKLE3', 'PRICKLE4', 'PRKAA1', 'PRKAA2', 'PRKAB1', 'PRKAB2', 'PRKACA', 'PRKACB', 'PRKACG', 'PRKAG1', 'PRKAG2', 'PRKAG3', 'PRKAR1A', 'PRKAR1B', 'PRKAR2A', 'PRKAR2B', 'PRKCA', 'PRKCB', 'PRKCD', 'PRKCE', 'PRKCG', 'PRKCI', 'PRKCQ', 'PRKCZ', 'PRKD1', 'PRKD2', 'PRKD3', 'PRKG1', 'PRKG2', 'PRL', 'PRLR', 'PRMT1', 'PRR5', 'PSEN1', 'PSEN2', 'PSENEN', 'PSTPIP1', 'PTAFR', 'PTCH1', 'PTCH2', 'PTCRA', 'PTEN', 'PTGER1', 'PTGER2', 'PTGER3', 'PTGFR', 'PTGS2', 'PTK2', 'PTK2B', 'PTPN1', 'PTPN11', 'PTPN2', 'PTPN5', 'PTPN6', 'PTPN7', 'PTPRC', 'PTPRF', 'PTPRR', 'PXN', 'PYCARD', 'PYDC1', 'PYDC2', 'PYGB', 'PYGL', 'PYGM', 'RAB10', 'RAB11B', 'RAB14', 'RAB2A', 'RAB5A', 'RAB5B', 'RAB5C', 'RAB8A', 'RAC1', 'RAC2', 'RAC3', 'RAF1', 'RAG1', 'RAG2', 'RALA', 'RALB', 'RALBP1', 'RALGDS', 'RAP1A', 'RAP1B', 'RAP1GAP', 'RAPGEF1', 'RAPGEF2', 'RAPGEF3', 'RAPGEF4', 'RAPGEF5', 'RAPGEF6', 'RARA', 'RASA1', 'RASA2', 'RASA3', 'RASA4', 'RASA4B', 'RASAL1', 'RASAL2', 'RASAL3', 'RASGRF1', 'RASGRF2', 'RASGRP1', 'RASGRP2', 'RASGRP3', 'RASGRP4', 'RASSF1', 'RASSF2', 'RASSF4', 'RASSF5', 'RASSF6', 'RBCK1', 'RBL1', 'RBL2', 'RBPJ', 'RBPJL', 'RBX1', 'RCAN1', 'RCAN2', 'RCHY1', 'REL', 'RELA', 'RELB', 'RELN', 'RET', 'RFNG', 'RGL1', 'RGL2', 'RGMA', 'RGMB', 'RGS14', 'RGS2', 'RHEB', 'RHOA', 'RHOQ', 'RICTOR', 'RIN1', 'RIPK1', 'RIPK2', 'RIPK3', 'RLN1', 'RLN2', 'RLN3', 'RNASEL', 'RNF125', 'RNF152', 'RNF31', 'RNF43', 'ROCK1', 'ROCK2', 'ROR1', 'ROR2', 'RPRM', 'RPS6', 'RPS6KA1', 'RPS6KA2', 'RPS6KA3', 'RPS6KA4', 'RPS6KA5', 'RPS6KA6', 'RPS6KB1', 'RPS6KB2', 'RPTOR', 'RRAGA', 'RRAGB', 'RRAGC', 'RRAGD', 'RRAS', 'RRAS2', 'RRM2', 'RRM2B', 'RSPO1', 'RSPO2', 'RSPO3', 'RSPO4', 'RUVBL1', 'RXFP1', 'RXFP2', 'RXFP3', 'RXFP4', 'RXRA', 'RXRB', 'RXRG', 'RYK', 'RYR1', 'RYR2', 'RYR3', 'S100A7', 'S100A7A', 'S100A8', 'S100A9', 'S1PR1', 'S1PR2', 'S1PR3', 'S1PR4', 'S1PR5', 'SAV1', 'SCD', 'SCD5', 'SCP2', 'SCRIB', 'SEC13', 'SEH1L', 'SELE', 'SENP2', 'SERPINB5', 'SERPINE1', 'SERPINF1', 'SESN1', 'SESN2', 'SESN3', 'SETD7', 'SFN', 'SFRP1', 'SFRP2', 'SFRP4', 'SFRP5', 'SGK1', 'SGK2', 'SGK3', 'SH2B1', 'SH2B2', 'SH2B3', 'SH2D2A', 'SHARPIN', 'SHC1', 'SHC2', 'SHC3', 'SHC4', 'SHH', 'SHISA5', 'SHOC2', 'SIAH1', 'SIK1', 'SIK2', 'SIKE1', 'SIN3A', 'SIPA1', 'SIPA1L1', 'SIPA1L2', 'SIRT1', 'SIVA1', 'SKAP1', 'SKP1', 'SKP2', 'SLC25A31', 'SLC25A4', 'SLC25A5', 'SLC25A6', 'SLC27A1', 'SLC27A4', 'SLC2A1', 'SLC2A2', 'SLC2A4', 'SLC38A9', 'SLC3A2', 'SLC7A5', 'SLC8A1', 'SLC8A2', 'SLC8A3', 'SLC9A1', 'SMAD1', 'SMAD2', 'SMAD3', 'SMAD4', 'SMAD5', 'SMAD6', 'SMAD7', 'SMAD9', 'SMO', 'SMPD1', 'SMPD2', 'SMURF1', 'SMURF2', 'SNAI2', 'SNW1', 'SOCS1', 'SOCS2', 'SOCS3', 'SOCS4', 'SOCS5', 'SOCS6', 'SOCS7', 'SOD2', 'SORBS1', 'SORT1', 'SOS1', 'SOS2', 'SOST', 'SOX17', 'SOX2', 'SOX9', 'SP1', 'SPHK1', 'SPHK2', 'SPOP', 'SPOPL', 'SPP1', 'SRC', 'SREBF1', 'SRF', 'SRSF1', 'SST', 'SSTR1', 'SSTR2', 'SSTR5', 'STAM', 'STAM2', 'STAT1', 'STAT2', 'STAT3', 'STAT4', 'STAT5A', 'STAT5B', 'STAT6', 'STEAP3', 'STIM1', 'STIM2', 'STK11', 'STK3', 'STK4', 'STMN1', 'STRADA', 'STRADB', 'SUCNR1', 'SUFU', 'SUGT1', 'SYK', 'SYNGAP1', 'TAB1', 'TAB2', 'TAB3', 'TACR1', 'TACR2', 'TACR3', 'TANK', 'TAOK1', 'TAOK2', 'TAOK3', 'TBC1D1', 'TBC1D4', 'TBC1D7', 'TBK1', 'TBKBP1', 'TBL1X', 'TBL1XR1', 'TBL1Y', 'TBX3', 'TBXA2R', 'TCF3', 'TCF7', 'TCF7L1', 'TCF7L2', 'TCL1A', 'TCL1B', 'TEAD1', 'TEAD2', 'TEAD3', 'TEAD4', 'TEC', 'TEK', 'TELO2', 'TF', 'TFAM', 'TFDP1', 'TFF1', 'TFRC', 'TGFA', 'TGFB1', 'TGFB2', 'TGFB3', 'TGFBR1', 'TGFBR2', 'TGIF1', 'TGIF2', 'TH', 'THBD', 'THBS1', 'THBS2', 'THBS3', 'THBS4', 'THEM4', 'THPO', 'THRA', 'THRB', 'TIAM1', 'TICAM1', 'TICAM2', 'TIMP1', 'TIRAP', 'TKFC', 'TLE1', 'TLE2', 'TLE3', 'TLE4', 'TLE6', 'TLN1', 'TLN2', 'TLR1', 'TLR2', 'TLR3', 'TLR4', 'TLR5', 'TLR6', 'TLR7', 'TLR8', 'TLR9', 'TNC', 'TNF', 'TNFAIP3', 'TNFRSF10A', 'TNFRSF10B', 'TNFRSF11A', 'TNFRSF13C', 'TNFRSF1A', 'TNFRSF1B', 'TNFSF10', 'TNFSF11', 'TNFSF13B', 'TNFSF14', 'TNN', 'TNNC1', 'TNNC2', 'TNNI3', 'TNR', 'TNXB', 'TOLLIP', 'TP53', 'TP53AIP1', 'TP53BP1', 'TP53BP2', 'TP53I3', 'TP73', 'TPCN1', 'TPCN2', 'TRADD', 'TRAF1', 'TRAF2', 'TRAF3', 'TRAF3IP2', 'TRAF4', 'TRAF5', 'TRAF6', 'TRDN', 'TRHR', 'TRIM25', 'TRIP10', 'TRIP6', 'TRPC6', 'TRPM2', 'TSC1', 'TSC2', 'TSHB', 'TSHR', 'TSLP', 'TTI1', 'TXN', 'TXN2', 'TXNIP', 'TYK2', 'UBC', 'UCP1', 'ULK1', 'ULK2', 'USP25', 'USP7', 'VANGL1', 'VANGL2', 'VASP', 'VAV1', 'VAV2', 'VAV3', 'VCAM1', 'VDAC1', 'VDAC2', 'VDAC3', 'VEGFA', 'VEGFB', 'VEGFC', 'VEGFD', 'VHL', 'VIP', 'VIPR2', 'VTN', 'VWF', 'WAS', 'WDR24', 'WDR59', 'WIF1', 'WNT1', 'WNT10A', 'WNT10B', 'WNT11', 'WNT16', 'WNT2', 'WNT2B', 'WNT3', 'WNT3A', 'WNT4', 'WNT5A', 'WNT5B', 'WNT6', 'WNT7A', 'WNT7B', 'WNT8A', 'WNT8B', 'WNT9A', 'WNT9B', 'WTIP', 'WWC1', 'WWTR1', 'XCL1', 'XCL2', 'XCR1', 'XIAP', 'YAP1', 'YWHAB', 'YWHAE', 'YWHAG', 'YWHAH', 'YWHAQ', 'YWHAZ', 'ZAP70', 'ZFYVE16', 'ZFYVE9', 'ZMAT3', 'ZNF274', 'ZNRF3']\n",
      "['TSPAN6', 'TNMD', 'DPM1', 'SCYL3', 'FIRRM', 'FGR', 'CFH', 'FUCA2', 'GCLC', 'NFYA', 'STPG1', 'NIPAL3', 'LAS1L', 'ENPP4', 'SEMA3F', 'CFTR', 'ANKIB1', 'CYP51A1', 'KRIT1', 'RAD52', 'MYH16', 'BAD', 'LAP3', 'CD99', 'HS3ST1', 'AOC1', 'WNT16', 'HECW1', 'MAD1L1', 'LASP1', 'SNX11', 'TMEM176A', 'M6PR', 'KLHL13', 'CYP26B1', 'ICA1', 'DBNDD1', 'ALS2', 'CASP10', 'CFLAR', 'TFPI', 'NDUFAF7', 'RBM5', 'MTMR7', 'SLC7A2', 'ARF5', 'SARM1', 'POLDIP2', 'PLXND1', 'AK2', 'CD38', 'FKBP4', 'KDM1A', 'RBM6', 'CAMKK1', 'RECQL', 'VPS50', 'HSPB6', 'ARHGAP33', 'NDUFAB1', 'PDK4', 'SLC22A16', 'ZMYND10', 'ABCB5', 'ARX', 'SLC25A13', 'ST7', 'CDC27', 'SLC4A1', 'CALCR', 'HCCS', 'DVL2', 'PRSS22', 'UPF1', 'SKAP2', 'SLC25A5', 'MCUB', 'HOXA11', 'POLR2J', 'DHX33', 'MEOX1', 'THSD7A', 'LIG3', 'RPAP3', 'ACSM3', 'REXO5', 'CIAPIN1', 'SPPL2B', 'ATOSB', 'COPZ2', 'PRKAR2B', 'MSL3', 'CREBBP', 'TSPOAP1', 'MPO', 'PON1', 'GCFC2', 'WDR54', 'CROT', 'ABCB4', 'KMT2E', 'RHBDD2', 'SOX8', 'IBTK', 'ZNF195', 'MYCBP2', 'FBXL3', 'ITGAL', 'PDK2', 'ITGA3', 'ZFX', 'LAMP2', 'ITGA2B', 'ASB4', 'GDE1', 'REX1BD', 'CRLF1', 'OSBPL7', 'TMEM98', 'YBX2', 'KRT33A', 'MAP3K14', 'ABCC8', 'CACNG3', 'TMEM132A', 'AP2B1', 'TAC1', 'ZNF263', 'CX3CL1', 'SPATA20', 'CACNA1G', 'TNFRSF12A', 'DLX6', 'MAP3K9', 'RALA', 'BAIAP2L1', 'KDM7A', 'ETV1', 'AGK', 'ALDH3B1', 'TTC22', 'PHTF2', 'CCL26', 'FARP2', 'USH1C', 'GGCT', 'DBF4', 'TBXA2R', 'IFRD1', 'LGALS14', 'COX10', 'GTF2IRD1', 'PAF1', 'VPS41', 'ARHGAP44', 'ELAC2', 'SCIN', 'ARSD', 'PNPLA4', 'MYH13', 'ADIPOR2', 'CDKL3', 'UPP2', 'PRSS21', 'MARK4', 'PROM1', 'CCDC124', 'CEACAM21', 'PAFAH1B1', 'NOS2', 'DNAH9', 'BLTP2', 'SLC13A2', 'GAS7', 'TRAPPC6A', 'MATK', 'CEACAM7', 'CD79B', 'SCN4A', 'ST7L', 'TKTL1', 'PAX6', 'RPUSD1', 'RHBDF1', 'LUC7L', 'CACNA2D2', 'BAIAP3', 'TSR3', 'PIGQ', 'CRAMP1', 'TEAD3', 'SELE', 'DNAJC11', 'FMO3', 'MYLIP', 'NOX1', 'E2F2', 'PSMB1', 'SYN1', 'JARID2', 'CDKL5', 'CAMK1G', 'CDK11A', 'NADK', 'TFAP2B', 'TFAP2D', 'DLEC1', 'CYTH3', 'ADAM22', 'SYPL1', 'CYB561', 'SPAG9', 'CELSR3', 'AASS', 'PLEKHG6', 'SS18L2', 'MPND', 'MGST1', 'CRY1', 'PGLYRP1', 'NFIX', 'ST3GAL1', 'MMP25', 'IL32', 'PKD1', 'MAPK8IP2', 'MED24', 'RHOBTB2', 'HEATR5B', 'SEC62', 'RPS20', 'CSDE1', 'UBE3C', 'REV3L', 'TENM1', 'PAX7', 'MASP2', 'IYD', 'FAM76A', 'TRAF3IP3', 'POMT2', 'VTA1', 'MLXIPL', 'BAZ1B', 'RANBP9', 'ETV7', 'SPRTN', 'METTL13', 'DYRK4', 'ZNF207', 'UQCRC1', 'STARD3NL', 'CD9', 'HHATL', 'NCAPD2', 'IFFO1', 'GIPR', 'PHF7', 'SEMA3G', 'NISCH', 'STAB1', 'FUZ', 'SLC6A13', 'IDS', 'PRSS3', 'ZNF200', 'CD4', 'LRRC23', 'BTK', 'HFE', 'SCMH1', 'FYN', 'HIVEP2', 'FMO1', 'ELOA', 'LYPLA2', 'CLCN6', 'MRC2', 'NME1-NME2', 'SLC6A7', 'TSPAN9', 'BTBD7', 'APBA3', 'MKS1', 'ABHD5', 'ANOS1', 'AKAP8L', 'MBTD1', 'UTP18', 'RNF216', 'TTC19', 'PTBP1', 'DPF1', 'SYT7', 'LARS2', 'PIK3C2A', 'PLAUR', 'ANLN', 'WIZ', 'RABGAP1', 'DCN', 'QPCTL', 'PPP5C', 'CEP68', 'MAP4K3', 'ZBTB32', 'TYROBP', 'LDAF1', 'GABRA3', 'BRCA1', 'ERCC1', 'CD22', 'SEMA3B', 'MBTPS2', 'PRICKLE3', 'LTF', 'EXTL3', 'NR1H4', 'ELOVL5', 'ALOX5', 'KDM5D', 'CALCOCO1', 'UBR7', 'MAP4K5', 'EHD3', 'PSMC4', 'MAN2B2', 'SLC7A14', 'CLDN11', 'SLC25A39', 'MVP', 'NUB1', 'PGM3', 'RWDD2A', 'CLK1', 'POLR3B', 'ANGEL1', 'RNF14', 'DNASE1L1', 'DDX11', 'HEBP1', 'GPRC5A', 'MAMLD1', 'CD6', 'TACC3', 'UFL1', 'POLA2', 'ZC3H3', 'CAPN1', 'ACP3', 'MDH1', 'SLC30A9', 'MTMR11', 'COX15', 'CCDC88C', 'YAF2', 'ZMYND11', 'WAS', 'DPEP1', 'BID', 'MATR3', 'NPC1L1', 'XYLT2', 'RGPD5', 'STMN4', 'NUDCD3', 'ISL1', 'CHDH', 'IL20RA', 'CLCA1', 'CLCA4', 'GLT8D1', 'ATP2C1', 'IGF1', 'SLC38A5', 'RALBP1', 'RUFY3', 'CNTN1', 'SLC11A1', 'WWTR1', 'AGPS', 'ZNF285CP', 'STEEP1', 'ATP1A2', 'TTC27', 'ZNF582', 'VSIG2', 'PHLDB1', 'MARCO', 'CYP24A1', 'PRDM11', 'SYT13', 'SNAI2', 'CD74', 'HGF', 'ZRANB1', 'NCDN', 'ADGRA2', 'CCT8L1P', 'ZFP64', 'MNAT1', 'SAMD4A', 'RUNX3', 'MRE11', 'PLEKHB1', 'SERPINB1', 'CYP3A43', 'SLC7A9', 'SPAST', 'NRXN3', 'OSBPL5', 'AQR', 'CPS1', 'C8B', 'FHL1', 'RTF2', 'GABRA1', 'NLRP2', 'SLC45A4', 'RNF10', 'ZNF839', 'ZDHHC6', 'GRAMD1B', 'RNH1', 'NDUFS1', 'RB1CC1', 'ERP44', 'ALAS1', 'BIRC3', 'AKAP11', 'GLRX2', 'SNAPC1', 'DERA', 'STRAP', 'ABCC2', 'DEF6', 'PLEKHO1', 'GCLM', 'UBR2', 'EHD2', 'DEPDC1', 'CCDC28A', 'RRAGD', 'HSF2', 'PHF20', 'HSD17B6', 'NR1H3', 'TYMP', 'NCAPH2', 'TOMM34', 'SEC63', 'KPNA6', 'VIM', 'RTEL1-TNFRSF6B', 'FAS', 'RNASET2', 'CD44', 'KCNG1', 'AGPAT4', 'SLAMF7', 'BTN3A1', 'MIPEP', 'PRKCH', 'INSRR', 'IFNGR1', 'B4GALT7', 'SH2D2A', 'VRK2', 'TNFRSF1B', 'VEZT', 'POU2F2', 'BRD9', 'SNX1', 'TBPL1', 'BMAL2', 'BCLAF1', 'SLC39A9', 'ANK1', 'IBSP', 'TFB1M', 'RABEP1', 'HMGB3', 'NUP160', 'BAK1', 'MUSK', 'IKZF2', 'GRN', 'FAM13B', 'ARHGAP31', 'CENPQ', 'SARS1', 'RANBP3', 'ARID4A', 'EIPR1', 'PNPLA6', 'IFT88', 'ALG1', 'ZCCHC8', 'ABCF2', 'CHPF2', 'LRRC7', 'FUT8', 'UBA6', 'GAB2', 'ATP6V0A1', 'PIAS1', 'SLC4A7', 'APBA2', 'MAP2K3', 'CLXN', 'TMSB10', 'ASTE1', 'RNF19A', 'PEX3', 'GABARAPL2', 'MYOC', 'SH3YL1', 'FAM136A', 'VCL', 'DEPDC1B', 'DAPK2', 'NSMAF', 'ADSS2', 'STAP1', 'TIMP2', 'RFC1', 'TBC1D23', 'CUL3', 'MYOM2', 'OTC', 'CYP46A1', 'ZZZ3', 'SLC18A1', 'USP2', 'CASR', 'TUBG2', 'RPL26L1', 'FLT4', 'NSUN2', 'FBXO42', 'MFAP3', 'MRI1', 'METTL1', 'HOXC8', 'AGA', 'PI4K2B', 'BOD1L1', 'MAT2B', 'TLL1', 'EDC4', 'TRIO', 'VCAN', 'CLEC16A', 'MSR1', 'CDH1', 'MTREX', 'DNAH5', 'ZFYVE16', 'RIPOR1', 'C6', 'RAI14', 'SOX30', 'PNKP', 'BEST2', 'PHLPP2', 'SPDL1', 'STAU2', 'SLC66A1', 'CTNS', 'RTN4R', 'PHF23', 'CDH10', 'INPP4A', 'RAB27B', 'PSMA4', 'MYO16', 'LSG1', 'PARP3', 'TNC', 'THAP3', 'RIPOR3', 'TDP1', 'AIFM2', 'C2orf83', 'SPATA7', 'MED17', 'RETSAT', 'CAPG', 'AP2S1', 'USH2A', 'ZPBP', 'TG', 'ADAM28', 'BARX2', 'DCUN1D1', 'JADE2', 'ZIC2', 'LCP2', 'TRIT1', 'ADRB1', 'GUCA2B', 'CUL7', 'CTNNA1', 'PHKA2', 'CNTLN', 'EPHA3', 'HSPA5', 'DSG2', 'GEMIN8', 'OFD1', 'GPM6B', 'MAGEC2', 'PREX2', 'WDR37', 'YTHDC2', 'CTPS2', 'ATP6V1H', 'POLR2B', 'ATOSA', 'ARAP2', 'TPR', 'CP', 'KATNIP', 'DTNBP1', 'XK', 'ANO2', 'C12orf4', 'SCML1', 'WWC3', 'ARHGAP6', 'FAM184B', 'MAP4', 'GOPC', 'ROS1', 'USP28', 'HDAC9', 'TSPAN17', 'NOP16', 'CC2D2A', 'RRM2B', 'ZNF800', 'TNFRSF17', 'SNX29', 'LMO3', 'MRPS10', 'GUCA1A', 'RSF1', 'VPS13D', 'CELF2', 'FAM120A', 'R3HDM1', 'COL9A2', 'KITLG', 'ERCC8', 'ADAMTS6', 'H6PD', 'VAMP3', 'PER3', 'UTS2', 'TNFRSF9', 'EPN3', 'LTBP1', 'RCN1', 'ELN', 'RFC2', 'ARID1B', 'CLPTM1L', 'NEDD4L', 'FOXP3', 'PPP1R3F', 'HEXB', 'PTCD2', 'NEXMIF', 'JKAMP', 'DKK3', 'ARHGEF5', 'NFE2L3', 'MCUR1', 'LIMA1', 'LETMD1', 'SLC4A8', 'LAMC3', 'PTGER3', 'TNIP3', 'MAPK9', 'COL23A1', 'BCAR1', 'FHIP1B', 'HERPUD1', 'HOMER3', 'RAD51', 'POLQ', 'PIK3CB', 'CYBA', 'THOC3', 'HEBP2', 'MPHOSPH9', 'PLEKHA5', 'PRSS8', 'SIKE1', 'RRP12', 'FNIP2', 'MSMO1', 'TTC17', 'ALX4', 'FSTL4', 'FOXN3', 'METTL24', 'AKR7A2', 'MRTO4', 'NNAT', 'USE1', 'MCF2L2', 'NRIP2', 'LAMA3', 'AP5M1', 'ANAPC4', 'KCNQ1', 'TRAPPC3', 'THRAP3', 'PHPT1', 'ENTPD2', 'LY75', 'ARID4B', 'OPN3', 'SDCCAG8', 'PTPRN', 'HHAT', 'KIF1B', 'FOXC1', 'TBC1D22A', 'SYNE2', 'PLEKHH1', 'ATP9A', 'SPO11', 'CBLN4', 'CHRDL2', 'FAM168A', 'RELT', 'GALC', 'NOP58', 'SZRD1', 'KCNH2', 'CUL1', 'FAM114A2', 'CYFIP2', 'TAB2', 'GINM1', 'EIF2AK2', 'USP36', 'KMT2C', 'MCOLN3', 'CCDC85A', 'PUM2', 'MRPL43', 'ITIH4', 'ITIH1', 'HPF1', 'ZFR', 'ZNF280C', 'NPFFR2', 'PHF21B', 'TRAF1', 'RC3H2', 'IL17RB', 'TRAF3IP2', 'GYG2', 'DCBLD2', 'SERPINB3', 'SOAT1', 'PKP2', 'MSH4', 'F7', 'GDI2', 'PRDM1', 'ATG5', 'TMCC3', 'PITHD1', 'MTA3', 'USP13', 'ATP11B', 'LAMC2', 'CDK14', 'SEC61A1', 'PPP1R12A', 'RASGRF1', 'CAMK2B', 'CROCC', 'POLR3E', 'ATP2B4', 'ZC3H11A', 'RIOK2', 'YIPF1', 'NDC1', 'DGKG', 'FLYWCH1', 'UNKL', 'TBXAS1', 'PARP12', 'ALDH18A1', 'TARBP1', 'GATB', 'MXD1', 'CDK17', 'DNAJC25', 'SLC2A3', 'PSD', 'CTDP1', 'YBX3', 'STYK1', 'WNK1', 'RPS17P5', 'CCAR1', 'OGFR', 'GNA15', 'CREB3L3', 'PIGV', 'PTPRU', 'SNRNP40', 'RIMBP2', 'COL11A1', 'QSER1', 'MPC1', 'ACAA1', 'BCAT1', 'HDAC7', 'LZTS1', 'PRDM6', 'WNT8A', 'SPAG4', 'NCKAP1', 'MRPS35', 'GUCY1B1', 'SFSWAP', 'TNK2', 'MON2', 'CDH3', 'ARSF', 'GPBP1', 'DGAT2', 'ZNF112', 'CS', 'LTK', 'MRPS24', 'ELMO2', 'WAPL', 'VMP1', 'APPBP2', 'POLD1', 'SEZ6', 'EIF4B', 'SLC6A16', 'BICRA', 'SPHK2', 'RPL18', 'CA11', 'ISOC2', 'U2AF2', 'EPN1', 'MED29', 'AHRR', 'GSC2', 'ZNF275', 'MTMR1', 'GPC1', 'ADCK1', 'HAGH', 'RNF4', 'CASP8', 'LIMCH1', 'INTS13', 'TM7SF3', 'DLX3', 'SPA17', 'TSPAN32', 'CCN5', 'DMRT3', 'ST3GAL6', 'ATP2C2', 'NGFR', 'CDON', 'TAF2', 'HIPK2', 'TNPO3', 'BORCS8-MEF2B', 'RFXANK', 'TMEM161A', 'LPAR2', 'CTSA', 'SUGP2', 'SLC12A2', 'SNX24', 'EYA2', 'CNN2', 'ABCA7', 'SNCAIP', 'DDX20', 'BTBD1', 'FAR2', 'BCAS1', 'POU1F1', 'CHI3L2', 'SBNO2', 'PMS1', 'HMG20B', 'CALCRL', 'TAF11', 'ANKS1A', 'AP3D1', 'ZNF76', 'NHERF2', 'NTHL1', 'BLTP3A', 'GNAI3', 'IPO5', 'OAT', 'WDR3', 'PKN2', 'WDR18', 'TRAM2', 'NTN1', 'GLP2R', 'MCM10', 'DGKA', 'ERBB3', 'ROPN1', 'ANKRD44', 'KARS1', 'ADAT1', 'PDIA5', 'TBC1D22B', 'NDUFB4', 'SPEN', 'MYLK', 'ZC3H15', 'MAP2K4', 'PACC1', 'SNAP91', 'SLK', 'CYB5R4', 'COL17A1', 'GSTO2', 'SEC61A2', 'PRKCQ', 'TLE2', 'ASB1', 'FAM107B', 'ME1', 'TBC1D1', 'CDK13', 'MTHFD2', 'SLC9A7', 'FOXJ2', 'YBX1', 'PDE4A', 'PPP2R5A', 'CTNNA2', 'ELAVL1', 'TIE1', 'DIP2B', 'SMARCD1', 'KDM4A', 'NFYC', 'ZMYND12', 'SLC9A3', 'NGEF', 'ASPM', 'CD84', 'ELOVL1', 'SPI1', 'POLR1H', 'MPPED2', 'CLDN18', 'ZBTB11', 'ATXN3', 'GOLGA5', 'FGFR2', 'LRRC40', 'ISOC1', 'EML1', 'TRMT11', 'THUMPD1', 'MSANTD3', 'KIF26A', 'ATG2B', 'ARFGEF1', 'ACSM2B', 'ZFAT', 'MTFR1', 'STAG3', 'FECH', 'MYO9A', 'DDX3Y', 'PFKP', 'IDI1', 'SP100', 'KLF6', 'PLPP1', 'NEO1', 'TRAM1', 'PHKA1', 'TNFRSF1A', 'CACNB1', 'EVI5', 'STOML1', 'PKM', 'DHX29', 'DNTTIP2', 'METTL22', 'TP53BP1', 'TRO', 'RRP15', 'RHOA', 'DHX8', 'PMS2P4', 'PRKCZ', 'ZFY', 'IARS2', 'SYT1', 'NAV3', 'IDH3G', 'ROGDI', 'PDZD4', 'ATP2B3', 'ROCK1', 'CBFB', 'PDK3', 'HYAL2', 'HDAC4', 'RASSF1', 'FGFR3', 'IFI35', 'HEATR6', 'COASY', 'PLEKHH3', 'MEF2A', 'OTUD5', 'TFE3', 'TBC1D25', 'ACSL4', 'INPP5A', 'GPKOW', 'GRIPAP1', 'FTSJ1', 'PRR11', 'REEP1', 'ATP11A', 'POLR1A', 'LAPTM4A', 'TTC7A', 'IP6K2', 'STON1-GTF2A1L', 'SRBD1', 'KIF2A', 'RASGRP2', 'PSME4', 'IFT80', 'SIRT2', 'ERLEC1', 'PPP2R5B', 'PYGM', 'PAGE1', 'PITX1', 'TRPC7', 'MAST4', 'ADGRF5', 'SDK2', 'ADAM7', 'NUP133', 'NUCKS1', 'VPS35', 'DNAJA2', 'BCL3', 'KCNAB2', 'ABCC9', 'GAL', 'CLEC2D', 'FUNDC1', 'MAOB', 'RORA', 'DRD4', 'TGFBR3', 'PLA2G10', 'HES2', 'ATP1B3', 'NEDD4', 'PIGB', 'MAPK6', 'GNB5', 'RAB27A', 'HDHD5', 'UFD1', 'LRP6', 'GUCY2C', 'SCT', 'PHRF1', 'ELP1', 'NUCB2', 'PFN2', 'PTPN3', 'SPTB', 'DAPP1', 'FGF10', 'SLC44A1', 'TMEM260', 'SMG6', 'EXOC5', 'CLTCL1', 'FGF22', 'FSTL3', 'DGCR2', 'RNF126', 'MNT', 'ZXDC', 'JMJD6', 'POLB', 'ST6GALNAC1', 'WIPI1', 'FRMPD1', 'GBA2', 'NDST1', 'ASNS', 'AP3M2', 'CNGB1', 'ST6GALNAC2', 'CHAT', 'PABPC1', 'TESK2', 'CFAP20', 'CSNK2A2', 'PTPN21', 'EIF2B3', 'CAMK2A', 'TCOF1', 'CDC42', 'OSBPL3', 'EPHA8', 'SLC12A3', 'RAD18', 'ATP2B1', 'TRPM5', 'NCK2', 'MAP4K4', 'MGAT4A', 'RPL31', 'WDR1', 'SNX13', 'MS4A12', 'ARHGAP10', 'RPS6KA2', 'ING3', 'VASH1', 'LMCD1', 'BUD23', 'SEL1L', 'TRIP13', 'ATP6AP1', 'TCF3', 'TRIB2', 'DAZAP1', 'MBD3', 'PRLH', 'HLTF', 'FAM50A', 'FAM3A', 'CPSF1', 'MYO3B', 'CYBRD1', 'CDH19', 'PDCD2', 'SLC6A15', 'RDH11', 'PRKACA', 'ADGRL1', 'SPP2', 'ACTN1', 'ZFYVE26', 'RPS6KA6', 'EPN2', 'PTPN18', 'LIMS2', 'ASIC4', 'SPEG', 'LNX1', 'ALDH3A2', 'TFRC', 'SREBF1', 'TRPC5', 'AFF4', 'UBE2D1', 'PALS1', 'RHOBTB1', 'SMC1A', 'HSD17B10', 'MARK2', 'HMMR', 'CHFR', 'TRHDE', 'P4HA2', 'FCGR2B', 'NFATC3', 'TRNT1', 'ACADVL', 'STK10', 'FBXW11', 'ACAP1', 'CRMP1', 'EVC', 'DERL2', 'SIDT1', 'NDE1', 'IRAG1', 'TMEM38A', 'AP1M1', 'PVR', 'XRCC1', 'SCARB1', 'CYP2W1', 'MCM2', 'MOV10L1', 'PANX2', 'SELENOO', 'TP63', 'ALPK1', 'LLGL2', 'PDE8A', 'CLCN4', 'NLE1', 'SDHA', 'SMARCE1', 'FNDC8', 'GSDMB', 'KDM5A', 'ADAM11', 'PPP2R3A', 'FERMT2', 'ABCB11', 'DHRS9', 'CD5L', 'PTGS2', 'IGF2BP2', 'MAP3K13', 'ST6GAL1', 'TBX21', 'VDAC1P1', 'FRY', 'PICALM', 'NSF', 'GLI2', 'CLASP1', 'MRPS34', 'NOTCH3', 'CLNS1A', 'PPP2R2C', 'TEAD2', 'EED', 'CDHR2', 'SNCB', 'TSG101', 'NCBP3', 'ATP2A3', 'CA12', 'MGLL', 'NTN4', 'BCS1L', 'NUAK1', 'DPP8', 'SLC24A1', 'ZNF532', 'SCARF1', 'LMAN1', 'HACD3', 'IPCEF1', 'ZZEF1', 'NOX3', 'ENO1', 'SLC12A1', 'MYDGF', 'ANO8', 'TUBE1', 'ARHGEF10L', 'TXK', 'WSCD2', 'KCNQ2', 'TACR2', 'ACTR6', 'TIPIN', 'SRI', 'EIF4G3', 'NUP37', 'SEMA3A', 'GTSE1', 'SEMA3C', 'TTC38', 'ACAT1', 'GRAMD4', 'CELSR1', 'WNT8B', 'ZNF638', 'SLC25A40', 'TIMM21', 'ADD2', 'FGF4', 'RASAL2', 'VPS9D1', 'ZNF37A', 'MARK3', 'SLC25A3', 'FNDC3B', 'FOSL2', 'CACNG5', 'CACNG4', 'FRYL', 'TMEM131', 'FSCN1', 'ACTB', 'MOCOS', 'PLD1', 'ATP12A', 'WDR62', 'DLG1', 'RAB7A', 'BCAP29', 'SEC31B', 'SART3', 'ARHGAP15', 'TUBA3D', 'PAX2', 'EXOSC7', 'KIFAP3', 'MKRN2', 'MCM6', 'REXO2', 'RBM7', 'RBMS2', 'BAZ2A', 'PTPN23', 'MLH1', 'UNG', 'FMO4', 'KLHL20', 'RGS11', 'SLC46A1', 'PLXNA2', 'SPAG5', 'ANKRD13A', 'TPD52', 'ACACB', 'TRAF4', 'PAG1', 'GPATCH1', 'ICAM3', 'NT5C2', 'MCAM', 'GPC4', 'MBNL3', 'CAMSAP3', 'RAP1GAP', 'XAB2', 'ARHGEF1', 'STXBP2', 'MAP2K7', 'NMRK2', 'DGKD', 'CTTNBP2', 'ACTL6B', 'RARB', 'TOP2B', 'TM9SF3', 'NFKB2', 'UBE2T', 'PPP1R12B', 'DNAJC10', 'GTF3C1', 'IL4R', 'USP33', 'PAK3', 'CAPN6', 'DCX', 'SNRPA', 'SPAG6', 'EXOSC5', 'DYNC1I2', 'APBB1IP', 'LRCH4', 'FAM76B', 'SIRT6', 'TYR', 'POLD3', 'ACTN2', 'CAPZB', 'GPR137B', 'NAALAD2', 'JADE1', 'SLC25A43', 'UBE2A', 'FGFR1', 'FKBP6', 'SMC1B', 'FBLN1', 'ITGA8', 'CST7', 'MAP2', 'PIAS2', 'AMPH', 'ARAF', 'MCCC1', 'LAMP3', 'FAP', 'NEBL', 'ACER3', 'UBE2K', 'PIK3C3', 'N4BP2', 'TIGAR', 'TULP3', 'SYNJ2', 'ADCY2', 'PPP2R5C', 'PMS2P1', 'RBFOX1', 'GNB1', 'HOXA9', 'EDN1', 'MLLT10', 'ZCWPW1', 'ADCYAP1R1', 'FGF20', 'P2RY10', 'ITM2A', 'NRDC', 'VDAC3', 'PCM1', 'TNRC6C', 'CBFA2T2', 'BRINP1', 'ITCH', 'PKD2L2', 'TP53INP2', 'SDF4', 'MYH7B', 'BPIFB2', 'TP73', 'TOLLIP', 'UBE2D4', 'CLUL1', 'RUNX1T1', 'CDH17', 'THOC1', 'FKBP7', 'OSBPL6', 'SLC1A3', 'XRCC5', 'LXN', 'SP140', 'MKNK1', 'TNS1', 'REXO1', 'SAR1A', 'CDC14A', 'RAPGEF3', 'CEACAM1', 'SENP1', 'DUSP13B', 'CIC', 'LIPE', 'FDFT1', 'PAFAH1B3', 'OPHN1', 'AFM', 'KIF22', 'SCGN', 'CARMIL1', 'PGM1', 'DDX1', 'DNM2', 'EPB41L2', 'RIMS1', 'MOXD1', 'STX7', 'RABL2B', 'KEAP1', 'DDX43', 'PTPRH', 'DCT', 'SLC35C2', 'CRYBG3', 'EPHA6', 'SCTR', 'RFX3', 'RIF1', 'RAB21', 'SLC4A4', 'SMARCA2', 'RDH8', 'SESN1', 'MID2', 'DNAAF6', 'COL5A3', 'SRCAP', 'PUM3', 'CPB2', 'CHRNA3', 'KCNN2', 'CNOT4', 'PSEN1', 'CPOX', 'CLDND1', 'MOK', 'HSP90AA1', 'RBL1', 'DLGAP4', 'IGSF9B', 'CFHR2', 'CROCCP3', 'NDC80', 'AP4E1', 'RSBN1', 'MAGI3', 'CXCL2', 'AFP', 'COL4A4', 'TCF7', 'OSTM1', 'CDH7', 'IMPG2', 'PCNP', 'EXD2', 'ARG2', 'MEF2C', 'PTPRC', 'CACNA1S', 'PKP1', 'UBA5', 'STK17B', 'CDC14B', 'ZNF510', 'LRP2', 'ZNF506', 'JMJD4', 'DUSP12', 'AACS', 'DELE1', 'SLC13A1', 'CADPS2', 'PCDHB4', 'PCDHA6', 'PCDHGA2', 'IFT25', 'PHLPP1', 'ATP8B1', 'IL12RB2', 'SMARCD3', 'WDR70', 'FYB1', 'MPP4', 'STRADB', 'BZW1', 'PGR', 'C1QTNF3', 'ME2', 'C5orf22', 'CCNT2', 'FAM135A', 'COL19A1', 'EPB41L3', 'COBLL1', 'DLG3', 'KCNK2', 'SERTAD4', 'TRAF5', 'MRPL22', 'GEMIN5', 'OPRK1']\n",
      "['IBSP', 'RASGRF1', 'RBL1', 'HGF', 'TOLLIP', 'CD22', 'INPP5A', 'TEAD3', 'ATP2A3', 'IL17RB', 'CACNA2D2', 'ACACB', 'CFLAR', 'NR1H3', 'PPP2R5B', 'RRM2B', 'MAP2K4', 'ADCYAP1R1', 'ATG5', 'MAP2K3', 'FLT4', 'PRKACA', 'TBXA2R', 'ITGA3', 'MAPK6', 'SLC25A5', 'FARP2', 'TNC', 'TCF7', 'TLE2', 'TCF3', 'PRKCZ', 'EIF4B', 'RASAL2', 'TFRC', 'EVC', 'ELAVL1', 'TACR2', 'MATK', 'TRAF1', 'CAMK1G', 'SIKE1', 'CD4', 'AFP', 'PPP1R3F', 'PRKAR2B', 'COL4A4', 'ITGA2B', 'CASP10', 'CD79B', 'CACNG4', 'PYGM', 'TRAF3IP2', 'SH2D2A', 'VDAC3', 'ADRB1', 'PPP1R12A', 'GNA15', 'PPP1R12B', 'CACNG3', 'PRKCQ', 'LAMC3', 'SELE', 'PKN2', 'LRP2', 'LAMC2', 'KRIT1', 'IL12RB2', 'FGR', 'FGF22', 'DLG1', 'CACNG5', 'AIFM2', 'MED17', 'ADIPOR2', 'MAPK9', 'CREB3L3', 'HOMER3', 'PLD1', 'CACNA1G', 'CYTH3', 'ATP1A2', 'BCAR1', 'PPP2R5A', 'WNT8A', 'LCP2', 'FYN', 'NGFR', 'PGR', 'ITGAL', 'HSP90AA1', 'CDC42', 'ENO1', 'CNGB1', 'PIK3CB', 'MAGI3', 'NFKB2', 'RALBP1', 'LLGL2', 'DLG3', 'TEAD2', 'CASR', 'IL4R', 'CDH1', 'MAPK8IP2', 'FCGR2B', 'CACNB1', 'IGF1', 'PSEN1', 'PTPRC', 'FNIP2', 'CACNA1S', 'HHATL', 'DVL2', 'WNT16', 'LTBP1', 'EDN1', 'PHKA2', 'PPP2R5C', 'ACSL4', 'TNFRSF1B', 'FGF20', 'ATP1B3', 'BIRC3', 'ACAA1', 'SNAI2', 'FHL1', 'ZFYVE16', 'MKNK1', 'GNAI3', 'LIPE', 'NFATC3', 'WWTR1', 'CD38', 'TNFRSF1A', 'CUL1', 'CFTR', 'KRT33A', 'MYLK', 'TRAF5', 'LRP6', 'MAP3K14', 'GTSE1', 'SREBF1', 'PTGER3', 'CX3CL1', 'KITLG', 'LAMA3', 'GIPR', 'IFNGR1', 'MAP4K4', 'TP53BP1', 'RRAGD', 'FGFR3', 'FAS', 'DHX33', 'CUL3', 'ROCK1', 'FBXW11', 'PPP5C', 'ATP6V1H', 'GAB2', 'GLI2', 'MAP3K13', 'ACTB', 'RALA', 'ERBB3', 'TAB2', 'PHLPP2', 'WNT8B', 'MED24', 'FGF4', 'PFN2', 'STRADB', 'CYBA', 'PDE4A', 'PFKP', 'TBC1D1', 'GNB1', 'SPHK2', 'LPAR2', 'ATP2B1', 'PHLPP1', 'MEF2C', 'TP73', 'RAP1GAP', 'PIAS1', 'CSNK2A2', 'CREBBP', 'PIAS2', 'ITCH', 'FGF10', 'ATP2B4', 'PPP2R3A', 'PTGS2', 'MAP4K3', 'DAPP1', 'BAD', 'CAMK2A', 'ITGA8', 'OTUD5', 'RASSF1', 'GABARAPL2', 'CAMK2B', 'PRICKLE3', 'FGFR2', 'MEF2A', 'NOTCH3', 'MCOLN3', 'BTK', 'SESN1', 'PHKA1', 'HDAC4', 'CDON', 'PKM', 'NSMAF', 'RPS6KA2', 'DCN', 'WAS', 'NOX1', 'PPP2R2C', 'BRCA1', 'PAK3', 'ATP2B3', 'GPC4', 'NEO1', 'PIK3C3', 'RAPGEF3', 'CXCL2', 'APBB1IP', 'ME1', 'ADCY2', 'CASP8', 'RHOA', 'RASGRP2', 'FGFR1', 'IL20RA', 'RPS6KA6', 'CCL26', 'PLA2G10', 'TRAF4', 'COL9A2', 'ARAF', 'NCK2', 'BCL3', 'GTF2IRD1', 'MAP2K7', 'CTNNA1', 'BID', 'HHAT', 'NOS2', 'CTNNA2', 'GNB5']\n",
      "253\n"
     ]
    }
   ],
   "source": [
    "sorted_gene_tran = list(sorted_gene_tran_df['Gene'].str.replace('-TRAN', ''))\n",
    "print(sorted_gene_tran)\n",
    "seq_gene_name = seq_df['gene_name'].tolist()\n",
    "print(seq_gene_name)\n",
    "intersection = list(set(sorted_gene_tran) & set(seq_gene_name))\n",
    "print(intersection)\n",
    "print(len(intersection))"
   ]
  },
  {
   "cell_type": "code",
   "execution_count": 30,
   "id": "1e358bc2",
   "metadata": {},
   "outputs": [
    {
     "name": "stdout",
     "output_type": "stream",
     "text": [
      "759\n"
     ]
    }
   ],
   "source": [
    "suffix_intersected_gene = [gene + '-TRAN' for gene in intersection] + [gene + '-PROT' for gene in intersection] + [gene + '-METH' for gene in intersection]\n",
    "print(len(suffix_intersected_gene))"
   ]
  },
  {
   "cell_type": "markdown",
   "metadata": {},
   "source": [
    "### 7.1 Make nodes dictionary"
   ]
  },
  {
   "cell_type": "code",
   "execution_count": 4,
   "metadata": {},
   "outputs": [
    {
     "data": {
      "text/html": [
       "<div>\n",
       "<style scoped>\n",
       "    .dataframe tbody tr th:only-of-type {\n",
       "        vertical-align: middle;\n",
       "    }\n",
       "\n",
       "    .dataframe tbody tr th {\n",
       "        vertical-align: top;\n",
       "    }\n",
       "\n",
       "    .dataframe thead th {\n",
       "        text-align: right;\n",
       "    }\n",
       "</style>\n",
       "<table border=\"1\" class=\"dataframe\">\n",
       "  <thead>\n",
       "    <tr style=\"text-align: right;\">\n",
       "      <th></th>\n",
       "      <th>Gene_num</th>\n",
       "      <th>Gene_name</th>\n",
       "      <th>NodeType</th>\n",
       "    </tr>\n",
       "  </thead>\n",
       "  <tbody>\n",
       "    <tr>\n",
       "      <th>0</th>\n",
       "      <td>0</td>\n",
       "      <td>ABL1-TRAN</td>\n",
       "      <td>Gene-TRAN</td>\n",
       "    </tr>\n",
       "    <tr>\n",
       "      <th>1</th>\n",
       "      <td>1</td>\n",
       "      <td>ABL2-TRAN</td>\n",
       "      <td>Gene-TRAN</td>\n",
       "    </tr>\n",
       "    <tr>\n",
       "      <th>2</th>\n",
       "      <td>2</td>\n",
       "      <td>ACAA1-TRAN</td>\n",
       "      <td>Gene-TRAN</td>\n",
       "    </tr>\n",
       "    <tr>\n",
       "      <th>3</th>\n",
       "      <td>3</td>\n",
       "      <td>ACACA-TRAN</td>\n",
       "      <td>Gene-TRAN</td>\n",
       "    </tr>\n",
       "    <tr>\n",
       "      <th>4</th>\n",
       "      <td>4</td>\n",
       "      <td>ACACB-TRAN</td>\n",
       "      <td>Gene-TRAN</td>\n",
       "    </tr>\n",
       "    <tr>\n",
       "      <th>...</th>\n",
       "      <td>...</td>\n",
       "      <td>...</td>\n",
       "      <td>...</td>\n",
       "    </tr>\n",
       "    <tr>\n",
       "      <th>6346</th>\n",
       "      <td>6346</td>\n",
       "      <td>ZFYVE16-PROT</td>\n",
       "      <td>Gene-PROT</td>\n",
       "    </tr>\n",
       "    <tr>\n",
       "      <th>6347</th>\n",
       "      <td>6347</td>\n",
       "      <td>ZFYVE9-PROT</td>\n",
       "      <td>Gene-PROT</td>\n",
       "    </tr>\n",
       "    <tr>\n",
       "      <th>6348</th>\n",
       "      <td>6348</td>\n",
       "      <td>ZMAT3-PROT</td>\n",
       "      <td>Gene-PROT</td>\n",
       "    </tr>\n",
       "    <tr>\n",
       "      <th>6349</th>\n",
       "      <td>6349</td>\n",
       "      <td>ZNF274-PROT</td>\n",
       "      <td>Gene-PROT</td>\n",
       "    </tr>\n",
       "    <tr>\n",
       "      <th>6350</th>\n",
       "      <td>6350</td>\n",
       "      <td>ZNRF3-PROT</td>\n",
       "      <td>Gene-PROT</td>\n",
       "    </tr>\n",
       "  </tbody>\n",
       "</table>\n",
       "<p>6351 rows × 3 columns</p>\n",
       "</div>"
      ],
      "text/plain": [
       "      Gene_num     Gene_name   NodeType\n",
       "0            0     ABL1-TRAN  Gene-TRAN\n",
       "1            1     ABL2-TRAN  Gene-TRAN\n",
       "2            2    ACAA1-TRAN  Gene-TRAN\n",
       "3            3    ACACA-TRAN  Gene-TRAN\n",
       "4            4    ACACB-TRAN  Gene-TRAN\n",
       "...        ...           ...        ...\n",
       "6346      6346  ZFYVE16-PROT  Gene-PROT\n",
       "6347      6347   ZFYVE9-PROT  Gene-PROT\n",
       "6348      6348    ZMAT3-PROT  Gene-PROT\n",
       "6349      6349   ZNF274-PROT  Gene-PROT\n",
       "6350      6350    ZNRF3-PROT  Gene-PROT\n",
       "\n",
       "[6351 rows x 3 columns]"
      ]
     },
     "metadata": {},
     "output_type": "display_data"
    }
   ],
   "source": [
    "sorted_all_gene_dict = sorted_all_gene_df['Gene'].to_dict()\n",
    "sorted_all_gene_name_dict = {value: key for key, value in sorted_all_gene_dict.items()}\n",
    "num_gene = sorted_gene_tran_df.shape[0]\n",
    "num_gene_protein = sorted_gene_protein_df.shape[0]\n",
    "nodetype_list = ['Gene-TRAN'] * num_gene + ['Gene-METH'] * num_gene + ['Gene-PROT'] * num_gene_protein\n",
    "map_all_gene_df = pd.DataFrame({'Gene_num': sorted_all_gene_dict.keys(), 'Gene_name': sorted_all_gene_dict.values(), 'NodeType': nodetype_list})\n",
    "display(map_all_gene_df)\n",
    "map_all_gene_df.to_csv(os.path.join(graph_output_folder, 'map-all-gene.csv'), index=False)"
   ]
  },
  {
   "cell_type": "code",
   "execution_count": 5,
   "id": "f5e5893e",
   "metadata": {},
   "outputs": [
    {
     "data": {
      "text/html": [
       "<div>\n",
       "<style scoped>\n",
       "    .dataframe tbody tr th:only-of-type {\n",
       "        vertical-align: middle;\n",
       "    }\n",
       "\n",
       "    .dataframe tbody tr th {\n",
       "        vertical-align: top;\n",
       "    }\n",
       "\n",
       "    .dataframe thead th {\n",
       "        text-align: right;\n",
       "    }\n",
       "</style>\n",
       "<table border=\"1\" class=\"dataframe\">\n",
       "  <thead>\n",
       "    <tr style=\"text-align: right;\">\n",
       "      <th></th>\n",
       "      <th>Gene_num</th>\n",
       "      <th>Gene_name</th>\n",
       "      <th>NodeType</th>\n",
       "      <th>Textual_gene_name</th>\n",
       "    </tr>\n",
       "  </thead>\n",
       "  <tbody>\n",
       "    <tr>\n",
       "      <th>0</th>\n",
       "      <td>0</td>\n",
       "      <td>ABL1-TRAN</td>\n",
       "      <td>Gene-TRAN</td>\n",
       "      <td>ABL1</td>\n",
       "    </tr>\n",
       "    <tr>\n",
       "      <th>1</th>\n",
       "      <td>1</td>\n",
       "      <td>ABL2-TRAN</td>\n",
       "      <td>Gene-TRAN</td>\n",
       "      <td>ABL2</td>\n",
       "    </tr>\n",
       "    <tr>\n",
       "      <th>2</th>\n",
       "      <td>2</td>\n",
       "      <td>ACAA1-TRAN</td>\n",
       "      <td>Gene-TRAN</td>\n",
       "      <td>ACAA1</td>\n",
       "    </tr>\n",
       "    <tr>\n",
       "      <th>3</th>\n",
       "      <td>3</td>\n",
       "      <td>ACACA-TRAN</td>\n",
       "      <td>Gene-TRAN</td>\n",
       "      <td>ACACA</td>\n",
       "    </tr>\n",
       "    <tr>\n",
       "      <th>4</th>\n",
       "      <td>4</td>\n",
       "      <td>ACACB-TRAN</td>\n",
       "      <td>Gene-TRAN</td>\n",
       "      <td>ACACB</td>\n",
       "    </tr>\n",
       "    <tr>\n",
       "      <th>...</th>\n",
       "      <td>...</td>\n",
       "      <td>...</td>\n",
       "      <td>...</td>\n",
       "      <td>...</td>\n",
       "    </tr>\n",
       "    <tr>\n",
       "      <th>6346</th>\n",
       "      <td>6346</td>\n",
       "      <td>ZFYVE16-PROT</td>\n",
       "      <td>Gene-PROT</td>\n",
       "      <td>ZFYVE16 protein</td>\n",
       "    </tr>\n",
       "    <tr>\n",
       "      <th>6347</th>\n",
       "      <td>6347</td>\n",
       "      <td>ZFYVE9-PROT</td>\n",
       "      <td>Gene-PROT</td>\n",
       "      <td>ZFYVE9 protein</td>\n",
       "    </tr>\n",
       "    <tr>\n",
       "      <th>6348</th>\n",
       "      <td>6348</td>\n",
       "      <td>ZMAT3-PROT</td>\n",
       "      <td>Gene-PROT</td>\n",
       "      <td>ZMAT3 protein</td>\n",
       "    </tr>\n",
       "    <tr>\n",
       "      <th>6349</th>\n",
       "      <td>6349</td>\n",
       "      <td>ZNF274-PROT</td>\n",
       "      <td>Gene-PROT</td>\n",
       "      <td>ZNF274 protein</td>\n",
       "    </tr>\n",
       "    <tr>\n",
       "      <th>6350</th>\n",
       "      <td>6350</td>\n",
       "      <td>ZNRF3-PROT</td>\n",
       "      <td>Gene-PROT</td>\n",
       "      <td>ZNRF3 protein</td>\n",
       "    </tr>\n",
       "  </tbody>\n",
       "</table>\n",
       "<p>6351 rows × 4 columns</p>\n",
       "</div>"
      ],
      "text/plain": [
       "      Gene_num     Gene_name   NodeType Textual_gene_name\n",
       "0            0     ABL1-TRAN  Gene-TRAN              ABL1\n",
       "1            1     ABL2-TRAN  Gene-TRAN              ABL2\n",
       "2            2    ACAA1-TRAN  Gene-TRAN             ACAA1\n",
       "3            3    ACACA-TRAN  Gene-TRAN             ACACA\n",
       "4            4    ACACB-TRAN  Gene-TRAN             ACACB\n",
       "...        ...           ...        ...               ...\n",
       "6346      6346  ZFYVE16-PROT  Gene-PROT   ZFYVE16 protein\n",
       "6347      6347   ZFYVE9-PROT  Gene-PROT    ZFYVE9 protein\n",
       "6348      6348    ZMAT3-PROT  Gene-PROT     ZMAT3 protein\n",
       "6349      6349   ZNF274-PROT  Gene-PROT    ZNF274 protein\n",
       "6350      6350    ZNRF3-PROT  Gene-PROT     ZNRF3 protein\n",
       "\n",
       "[6351 rows x 4 columns]"
      ]
     },
     "metadata": {},
     "output_type": "display_data"
    }
   ],
   "source": [
    "map_text_all_gene_df = map_all_gene_df.copy()\n",
    "map_text_all_gene_df['Textual_gene_name'] = map_text_all_gene_df['Gene_name'].str.replace('-METH', ' promoter', regex=False)\n",
    "map_text_all_gene_df['Textual_gene_name'] = map_text_all_gene_df['Textual_gene_name'].str.replace('-PROT', ' protein', regex=False)\n",
    "map_text_all_gene_df['Textual_gene_name'] = map_text_all_gene_df['Textual_gene_name'].str.replace('-TRAN', '', regex=False)\n",
    "display(map_text_all_gene_df)\n",
    "map_text_all_gene_df.to_csv(os.path.join(graph_output_folder, 'map-text-all-gene.csv'), index=False)"
   ]
  },
  {
   "cell_type": "markdown",
   "metadata": {},
   "source": [
    "### 7.2 Create the edges connection between promoter methylations and proteins"
   ]
  },
  {
   "cell_type": "code",
   "execution_count": 6,
   "metadata": {},
   "outputs": [
    {
     "data": {
      "text/html": [
       "<div>\n",
       "<style scoped>\n",
       "    .dataframe tbody tr th:only-of-type {\n",
       "        vertical-align: middle;\n",
       "    }\n",
       "\n",
       "    .dataframe tbody tr th {\n",
       "        vertical-align: top;\n",
       "    }\n",
       "\n",
       "    .dataframe thead th {\n",
       "        text-align: right;\n",
       "    }\n",
       "</style>\n",
       "<table border=\"1\" class=\"dataframe\">\n",
       "  <thead>\n",
       "    <tr style=\"text-align: right;\">\n",
       "      <th></th>\n",
       "      <th>src</th>\n",
       "      <th>dest</th>\n",
       "    </tr>\n",
       "  </thead>\n",
       "  <tbody>\n",
       "    <tr>\n",
       "      <th>0</th>\n",
       "      <td>ABL1-METH</td>\n",
       "      <td>ABL1-TRAN</td>\n",
       "    </tr>\n",
       "    <tr>\n",
       "      <th>1</th>\n",
       "      <td>ABL2-METH</td>\n",
       "      <td>ABL2-TRAN</td>\n",
       "    </tr>\n",
       "    <tr>\n",
       "      <th>2</th>\n",
       "      <td>ACAA1-METH</td>\n",
       "      <td>ACAA1-TRAN</td>\n",
       "    </tr>\n",
       "    <tr>\n",
       "      <th>3</th>\n",
       "      <td>ACACA-METH</td>\n",
       "      <td>ACACA-TRAN</td>\n",
       "    </tr>\n",
       "    <tr>\n",
       "      <th>4</th>\n",
       "      <td>ACACB-METH</td>\n",
       "      <td>ACACB-TRAN</td>\n",
       "    </tr>\n",
       "    <tr>\n",
       "      <th>...</th>\n",
       "      <td>...</td>\n",
       "      <td>...</td>\n",
       "    </tr>\n",
       "    <tr>\n",
       "      <th>2112</th>\n",
       "      <td>ZFYVE16-METH</td>\n",
       "      <td>ZFYVE16-TRAN</td>\n",
       "    </tr>\n",
       "    <tr>\n",
       "      <th>2113</th>\n",
       "      <td>ZFYVE9-METH</td>\n",
       "      <td>ZFYVE9-TRAN</td>\n",
       "    </tr>\n",
       "    <tr>\n",
       "      <th>2114</th>\n",
       "      <td>ZMAT3-METH</td>\n",
       "      <td>ZMAT3-TRAN</td>\n",
       "    </tr>\n",
       "    <tr>\n",
       "      <th>2115</th>\n",
       "      <td>ZNF274-METH</td>\n",
       "      <td>ZNF274-TRAN</td>\n",
       "    </tr>\n",
       "    <tr>\n",
       "      <th>2116</th>\n",
       "      <td>ZNRF3-METH</td>\n",
       "      <td>ZNRF3-TRAN</td>\n",
       "    </tr>\n",
       "  </tbody>\n",
       "</table>\n",
       "<p>2117 rows × 2 columns</p>\n",
       "</div>"
      ],
      "text/plain": [
       "               src          dest\n",
       "0        ABL1-METH     ABL1-TRAN\n",
       "1        ABL2-METH     ABL2-TRAN\n",
       "2       ACAA1-METH    ACAA1-TRAN\n",
       "3       ACACA-METH    ACACA-TRAN\n",
       "4       ACACB-METH    ACACB-TRAN\n",
       "...            ...           ...\n",
       "2112  ZFYVE16-METH  ZFYVE16-TRAN\n",
       "2113   ZFYVE9-METH   ZFYVE9-TRAN\n",
       "2114    ZMAT3-METH    ZMAT3-TRAN\n",
       "2115   ZNF274-METH   ZNF274-TRAN\n",
       "2116    ZNRF3-METH    ZNRF3-TRAN\n",
       "\n",
       "[2117 rows x 2 columns]"
      ]
     },
     "metadata": {},
     "output_type": "display_data"
    },
    {
     "data": {
      "text/html": [
       "<div>\n",
       "<style scoped>\n",
       "    .dataframe tbody tr th:only-of-type {\n",
       "        vertical-align: middle;\n",
       "    }\n",
       "\n",
       "    .dataframe tbody tr th {\n",
       "        vertical-align: top;\n",
       "    }\n",
       "\n",
       "    .dataframe thead th {\n",
       "        text-align: right;\n",
       "    }\n",
       "</style>\n",
       "<table border=\"1\" class=\"dataframe\">\n",
       "  <thead>\n",
       "    <tr style=\"text-align: right;\">\n",
       "      <th></th>\n",
       "      <th>src</th>\n",
       "      <th>dest</th>\n",
       "    </tr>\n",
       "  </thead>\n",
       "  <tbody>\n",
       "    <tr>\n",
       "      <th>0</th>\n",
       "      <td>ABL1-TRAN</td>\n",
       "      <td>ABL1-PROT</td>\n",
       "    </tr>\n",
       "    <tr>\n",
       "      <th>1</th>\n",
       "      <td>ABL2-TRAN</td>\n",
       "      <td>ABL2-PROT</td>\n",
       "    </tr>\n",
       "    <tr>\n",
       "      <th>2</th>\n",
       "      <td>ACAA1-TRAN</td>\n",
       "      <td>ACAA1-PROT</td>\n",
       "    </tr>\n",
       "    <tr>\n",
       "      <th>3</th>\n",
       "      <td>ACACA-TRAN</td>\n",
       "      <td>ACACA-PROT</td>\n",
       "    </tr>\n",
       "    <tr>\n",
       "      <th>4</th>\n",
       "      <td>ACACB-TRAN</td>\n",
       "      <td>ACACB-PROT</td>\n",
       "    </tr>\n",
       "    <tr>\n",
       "      <th>...</th>\n",
       "      <td>...</td>\n",
       "      <td>...</td>\n",
       "    </tr>\n",
       "    <tr>\n",
       "      <th>2112</th>\n",
       "      <td>ZFYVE16-TRAN</td>\n",
       "      <td>ZFYVE16-PROT</td>\n",
       "    </tr>\n",
       "    <tr>\n",
       "      <th>2113</th>\n",
       "      <td>ZFYVE9-TRAN</td>\n",
       "      <td>ZFYVE9-PROT</td>\n",
       "    </tr>\n",
       "    <tr>\n",
       "      <th>2114</th>\n",
       "      <td>ZMAT3-TRAN</td>\n",
       "      <td>ZMAT3-PROT</td>\n",
       "    </tr>\n",
       "    <tr>\n",
       "      <th>2115</th>\n",
       "      <td>ZNF274-TRAN</td>\n",
       "      <td>ZNF274-PROT</td>\n",
       "    </tr>\n",
       "    <tr>\n",
       "      <th>2116</th>\n",
       "      <td>ZNRF3-TRAN</td>\n",
       "      <td>ZNRF3-PROT</td>\n",
       "    </tr>\n",
       "  </tbody>\n",
       "</table>\n",
       "<p>2117 rows × 2 columns</p>\n",
       "</div>"
      ],
      "text/plain": [
       "               src          dest\n",
       "0        ABL1-TRAN     ABL1-PROT\n",
       "1        ABL2-TRAN     ABL2-PROT\n",
       "2       ACAA1-TRAN    ACAA1-PROT\n",
       "3       ACACA-TRAN    ACACA-PROT\n",
       "4       ACACB-TRAN    ACACB-PROT\n",
       "...            ...           ...\n",
       "2112  ZFYVE16-TRAN  ZFYVE16-PROT\n",
       "2113   ZFYVE9-TRAN   ZFYVE9-PROT\n",
       "2114    ZMAT3-TRAN    ZMAT3-PROT\n",
       "2115   ZNF274-TRAN   ZNF274-PROT\n",
       "2116    ZNRF3-TRAN    ZNRF3-PROT\n",
       "\n",
       "[2117 rows x 2 columns]"
      ]
     },
     "metadata": {},
     "output_type": "display_data"
    }
   ],
   "source": [
    "# [Gene-METH - Gene]\n",
    "sorted_gene_methy = sorted_gene_methy_df['Gene'].tolist()\n",
    "sorted_gene_list = sorted_gene_tran_df['Gene'].tolist()\n",
    "sorted_gene_protein = sorted_gene_protein_df['Gene'].tolist()\n",
    "sorted_intersection = [gene_protein.replace('-PROT', '-TRAN') for gene_protein in sorted_gene_protein]\n",
    "gene_meth_edge_df = pd.DataFrame({'src': sorted_gene_methy, 'dest': sorted_gene_list})\n",
    "display(gene_meth_edge_df)\n",
    "# [Gene - Gene-PROT]\n",
    "gene_protein_edge_df = pd.DataFrame({'src': sorted_intersection, 'dest': sorted_gene_protein})\n",
    "display(gene_protein_edge_df)"
   ]
  },
  {
   "cell_type": "code",
   "execution_count": 7,
   "metadata": {},
   "outputs": [
    {
     "name": "stdout",
     "output_type": "stream",
     "text": [
      "0\n",
      "2117\n",
      "4234\n"
     ]
    }
   ],
   "source": [
    "print(sorted_all_gene_name_dict['ABL1-TRAN'])\n",
    "print(sorted_all_gene_name_dict['ABL1-METH'])\n",
    "print(sorted_all_gene_name_dict['ABL1-PROT'])"
   ]
  },
  {
   "cell_type": "code",
   "execution_count": 8,
   "metadata": {},
   "outputs": [
    {
     "data": {
      "text/html": [
       "<div>\n",
       "<style scoped>\n",
       "    .dataframe tbody tr th:only-of-type {\n",
       "        vertical-align: middle;\n",
       "    }\n",
       "\n",
       "    .dataframe tbody tr th {\n",
       "        vertical-align: top;\n",
       "    }\n",
       "\n",
       "    .dataframe thead th {\n",
       "        text-align: right;\n",
       "    }\n",
       "</style>\n",
       "<table border=\"1\" class=\"dataframe\">\n",
       "  <thead>\n",
       "    <tr style=\"text-align: right;\">\n",
       "      <th></th>\n",
       "      <th>src</th>\n",
       "      <th>dest</th>\n",
       "    </tr>\n",
       "  </thead>\n",
       "  <tbody>\n",
       "    <tr>\n",
       "      <th>0</th>\n",
       "      <td>2117</td>\n",
       "      <td>0</td>\n",
       "    </tr>\n",
       "    <tr>\n",
       "      <th>1</th>\n",
       "      <td>2118</td>\n",
       "      <td>1</td>\n",
       "    </tr>\n",
       "    <tr>\n",
       "      <th>2</th>\n",
       "      <td>2119</td>\n",
       "      <td>2</td>\n",
       "    </tr>\n",
       "    <tr>\n",
       "      <th>3</th>\n",
       "      <td>2120</td>\n",
       "      <td>3</td>\n",
       "    </tr>\n",
       "    <tr>\n",
       "      <th>4</th>\n",
       "      <td>2121</td>\n",
       "      <td>4</td>\n",
       "    </tr>\n",
       "    <tr>\n",
       "      <th>...</th>\n",
       "      <td>...</td>\n",
       "      <td>...</td>\n",
       "    </tr>\n",
       "    <tr>\n",
       "      <th>2112</th>\n",
       "      <td>4229</td>\n",
       "      <td>2112</td>\n",
       "    </tr>\n",
       "    <tr>\n",
       "      <th>2113</th>\n",
       "      <td>4230</td>\n",
       "      <td>2113</td>\n",
       "    </tr>\n",
       "    <tr>\n",
       "      <th>2114</th>\n",
       "      <td>4231</td>\n",
       "      <td>2114</td>\n",
       "    </tr>\n",
       "    <tr>\n",
       "      <th>2115</th>\n",
       "      <td>4232</td>\n",
       "      <td>2115</td>\n",
       "    </tr>\n",
       "    <tr>\n",
       "      <th>2116</th>\n",
       "      <td>4233</td>\n",
       "      <td>2116</td>\n",
       "    </tr>\n",
       "  </tbody>\n",
       "</table>\n",
       "<p>2117 rows × 2 columns</p>\n",
       "</div>"
      ],
      "text/plain": [
       "       src  dest\n",
       "0     2117     0\n",
       "1     2118     1\n",
       "2     2119     2\n",
       "3     2120     3\n",
       "4     2121     4\n",
       "...    ...   ...\n",
       "2112  4229  2112\n",
       "2113  4230  2113\n",
       "2114  4231  2114\n",
       "2115  4232  2115\n",
       "2116  4233  2116\n",
       "\n",
       "[2117 rows x 2 columns]"
      ]
     },
     "metadata": {},
     "output_type": "display_data"
    },
    {
     "data": {
      "text/html": [
       "<div>\n",
       "<style scoped>\n",
       "    .dataframe tbody tr th:only-of-type {\n",
       "        vertical-align: middle;\n",
       "    }\n",
       "\n",
       "    .dataframe tbody tr th {\n",
       "        vertical-align: top;\n",
       "    }\n",
       "\n",
       "    .dataframe thead th {\n",
       "        text-align: right;\n",
       "    }\n",
       "</style>\n",
       "<table border=\"1\" class=\"dataframe\">\n",
       "  <thead>\n",
       "    <tr style=\"text-align: right;\">\n",
       "      <th></th>\n",
       "      <th>src</th>\n",
       "      <th>dest</th>\n",
       "    </tr>\n",
       "  </thead>\n",
       "  <tbody>\n",
       "    <tr>\n",
       "      <th>0</th>\n",
       "      <td>0</td>\n",
       "      <td>4234</td>\n",
       "    </tr>\n",
       "    <tr>\n",
       "      <th>1</th>\n",
       "      <td>1</td>\n",
       "      <td>4235</td>\n",
       "    </tr>\n",
       "    <tr>\n",
       "      <th>2</th>\n",
       "      <td>2</td>\n",
       "      <td>4236</td>\n",
       "    </tr>\n",
       "    <tr>\n",
       "      <th>3</th>\n",
       "      <td>3</td>\n",
       "      <td>4237</td>\n",
       "    </tr>\n",
       "    <tr>\n",
       "      <th>4</th>\n",
       "      <td>4</td>\n",
       "      <td>4238</td>\n",
       "    </tr>\n",
       "    <tr>\n",
       "      <th>...</th>\n",
       "      <td>...</td>\n",
       "      <td>...</td>\n",
       "    </tr>\n",
       "    <tr>\n",
       "      <th>2112</th>\n",
       "      <td>2112</td>\n",
       "      <td>6346</td>\n",
       "    </tr>\n",
       "    <tr>\n",
       "      <th>2113</th>\n",
       "      <td>2113</td>\n",
       "      <td>6347</td>\n",
       "    </tr>\n",
       "    <tr>\n",
       "      <th>2114</th>\n",
       "      <td>2114</td>\n",
       "      <td>6348</td>\n",
       "    </tr>\n",
       "    <tr>\n",
       "      <th>2115</th>\n",
       "      <td>2115</td>\n",
       "      <td>6349</td>\n",
       "    </tr>\n",
       "    <tr>\n",
       "      <th>2116</th>\n",
       "      <td>2116</td>\n",
       "      <td>6350</td>\n",
       "    </tr>\n",
       "  </tbody>\n",
       "</table>\n",
       "<p>2117 rows × 2 columns</p>\n",
       "</div>"
      ],
      "text/plain": [
       "       src  dest\n",
       "0        0  4234\n",
       "1        1  4235\n",
       "2        2  4236\n",
       "3        3  4237\n",
       "4        4  4238\n",
       "...    ...   ...\n",
       "2112  2112  6346\n",
       "2113  2113  6347\n",
       "2114  2114  6348\n",
       "2115  2115  6349\n",
       "2116  2116  6350\n",
       "\n",
       "[2117 rows x 2 columns]"
      ]
     },
     "metadata": {},
     "output_type": "display_data"
    }
   ],
   "source": [
    "# replace gene name with gene number\n",
    "gene_meth_num_edge_df = gene_meth_edge_df.copy()\n",
    "gene_meth_num_edge_df['src'] = gene_meth_edge_df['src'].map(sorted_all_gene_name_dict)\n",
    "gene_meth_num_edge_df['dest'] = gene_meth_edge_df['dest'].map(sorted_all_gene_name_dict)\n",
    "display(gene_meth_num_edge_df)\n",
    "gene_protein_num_edge_df = gene_protein_edge_df.copy()\n",
    "gene_protein_num_edge_df['src'] = gene_protein_edge_df['src'].map(sorted_all_gene_name_dict)\n",
    "gene_protein_num_edge_df['dest'] = gene_protein_edge_df['dest'].map(sorted_all_gene_name_dict)\n",
    "display(gene_protein_num_edge_df)"
   ]
  },
  {
   "cell_type": "markdown",
   "metadata": {},
   "source": [
    "### 7.3 Concat all of the edges"
   ]
  },
  {
   "cell_type": "code",
   "execution_count": null,
   "metadata": {},
   "outputs": [],
   "source": [
    "# selected_database = 'KEGG'\n",
    "if selected_database == 'KEGG':\n",
    "    filtered_up_num_df = filtered_up_kegg_df.copy()\n",
    "elif selected_database == 'BioGRID':\n",
    "    filtered_up_num_df = filtered_up_biogrid_df.copy()\n",
    "elif selected_database == 'STRING':\n",
    "    filtered_up_num_df = filtered_up_string_df.copy()\n",
    "\n",
    "# Add 'PROT' to the end of each gene name in the 'src' and 'dest' columns\n",
    "filtered_up_num_df['src'] = filtered_up_num_df['src'].apply(lambda x: x + '-PROT')\n",
    "filtered_up_num_df['dest'] = filtered_up_num_df['dest'].apply(lambda x: x + '-PROT')\n",
    "\n",
    "filtered_up_num_df['src'] = filtered_up_num_df['src'].map(sorted_all_gene_name_dict)\n",
    "filtered_up_num_df['dest'] = filtered_up_num_df['dest'].map(sorted_all_gene_name_dict)\n",
    "display(filtered_up_num_df)\n",
    "all_gene_edge_num_df = pd.concat([filtered_up_num_df, gene_meth_num_edge_df, gene_protein_num_edge_df])\n",
    "display(all_gene_edge_num_df)\n",
    "\n",
    "num_gene_edge = filtered_up_num_df.shape[0]\n",
    "num_gene_meth_edge = gene_meth_num_edge_df.shape[0]\n",
    "num_gene_protein_edge = gene_protein_num_edge_df.shape[0]\n",
    "edgetype_list = ['Gene-PROT-Gene-PROT'] * num_gene_edge + ['Gene-TRAN-Gene-METH'] * num_gene_meth_edge + ['Gene-TRAN-Gene-PROT'] * num_gene_protein_edge\n",
    "all_gene_edge_num_df['EdgeType'] = edgetype_list\n",
    "all_gene_edge_num_df = all_gene_edge_num_df.sort_values(by=['src', 'dest']).reset_index(drop=True)\n",
    "display(all_gene_edge_num_df)\n",
    "all_gene_edge_num_df.to_csv(os.path.join(graph_output_folder, 'all-gene-edge-num.csv'), index=False)"
   ]
  },
  {
   "cell_type": "code",
   "execution_count": null,
   "metadata": {},
   "outputs": [],
   "source": [
    "# gene edge interactions without map\n",
    "all_gene_edge_df = all_gene_edge_num_df.copy()\n",
    "all_gene_edge_df = all_gene_edge_df.replace(sorted_all_gene_dict)\n",
    "\n",
    "num_gene_edge = filtered_up_num_df.shape[0]\n",
    "num_gene_meth_edge = gene_meth_edge_df.shape[0]\n",
    "num_gene_protein_edge = gene_protein_edge_df.shape[0]\n",
    "# all_gene_edge_df = all_gene_edge_df.sort_values(by=['src', 'dest']).reset_index(drop=True)\n",
    "all_gene_edge_df.to_csv(os.path.join(graph_output_folder, 'all-gene-edge.csv'), index=False)\n",
    "display(all_gene_edge_df)"
   ]
  },
  {
   "cell_type": "markdown",
   "metadata": {},
   "source": [
    "## 8.Load data into graph format"
   ]
  },
  {
   "cell_type": "markdown",
   "metadata": {},
   "source": [
    "### 8.1 Form up the input samples"
   ]
  },
  {
   "cell_type": "markdown",
   "metadata": {},
   "source": [
    "recommends the use of the endpoints of OS, PFI, DFI, and DSS for each TCGA cancer type\n",
    "\n",
    "* OS: overall survial\n",
    "* PFI: progression-free interval\n",
    "* DSS: disease-specific survival\n",
    "* DFI: disease-free interval"
   ]
  },
  {
   "cell_type": "code",
   "execution_count": null,
   "metadata": {},
   "outputs": [],
   "source": [
    "survival_filtered"
   ]
  },
  {
   "cell_type": "code",
   "execution_count": null,
   "metadata": {},
   "outputs": [],
   "source": [
    "survival_filtered_feature_df = survival_filtered.copy()\n",
    "survival_filtered_feature_df = survival_filtered_feature_df[['sample', 'cancer type abbreviation', 'OS', 'vital_status']]\n",
    "display(survival_filtered_feature_df)\n",
    "\n",
    "nan_counts = survival_filtered_feature_df.isna().sum()  # or df.isnull()\n",
    "print(nan_counts)\n",
    "\n",
    "# Convert 'alive' to 0.0 and 'dead' to 1.0\n",
    "survival_filtered_feature_df['vital_status'] = survival_filtered_feature_df['vital_status'].map({'Alive': 0.0, 'Dead': 1.0})\n",
    "display(survival_filtered_feature_df)\n",
    "survival_filtered_feature_df['OS'] == survival_filtered_feature_df['vital_status']\n"
   ]
  },
  {
   "cell_type": "code",
   "execution_count": null,
   "metadata": {},
   "outputs": [],
   "source": [
    "# Check if each row in Column1 and Column2 have the same value\n",
    "rows_same = (survival_filtered_feature_df['OS'] == survival_filtered_feature_df['vital_status']).all()\n",
    "print(\"All rows have the same value in column 'OS' and column 'vital_status' :\", rows_same)"
   ]
  },
  {
   "cell_type": "code",
   "execution_count": null,
   "metadata": {},
   "outputs": [],
   "source": [
    "survival_filtered_feature_df = survival_filtered_feature_df[['sample', 'OS', 'cancer type abbreviation']]\n",
    "display(survival_filtered_feature_df)\n",
    "survival_filtered_feature_df.to_csv(os.path.join(graph_output_folder, 'survival-label.csv'), index=False)"
   ]
  },
  {
   "cell_type": "markdown",
   "metadata": {},
   "source": [
    "### 8.2 Randomize the input label"
   ]
  },
  {
   "cell_type": "code",
   "execution_count": null,
   "metadata": {},
   "outputs": [],
   "source": [
    "# Randomize the survival label\n",
    "def input_random(randomized, graph_output_folder):\n",
    "    if randomized == True:\n",
    "        random_survival_filtered_feature_df = survival_filtered_feature_df.sample(frac = 1).reset_index(drop=True)\n",
    "        random_survival_filtered_feature_df.to_csv(os.path.join(graph_output_folder, 'random-survival-label.csv'), index=False)\n",
    "    else:\n",
    "        random_survival_filtered_feature_df = pd.read_csv(os.path.join(graph_output_folder, 'random-survival-label.csv'))\n",
    "    display(random_survival_filtered_feature_df)\n",
    "\n",
    "input_random(randomized=False, graph_output_folder='UCSC-graph-data')"
   ]
  },
  {
   "cell_type": "markdown",
   "metadata": {},
   "source": [
    "### 8.3 Split the randomized input into 5-fold"
   ]
  },
  {
   "cell_type": "code",
   "execution_count": null,
   "metadata": {},
   "outputs": [],
   "source": [
    "# Split deep learning input into training and test\n",
    "def split_k_fold(k, graph_output_folder):\n",
    "    random_survival_filtered_feature_df = pd.read_csv(os.path.join(graph_output_folder, 'random-survival-label.csv'))\n",
    "    num_points = random_survival_filtered_feature_df.shape[0]\n",
    "    num_div = int(num_points / k)\n",
    "    num_div_list = [i * num_div for i in range(0, k)]\n",
    "    num_div_list.append(num_points)\n",
    "    # Split [random_survival_filtered_feature_df] into [k] folds\n",
    "    for place_num in range(k):\n",
    "        low_idx = num_div_list[place_num]\n",
    "        high_idx = num_div_list[place_num + 1]\n",
    "        print('\\n--------TRAIN-TEST SPLIT WITH TEST FROM ' + str(low_idx) + ' TO ' + str(high_idx) + '--------')\n",
    "        split_input_df = random_survival_filtered_feature_df[low_idx : high_idx]\n",
    "        split_input_df.to_csv(os.path.join(graph_output_folder, 'split-random-survival-label-' + str(place_num + 1) + '.csv'), index=False)\n",
    "        print(split_input_df.shape)\n",
    "\n",
    "split_k_fold(k=5, graph_output_folder='UCSC-graph-data')"
   ]
  },
  {
   "cell_type": "markdown",
   "metadata": {},
   "source": [
    "### 8.4 Reprocess the edge_index file after loading"
   ]
  },
  {
   "cell_type": "code",
   "execution_count": null,
   "metadata": {},
   "outputs": [],
   "source": [
    "import os\n",
    "import numpy as np\n",
    "import pandas as pd\n",
    "\n",
    "graph_output_folder = 'UCSC-graph-data'\n",
    "form_data_path = './' + graph_output_folder + '/form_data'\n",
    "edge_index = np.load(form_data_path + '/edge_index.npy')\n",
    "# Convert the 2D array into a DataFrame\n",
    "edge_index_df = pd.DataFrame(edge_index.T, columns=['src', 'dest'])\n",
    "\n",
    "gene_edge_num_df = pd.read_csv(os.path.join(graph_output_folder, 'all-gene-edge-num.csv'))\n",
    "src_gene_list = list(gene_edge_num_df['src'])\n",
    "dest_gene_list = list(gene_edge_num_df['dest'])\n",
    "edgetype_list = list(gene_edge_num_df['EdgeType'])\n",
    "gene_edge_num_reverse_df = pd.DataFrame({'src': dest_gene_list, 'dest': src_gene_list, 'EdgeType': edgetype_list})\n",
    "gene_edge_num_all_df = pd.concat([gene_edge_num_df, gene_edge_num_reverse_df]).drop_duplicates().sort_values(by=['src', 'dest']).reset_index(drop=True)\n",
    "\n",
    "display(edge_index_df)\n",
    "display(gene_edge_num_all_df)\n",
    "merged_gene_edge_num_all_df = pd.merge(gene_edge_num_all_df, edge_index_df, on=['src', 'dest'], how='inner')\n",
    "display(merged_gene_edge_num_all_df)\n",
    "merged_gene_edge_num_all_df.to_csv(os.path.join(graph_output_folder, 'merged-gene-edge-num-all.csv'), index=False)\n",
    "\n",
    "merged_gene_edge_name_all_df = merged_gene_edge_num_all_df.replace(sorted_all_gene_dict)\n",
    "display(merged_gene_edge_name_all_df)\n",
    "merged_gene_edge_name_all_df.to_csv(os.path.join(graph_output_folder, 'merged-gene-edge-name-all.csv'), index=False)"
   ]
  },
  {
   "cell_type": "code",
   "execution_count": null,
   "id": "f2d092aa",
   "metadata": {},
   "outputs": [],
   "source": [
    "merged_gene_edge_num_all_df['Textual_edge_type'] = merged_gene_edge_num_all_df['EdgeType'].str.replace('Gene-TRAN-Gene-METH', 'promoting transcription', regex=False)\n",
    "merged_gene_edge_num_all_df['Textual_edge_type'] = merged_gene_edge_num_all_df['Textual_edge_type'].str.replace('Gene-TRAN-Gene-PROT', 'transcripting protein', regex=False)\n",
    "merged_gene_edge_num_all_df['Textual_edge_type'] = merged_gene_edge_num_all_df['Textual_edge_type'].str.replace('Gene-PROT-Gene-PROT', 'protein protein interaction', regex=False)\n",
    "display(merged_gene_edge_num_all_df)\n",
    "merged_gene_edge_num_all_df.to_csv(os.path.join(graph_output_folder, 'merged-gene-edge-num-all.csv'), index=False)\n",
    "\n",
    "merged_gene_edge_name_all_df['Textual_edge_type'] = merged_gene_edge_name_all_df['EdgeType'].str.replace('Gene-TRAN-Gene-METH', 'promoting transcription', regex=False)\n",
    "merged_gene_edge_name_all_df['Textual_edge_type'] = merged_gene_edge_name_all_df['Textual_edge_type'].str.replace('Gene-TRAN-Gene-PROT', 'transcripting protein', regex=False)\n",
    "merged_gene_edge_name_all_df['Textual_edge_type'] = merged_gene_edge_name_all_df['Textual_edge_type'].str.replace('Gene-PROT-Gene-PROT', 'protein protein interaction', regex=False)\n",
    "display(merged_gene_edge_name_all_df)\n",
    "merged_gene_edge_name_all_df.to_csv(os.path.join(graph_output_folder, 'merged-gene-edge-name-all.csv'), index=False)"
   ]
  },
  {
   "cell_type": "markdown",
   "id": "a80f4978",
   "metadata": {},
   "source": [
    "## 9.Generate the knowledge graph embeddings"
   ]
  },
  {
   "cell_type": "code",
   "execution_count": null,
   "id": "2ae3f792",
   "metadata": {},
   "outputs": [],
   "source": [
    "display(map_text_all_gene_df)\n",
    "display(merged_gene_edge_name_all_df)\n",
    "display(merged_gene_edge_num_all_df)"
   ]
  },
  {
   "cell_type": "code",
   "execution_count": null,
   "id": "49ff280a",
   "metadata": {},
   "outputs": [],
   "source": [
    "merged_gene_edge_num_all_df"
   ]
  },
  {
   "cell_type": "code",
   "execution_count": null,
   "id": "9ff53b57",
   "metadata": {},
   "outputs": [],
   "source": [
    "# Creating the dictionary mapping 'Gene_num' to 'Textual_gene_name'\n",
    "textual_gene_name_to_num_dict = pd.Series(map_text_all_gene_df['Gene_num'].values, index=map_text_all_gene_df['Textual_gene_name']).to_dict()\n",
    "print(textual_gene_name_to_num_dict)\n",
    "\n",
    "# Creating the dictionary mapping 'Edge_num' to 'Textual_edge_type'\n",
    "edge_type_list = sorted(list(set(merged_gene_edge_name_all_df['Textual_edge_type'])))\n",
    "edge_type_to_num_dict = {edge_type_list[i]: i for i in range(len(edge_type_list))}\n",
    "print(edge_type_to_num_dict)\n",
    "\n",
    "triplet_merged_gene_edge_num_all_df = merged_gene_edge_num_all_df.copy()\n",
    "display(triplet_merged_gene_edge_num_all_df)\n",
    "triplet_merged_gene_edge_num_all_df['Textual_edge_type'] = triplet_merged_gene_edge_num_all_df['Textual_edge_type'].replace(edge_type_to_num_dict)\n",
    "display(triplet_merged_gene_edge_num_all_df)"
   ]
  },
  {
   "cell_type": "code",
   "execution_count": null,
   "id": "ab2fe4c0",
   "metadata": {},
   "outputs": [],
   "source": [
    "triplet_array = triplet_merged_gene_edge_num_all_df[['src', 'Textual_edge_type', 'dest']].values\n",
    "print(triplet_array)\n",
    "\n",
    "triplet_df_array = triplet_merged_gene_edge_num_all_df[['src', 'dest', 'Textual_edge_type']].values\n",
    "triplet_df = pd.DataFrame(triplet_df_array, columns=['from', 'to', 'rel'])\n",
    "display(triplet_df)"
   ]
  },
  {
   "cell_type": "code",
   "execution_count": null,
   "id": "791f0071",
   "metadata": {},
   "outputs": [],
   "source": [
    "from torchkge.data_structures import KnowledgeGraph\n",
    "import torch\n",
    "\n",
    "kg = KnowledgeGraph(df=triplet_df)\n",
    "print(kg)"
   ]
  },
  {
   "cell_type": "code",
   "execution_count": null,
   "id": "8eb8eed3",
   "metadata": {},
   "outputs": [],
   "source": [
    "from torch import cuda\n",
    "from torch.optim import Adam\n",
    "\n",
    "from torchkge.models import TransEModel, TransRModel\n",
    "from torchkge.sampling import BernoulliNegativeSampler\n",
    "from torchkge.utils import MarginLoss, DataLoader\n",
    "from torchkge.utils.datasets import load_fb15k\n",
    "\n",
    "from tqdm.autonotebook import tqdm\n",
    "\n",
    "# Define some hyper-parameters for training\n",
    "emb_dim = 100\n",
    "rel_emb_dim = 100\n",
    "lr = 0.0004\n",
    "n_epochs = 1000\n",
    "b_size = 640\n",
    "margin = 0.5\n",
    "\n",
    "# Define the model and criterion\n",
    "kg_train = kg\n",
    "\n",
    "# model = TransEModel(emb_dim, kg_train.n_ent, kg_train.n_rel, dissimilarity_type='L2')\n",
    "model = TransRModel(emb_dim, rel_emb_dim, kg_train.n_ent, kg_train.n_rel)\n",
    "criterion = MarginLoss(margin)\n",
    "\n",
    "# Move everything to CUDA if available\n",
    "if cuda.is_available():\n",
    "    cuda.empty_cache()\n",
    "    model.cuda()\n",
    "    criterion.cuda()\n",
    "\n",
    "# Define the torch optimizer to be used\n",
    "optimizer = Adam(model.parameters(), lr=lr, weight_decay=1e-5)\n",
    "\n",
    "sampler = BernoulliNegativeSampler(kg_train)\n",
    "dataloader = DataLoader(kg_train, batch_size=b_size, use_cuda='all')\n",
    "\n",
    "iterator = tqdm(range(n_epochs), unit='epoch')\n",
    "for epoch in iterator:\n",
    "    running_loss = 0.0\n",
    "    for i, batch in enumerate(dataloader):\n",
    "        h, t, r = batch[0], batch[1], batch[2]\n",
    "        n_h, n_t = sampler.corrupt_batch(h, t, r)\n",
    "\n",
    "        optimizer.zero_grad()\n",
    "\n",
    "        # forward + backward + optimize\n",
    "        pos, neg = model(h, t, r, n_h, n_t)\n",
    "        loss = criterion(pos, neg)\n",
    "        loss.backward()\n",
    "        optimizer.step()\n",
    "\n",
    "        running_loss += loss.item()\n",
    "    iterator.set_description(\n",
    "        'Epoch {} | mean loss: {:.5f}'.format(epoch + 1,\n",
    "                                              running_loss / len(dataloader)))\n",
    "\n",
    "model.normalize_parameters()"
   ]
  },
  {
   "cell_type": "code",
   "execution_count": null,
   "id": "1fbeddea",
   "metadata": {},
   "outputs": [],
   "source": [
    "entity_embeddings = model.get_embeddings()[0]\n",
    "relation_embeddings = model.get_embeddings()[1]\n",
    "# outputfile name\n",
    "graph_output_folder = 'UCSC-graph-data'\n",
    "embed_folder_path = './' + graph_output_folder + '/embeddings'\n",
    "# create folder if not exist\n",
    "if not os.path.exists(embed_folder_path):\n",
    "    os.makedirs(embed_folder_path)\n",
    "# Save the entity embeddings\n",
    "entity_embeddings = entity_embeddings.cpu().numpy()\n",
    "print(entity_embeddings.shape)\n",
    "np.save(embed_folder_path + '/entity_embeddings.npy', entity_embeddings)\n",
    "# Save the edge embeddings\n",
    "relation_embeddings = relation_embeddings.cpu().numpy()\n",
    "np.save(embed_folder_path + '/relation_embeddings.npy', relation_embeddings)\n",
    "print(relation_embeddings.shape)"
   ]
  }
 ],
 "metadata": {
  "kernelspec": {
   "display_name": "Python 3",
   "language": "python",
   "name": "python3"
  },
  "language_info": {
   "codemirror_mode": {
    "name": "ipython",
    "version": 3
   },
   "file_extension": ".py",
   "mimetype": "text/x-python",
   "name": "python",
   "nbconvert_exporter": "python",
   "pygments_lexer": "ipython3",
   "version": "3.10.13"
  }
 },
 "nbformat": 4,
 "nbformat_minor": 5
}
